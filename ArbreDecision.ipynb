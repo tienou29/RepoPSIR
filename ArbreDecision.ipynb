{
 "cells": [
  {
   "cell_type": "markdown",
   "id": "afb75f9d",
   "metadata": {
    "toc": true
   },
   "source": [
    "<h1>Table of Contents<span class=\"tocSkip\"></span></h1>\n",
    "<div class=\"toc\"><ul class=\"toc-item\"><li><span><a href=\"#Génération-d'un-arbre-de-décision\" data-toc-modified-id=\"Génération-d'un-arbre-de-décision-1\"><span class=\"toc-item-num\">1&nbsp;&nbsp;</span>Génération d'un arbre de décision</a></span><ul class=\"toc-item\"><li><span><a href=\"#Le-but-de-ce-modèle\" data-toc-modified-id=\"Le-but-de-ce-modèle-1.1\"><span class=\"toc-item-num\">1.1&nbsp;&nbsp;</span>Le but de ce modèle</a></span></li><li><span><a href=\"#Librairies\" data-toc-modified-id=\"Librairies-1.2\"><span class=\"toc-item-num\">1.2&nbsp;&nbsp;</span>Librairies</a></span></li></ul></li><li><span><a href=\"#Base-de-donnée\" data-toc-modified-id=\"Base-de-donnée-2\"><span class=\"toc-item-num\">2&nbsp;&nbsp;</span>Base de donnée</a></span><ul class=\"toc-item\"><li><span><a href=\"#Understerding-dataset\" data-toc-modified-id=\"Understerding-dataset-2.1\"><span class=\"toc-item-num\">2.1&nbsp;&nbsp;</span>Understerding dataset</a></span></li></ul></li><li><span><a href=\"#Nettoyer-et-créer-des-dummies-pour-chaque-quesitons\" data-toc-modified-id=\"Nettoyer-et-créer-des-dummies-pour-chaque-quesitons-3\"><span class=\"toc-item-num\">3&nbsp;&nbsp;</span>Nettoyer et créer des dummies pour chaque quesitons</a></span><ul class=\"toc-item\"><li><span><a href=\"#Selection-des-questions\" data-toc-modified-id=\"Selection-des-questions-3.1\"><span class=\"toc-item-num\">3.1&nbsp;&nbsp;</span>Selection des questions</a></span><ul class=\"toc-item\"><li><span><a href=\"#Qu'est-ce-que-les-dummies-?\" data-toc-modified-id=\"Qu'est-ce-que-les-dummies-?-3.1.1\"><span class=\"toc-item-num\">3.1.1&nbsp;&nbsp;</span>Qu'est ce que les dummies ?</a></span><ul class=\"toc-item\"><li><span><a href=\"#Exemple-des-Dummies-sur-la-col-1\" data-toc-modified-id=\"Exemple-des-Dummies-sur-la-col-1-3.1.1.1\"><span class=\"toc-item-num\">3.1.1.1&nbsp;&nbsp;</span>Exemple des Dummies sur la col 1</a></span></li><li><span><a href=\"#Dummies-pour-toutes-les-cols\" data-toc-modified-id=\"Dummies-pour-toutes-les-cols-3.1.1.2\"><span class=\"toc-item-num\">3.1.1.2&nbsp;&nbsp;</span>Dummies pour toutes les cols</a></span></li></ul></li></ul></li></ul></li><li><span><a href=\"#Selectionner-les-variables\" data-toc-modified-id=\"Selectionner-les-variables-4\"><span class=\"toc-item-num\">4&nbsp;&nbsp;</span>Selectionner les variables</a></span><ul class=\"toc-item\"><li><span><a href=\"#Les-variables-qualitatives,-dépendantes\" data-toc-modified-id=\"Les-variables-qualitatives,-dépendantes-4.1\"><span class=\"toc-item-num\">4.1&nbsp;&nbsp;</span>Les variables qualitatives, dépendantes</a></span></li><li><span><a href=\"#Créer-des-variables-quantitatives,-indépendantes\" data-toc-modified-id=\"Créer-des-variables-quantitatives,-indépendantes-4.2\"><span class=\"toc-item-num\">4.2&nbsp;&nbsp;</span>Créer des variables quantitatives, indépendantes</a></span></li><li><span><a href=\"#Base-de-donnée-finale,-fin-du-nettoyage\" data-toc-modified-id=\"Base-de-donnée-finale,-fin-du-nettoyage-4.3\"><span class=\"toc-item-num\">4.3&nbsp;&nbsp;</span>Base de donnée finale, fin du nettoyage</a></span></li></ul></li><li><span><a href=\"#Modèle\" data-toc-modified-id=\"Modèle-5\"><span class=\"toc-item-num\">5&nbsp;&nbsp;</span>Modèle</a></span><ul class=\"toc-item\"><li><span><a href=\"#Variables-dépendantes-/-Variables-indépendantes\" data-toc-modified-id=\"Variables-dépendantes-/-Variables-indépendantes-5.1\"><span class=\"toc-item-num\">5.1&nbsp;&nbsp;</span>Variables dépendantes / Variables indépendantes</a></span></li><li><span><a href=\"#Splitting-Data\" data-toc-modified-id=\"Splitting-Data-5.2\"><span class=\"toc-item-num\">5.2&nbsp;&nbsp;</span>Splitting Data</a></span></li><li><span><a href=\"#Construction-du-modèle-Arbre-de-Décision\" data-toc-modified-id=\"Construction-du-modèle-Arbre-de-Décision-5.3\"><span class=\"toc-item-num\">5.3&nbsp;&nbsp;</span>Construction du modèle Arbre de Décision</a></span></li></ul></li><li><span><a href=\"#Evaluation-du-modèle\" data-toc-modified-id=\"Evaluation-du-modèle-6\"><span class=\"toc-item-num\">6&nbsp;&nbsp;</span>Evaluation du modèle</a></span></li><li><span><a href=\"#Visualisation\" data-toc-modified-id=\"Visualisation-7\"><span class=\"toc-item-num\">7&nbsp;&nbsp;</span>Visualisation</a></span><ul class=\"toc-item\"><li><span><a href=\"#GINI-meaning\" data-toc-modified-id=\"GINI-meaning-7.1\"><span class=\"toc-item-num\">7.1&nbsp;&nbsp;</span>GINI meaning</a></span></li><li><span><a href=\"#Samples-meaning\" data-toc-modified-id=\"Samples-meaning-7.2\"><span class=\"toc-item-num\">7.2&nbsp;&nbsp;</span>Samples meaning</a></span></li><li><span><a href=\"#Value-meaning\" data-toc-modified-id=\"Value-meaning-7.3\"><span class=\"toc-item-num\">7.3&nbsp;&nbsp;</span>Value meaning</a></span></li><li><span><a href=\"#Explications-graphique\" data-toc-modified-id=\"Explications-graphique-7.4\"><span class=\"toc-item-num\">7.4&nbsp;&nbsp;</span>Explications graphique</a></span></li></ul></li><li><span><a href=\"#Conclusions-/-Axe-d'améliorations-/-Comprendre-l'évaluation-du-modèle\" data-toc-modified-id=\"Conclusions-/-Axe-d'améliorations-/-Comprendre-l'évaluation-du-modèle-8\"><span class=\"toc-item-num\">8&nbsp;&nbsp;</span>Conclusions / Axe d'améliorations / Comprendre l'évaluation du modèle</a></span><ul class=\"toc-item\"><li><span><a href=\"#Accuracy-0%,-pourquoi-?\" data-toc-modified-id=\"Accuracy-0%,-pourquoi-?-8.1\"><span class=\"toc-item-num\">8.1&nbsp;&nbsp;</span>Accuracy 0%, pourquoi ?</a></span></li><li><span><a href=\"#Comment-faire-mieux-?\" data-toc-modified-id=\"Comment-faire-mieux-?-8.2\"><span class=\"toc-item-num\">8.2&nbsp;&nbsp;</span>Comment faire mieux ?</a></span><ul class=\"toc-item\"><li><span><a href=\"#Conclusion\" data-toc-modified-id=\"Conclusion-8.2.1\"><span class=\"toc-item-num\">8.2.1&nbsp;&nbsp;</span>Conclusion</a></span></li></ul></li></ul></li></ul></div>"
   ]
  },
  {
   "cell_type": "markdown",
   "id": "221be8ad",
   "metadata": {},
   "source": [
    "# Génération d'un arbre de décision"
   ]
  },
  {
   "cell_type": "markdown",
   "id": "21cf08d9",
   "metadata": {},
   "source": [
    "L’arbre de décision a pour but de représenter les choix d’une population suite à une série de question.  La base de la pyramide finale décomposera la population d’origine en plusieurs groupes."
   ]
  },
  {
   "cell_type": "markdown",
   "id": "1ee2291e",
   "metadata": {},
   "source": [
    "## Le but de ce modèle"
   ]
  },
  {
   "cell_type": "markdown",
   "id": "bd3068fe",
   "metadata": {},
   "source": [
    "## Librairies"
   ]
  },
  {
   "cell_type": "code",
   "execution_count": 1,
   "id": "e8e8544c",
   "metadata": {},
   "outputs": [],
   "source": [
    "import pandas as pd"
   ]
  },
  {
   "cell_type": "code",
   "execution_count": 2,
   "id": "fd3c42fb",
   "metadata": {},
   "outputs": [],
   "source": [
    "from random import randint"
   ]
  },
  {
   "cell_type": "code",
   "execution_count": 3,
   "id": "b2216445",
   "metadata": {},
   "outputs": [],
   "source": [
    "import numpy as np"
   ]
  },
  {
   "cell_type": "code",
   "execution_count": 4,
   "id": "76ce4d64",
   "metadata": {},
   "outputs": [
    {
     "name": "stderr",
     "output_type": "stream",
     "text": [
      "<frozen importlib._bootstrap>:228: RuntimeWarning: scipy._lib.messagestream.MessageStream size changed, may indicate binary incompatibility. Expected 56 from C header, got 64 from PyObject\n"
     ]
    }
   ],
   "source": [
    "from sklearn.tree import DecisionTreeClassifier # Import Decision Tree Classifier\n",
    "from sklearn.model_selection import train_test_split # Import train_test_split function\n",
    "from sklearn import metrics #Import scikit-learn metrics module for accuracy calculation"
   ]
  },
  {
   "cell_type": "code",
   "execution_count": 5,
   "id": "754e2dfc",
   "metadata": {},
   "outputs": [],
   "source": [
    "from sklearn.tree import  plot_tree  #pour créer l'abre"
   ]
  },
  {
   "cell_type": "code",
   "execution_count": 6,
   "id": "6788e499",
   "metadata": {},
   "outputs": [],
   "source": [
    "import matplotlib.pyplot as plt  #pour visualiser l'abre"
   ]
  },
  {
   "cell_type": "markdown",
   "id": "1cbadca8",
   "metadata": {},
   "source": [
    "# Base de donnée"
   ]
  },
  {
   "cell_type": "markdown",
   "id": "a17a7f72",
   "metadata": {},
   "source": [
    "La base de donnée a été crée suite à un questionnaire google forms partagé aux étudiants de l'esaip. Nous avons eu 40 réponses. Ce questionnaire est un questionnaire officiel nommée ILS (Index of Learning Style)"
   ]
  },
  {
   "cell_type": "code",
   "execution_count": 7,
   "id": "7d79f920",
   "metadata": {},
   "outputs": [],
   "source": [
    "bd = pd.read_csv(\"ILSdataset.csv\")"
   ]
  },
  {
   "cell_type": "code",
   "execution_count": 8,
   "id": "d66516db",
   "metadata": {
    "scrolled": true
   },
   "outputs": [
    {
     "data": {
      "text/html": [
       "<div>\n",
       "<style scoped>\n",
       "    .dataframe tbody tr th:only-of-type {\n",
       "        vertical-align: middle;\n",
       "    }\n",
       "\n",
       "    .dataframe tbody tr th {\n",
       "        vertical-align: top;\n",
       "    }\n",
       "\n",
       "    .dataframe thead th {\n",
       "        text-align: right;\n",
       "    }\n",
       "</style>\n",
       "<table border=\"1\" class=\"dataframe\">\n",
       "  <thead>\n",
       "    <tr style=\"text-align: right;\">\n",
       "      <th></th>\n",
       "      <th>Horodateur</th>\n",
       "      <th>Je comprends mieux quelque chose après l'avoir :</th>\n",
       "      <th>Je préférerais être considéré comme :</th>\n",
       "      <th>Lorsque je pense à ce que j'ai fait hier, j'ai le plus de chances d'avoir :</th>\n",
       "      <th>J'ai tendance à :</th>\n",
       "      <th>Lorsque j'apprends quelque chose de nouveau, cela m'aide à :</th>\n",
       "      <th>Si j'étais enseignant, je préférerais donner un cours :</th>\n",
       "      <th>Je préfère obtenir de nouvelles informations sous forme :</th>\n",
       "      <th>Une fois que j'ai compris :</th>\n",
       "      <th>Dans un groupe d'étude travaillant sur une matière difficile, je suis plus enclin à :</th>\n",
       "      <th>...</th>\n",
       "      <th>Lorsque je rencontre des gens à une fête, j'ai plus de chances de me rappeler :</th>\n",
       "      <th>Lorsque j'apprends un nouveau sujet, je préfère :</th>\n",
       "      <th>Je suis plus susceptible d'être considéré comme : .1</th>\n",
       "      <th>Je préfère les cours qui mettent l'accent sur</th>\n",
       "      <th>Pour me divertir, je préfère :</th>\n",
       "      <th>Certains enseignants commencent leurs cours par un aperçu de ce qu'ils vont aborder.  Ces schémas sont :\\n</th>\n",
       "      <th>L'idée de faire les devoirs en groupe, avec une seule note pour l'ensemble du groupe, est une idée qui :</th>\n",
       "      <th>Lorsque je fais de longs calculs :</th>\n",
       "      <th>J'ai tendance à me souvenir des endroits où j'ai été :</th>\n",
       "      <th>Lorsque je résous des problèmes en groupe, j'ai davantage tendance à :</th>\n",
       "    </tr>\n",
       "  </thead>\n",
       "  <tbody>\n",
       "    <tr>\n",
       "      <th>0</th>\n",
       "      <td>26/04/2023 14:40:44</td>\n",
       "      <td>essayer</td>\n",
       "      <td>Réaliste</td>\n",
       "      <td>Une photo</td>\n",
       "      <td>Comprendre la structure générale mais peut êtr...</td>\n",
       "      <td>en parler</td>\n",
       "      <td>qui traite de faits et de situations réelles.</td>\n",
       "      <td>des images, des diagrammes, des graphiques ou ...</td>\n",
       "      <td>L'ensemble, je vois comment les parties s'embo...</td>\n",
       "      <td>participer et apporter des idées.</td>\n",
       "      <td>...</td>\n",
       "      <td>de leur apparence.</td>\n",
       "      <td>essayer d'établir des liens entre ce sujet et ...</td>\n",
       "      <td>réservé(e).</td>\n",
       "      <td>le matériel concret (faits, données).</td>\n",
       "      <td>regarder la télévision.</td>\n",
       "      <td>assez utiles pour moi.</td>\n",
       "      <td>me plaît., ne me plaît pas.</td>\n",
       "      <td>j'ai tendance à répéter toutes mes étapes et à...</td>\n",
       "      <td>facilement et assez précisément.</td>\n",
       "      <td>penser aux étapes du processus de résolution.</td>\n",
       "    </tr>\n",
       "    <tr>\n",
       "      <th>1</th>\n",
       "      <td>26/04/2023 14:40:44</td>\n",
       "      <td>y avoir réfléchi</td>\n",
       "      <td>Innovant</td>\n",
       "      <td>Des mots</td>\n",
       "      <td>Comprendre la structure générale mais peut êtr...</td>\n",
       "      <td>en parler</td>\n",
       "      <td>qui traite de faits et de situations réelles.</td>\n",
       "      <td>des images, des diagrammes, des graphiques ou ...</td>\n",
       "      <td>L'ensemble, je vois comment les parties s'embo...</td>\n",
       "      <td>m'asseoir et écouter</td>\n",
       "      <td>...</td>\n",
       "      <td>de ce qu'ils ont dit d'eux-mêmes.</td>\n",
       "      <td>rester concentré sur ce sujet et en apprendre ...</td>\n",
       "      <td>extraverti(e).</td>\n",
       "      <td>le matériel concret (faits, données).</td>\n",
       "      <td>regarder la télévision.</td>\n",
       "      <td>assez utiles pour moi.</td>\n",
       "      <td>me plaît.</td>\n",
       "      <td>j'ai tendance à répéter toutes mes étapes et à...</td>\n",
       "      <td>facilement et assez précisément.</td>\n",
       "      <td>penser aux étapes du processus de résolution.</td>\n",
       "    </tr>\n",
       "    <tr>\n",
       "      <th>2</th>\n",
       "      <td>26/04/2023 14:43:07</td>\n",
       "      <td>essayer</td>\n",
       "      <td>Réaliste</td>\n",
       "      <td>Une photo</td>\n",
       "      <td>Comprendre la structure générale mais peut êtr...</td>\n",
       "      <td>en parler, y réfléchir</td>\n",
       "      <td>qui traite de faits et de situations réelles.</td>\n",
       "      <td>des images, des diagrammes, des graphiques ou ...</td>\n",
       "      <td>L'ensemble, je vois comment les parties s'embo...</td>\n",
       "      <td>m'asseoir et écouter</td>\n",
       "      <td>...</td>\n",
       "      <td>de leur apparence.</td>\n",
       "      <td>rester concentré sur ce sujet et en apprendre ...</td>\n",
       "      <td>réservé(e).</td>\n",
       "      <td>le matériel concret (faits, données).</td>\n",
       "      <td>regarder la télévision.</td>\n",
       "      <td>très utiles pour moi.</td>\n",
       "      <td>me plaît.</td>\n",
       "      <td>j'ai tendance à répéter toutes mes étapes et à...</td>\n",
       "      <td>facilement et assez précisément.</td>\n",
       "      <td>penser aux étapes du processus de résolution.</td>\n",
       "    </tr>\n",
       "    <tr>\n",
       "      <th>3</th>\n",
       "      <td>26/04/2023 14:44:19</td>\n",
       "      <td>y avoir réfléchi</td>\n",
       "      <td>Réaliste</td>\n",
       "      <td>Une photo</td>\n",
       "      <td>Comprendre la structure générale mais peut êtr...</td>\n",
       "      <td>y réfléchir</td>\n",
       "      <td>qui traite d'idées et de théories.</td>\n",
       "      <td>des images, des diagrammes, des graphiques ou ...</td>\n",
       "      <td>L'ensemble, je vois comment les parties s'embo...</td>\n",
       "      <td>participer et apporter des idées.</td>\n",
       "      <td>...</td>\n",
       "      <td>de leur apparence.</td>\n",
       "      <td>essayer d'établir des liens entre ce sujet et ...</td>\n",
       "      <td>extraverti(e).</td>\n",
       "      <td>le matériel abstrait (concepts, théories).</td>\n",
       "      <td>regarder la télévision., lire un livre.</td>\n",
       "      <td>assez utiles pour moi.</td>\n",
       "      <td>me plaît., ne me plaît pas.</td>\n",
       "      <td>je trouve fastidieux de vérifier mon travail e...</td>\n",
       "      <td>facilement et assez précisément.</td>\n",
       "      <td>penser aux étapes du processus de résolution.</td>\n",
       "    </tr>\n",
       "    <tr>\n",
       "      <th>4</th>\n",
       "      <td>26/04/2023 14:51:01</td>\n",
       "      <td>essayer</td>\n",
       "      <td>Innovant</td>\n",
       "      <td>Des mots</td>\n",
       "      <td>Comprendre les détails d'un sujet, mais ne pas...</td>\n",
       "      <td>y réfléchir</td>\n",
       "      <td>qui traite de faits et de situations réelles.</td>\n",
       "      <td>des images, des diagrammes, des graphiques ou ...</td>\n",
       "      <td>L'ensemble, je vois comment les parties s'embo...</td>\n",
       "      <td>participer et apporter des idées.</td>\n",
       "      <td>...</td>\n",
       "      <td>de leur apparence.</td>\n",
       "      <td>rester concentré sur ce sujet et en apprendre ...</td>\n",
       "      <td>extraverti(e).</td>\n",
       "      <td>le matériel concret (faits, données).</td>\n",
       "      <td>regarder la télévision.</td>\n",
       "      <td>assez utiles pour moi.</td>\n",
       "      <td>me plaît.</td>\n",
       "      <td>je trouve fastidieux de vérifier mon travail e...</td>\n",
       "      <td>facilement et assez précisément.</td>\n",
       "      <td>penser aux étapes du processus de résolution.</td>\n",
       "    </tr>\n",
       "  </tbody>\n",
       "</table>\n",
       "<p>5 rows × 45 columns</p>\n",
       "</div>"
      ],
      "text/plain": [
       "            Horodateur Je comprends mieux quelque chose après l'avoir :  \\\n",
       "0  26/04/2023 14:40:44                                          essayer   \n",
       "1  26/04/2023 14:40:44                                 y avoir réfléchi   \n",
       "2  26/04/2023 14:43:07                                          essayer   \n",
       "3  26/04/2023 14:44:19                                 y avoir réfléchi   \n",
       "4  26/04/2023 14:51:01                                          essayer   \n",
       "\n",
       "  Je préférerais être considéré comme :  \\\n",
       "0                              Réaliste   \n",
       "1                              Innovant   \n",
       "2                              Réaliste   \n",
       "3                              Réaliste   \n",
       "4                              Innovant   \n",
       "\n",
       "  Lorsque je pense à ce que j'ai fait hier, j'ai le plus de chances d'avoir :   \\\n",
       "0                                          Une photo                             \n",
       "1                                           Des mots                             \n",
       "2                                          Une photo                             \n",
       "3                                          Une photo                             \n",
       "4                                           Des mots                             \n",
       "\n",
       "                                  J'ai tendance à :   \\\n",
       "0  Comprendre la structure générale mais peut êtr...   \n",
       "1  Comprendre la structure générale mais peut êtr...   \n",
       "2  Comprendre la structure générale mais peut êtr...   \n",
       "3  Comprendre la structure générale mais peut êtr...   \n",
       "4  Comprendre les détails d'un sujet, mais ne pas...   \n",
       "\n",
       "  Lorsque j'apprends quelque chose de nouveau, cela m'aide à :   \\\n",
       "0                                          en parler              \n",
       "1                                          en parler              \n",
       "2                             en parler, y réfléchir              \n",
       "3                                        y réfléchir              \n",
       "4                                        y réfléchir              \n",
       "\n",
       "  Si j'étais enseignant, je préférerais donner un cours :   \\\n",
       "0      qui traite de faits et de situations réelles.         \n",
       "1      qui traite de faits et de situations réelles.         \n",
       "2      qui traite de faits et de situations réelles.         \n",
       "3                 qui traite d'idées et de théories.         \n",
       "4      qui traite de faits et de situations réelles.         \n",
       "\n",
       "  Je préfère obtenir de nouvelles informations sous forme :   \\\n",
       "0  des images, des diagrammes, des graphiques ou ...           \n",
       "1  des images, des diagrammes, des graphiques ou ...           \n",
       "2  des images, des diagrammes, des graphiques ou ...           \n",
       "3  des images, des diagrammes, des graphiques ou ...           \n",
       "4  des images, des diagrammes, des graphiques ou ...           \n",
       "\n",
       "                        Une fois que j'ai compris :   \\\n",
       "0  L'ensemble, je vois comment les parties s'embo...   \n",
       "1  L'ensemble, je vois comment les parties s'embo...   \n",
       "2  L'ensemble, je vois comment les parties s'embo...   \n",
       "3  L'ensemble, je vois comment les parties s'embo...   \n",
       "4  L'ensemble, je vois comment les parties s'embo...   \n",
       "\n",
       "  Dans un groupe d'étude travaillant sur une matière difficile, je suis plus enclin à :   \\\n",
       "0                  participer et apporter des idées.                                       \n",
       "1                               m'asseoir et écouter                                       \n",
       "2                               m'asseoir et écouter                                       \n",
       "3                  participer et apporter des idées.                                       \n",
       "4                  participer et apporter des idées.                                       \n",
       "\n",
       "   ...  \\\n",
       "0  ...   \n",
       "1  ...   \n",
       "2  ...   \n",
       "3  ...   \n",
       "4  ...   \n",
       "\n",
       "  Lorsque je rencontre des gens à une fête, j'ai plus de chances de me rappeler :   \\\n",
       "0                                 de leur apparence.                                 \n",
       "1                  de ce qu'ils ont dit d'eux-mêmes.                                 \n",
       "2                                 de leur apparence.                                 \n",
       "3                                 de leur apparence.                                 \n",
       "4                                 de leur apparence.                                 \n",
       "\n",
       "  Lorsque j'apprends un nouveau sujet, je préfère :   \\\n",
       "0  essayer d'établir des liens entre ce sujet et ...   \n",
       "1  rester concentré sur ce sujet et en apprendre ...   \n",
       "2  rester concentré sur ce sujet et en apprendre ...   \n",
       "3  essayer d'établir des liens entre ce sujet et ...   \n",
       "4  rester concentré sur ce sujet et en apprendre ...   \n",
       "\n",
       "  Je suis plus susceptible d'être considéré comme : .1  \\\n",
       "0                                        réservé(e).     \n",
       "1                                     extraverti(e).     \n",
       "2                                        réservé(e).     \n",
       "3                                     extraverti(e).     \n",
       "4                                     extraverti(e).     \n",
       "\n",
       "  Je préfère les cours qui mettent l'accent sur  \\\n",
       "0         le matériel concret (faits, données).   \n",
       "1         le matériel concret (faits, données).   \n",
       "2         le matériel concret (faits, données).   \n",
       "3    le matériel abstrait (concepts, théories).   \n",
       "4         le matériel concret (faits, données).   \n",
       "\n",
       "           Pour me divertir, je préfère :   \\\n",
       "0                  regarder la télévision.   \n",
       "1                  regarder la télévision.   \n",
       "2                  regarder la télévision.   \n",
       "3  regarder la télévision., lire un livre.   \n",
       "4                  regarder la télévision.   \n",
       "\n",
       "  Certains enseignants commencent leurs cours par un aperçu de ce qu'ils vont aborder.  Ces schémas sont :\\n  \\\n",
       "0                             assez utiles pour moi.                                                           \n",
       "1                             assez utiles pour moi.                                                           \n",
       "2                              très utiles pour moi.                                                           \n",
       "3                             assez utiles pour moi.                                                           \n",
       "4                             assez utiles pour moi.                                                           \n",
       "\n",
       "  L'idée de faire les devoirs en groupe, avec une seule note pour l'ensemble du groupe, est une idée qui :   \\\n",
       "0                        me plaît., ne me plaît pas.                                                          \n",
       "1                                          me plaît.                                                          \n",
       "2                                          me plaît.                                                          \n",
       "3                        me plaît., ne me plaît pas.                                                          \n",
       "4                                          me plaît.                                                          \n",
       "\n",
       "                 Lorsque je fais de longs calculs :   \\\n",
       "0  j'ai tendance à répéter toutes mes étapes et à...   \n",
       "1  j'ai tendance à répéter toutes mes étapes et à...   \n",
       "2  j'ai tendance à répéter toutes mes étapes et à...   \n",
       "3  je trouve fastidieux de vérifier mon travail e...   \n",
       "4  je trouve fastidieux de vérifier mon travail e...   \n",
       "\n",
       "  J'ai tendance à me souvenir des endroits où j'ai été :   \\\n",
       "0                   facilement et assez précisément.        \n",
       "1                   facilement et assez précisément.        \n",
       "2                   facilement et assez précisément.        \n",
       "3                   facilement et assez précisément.        \n",
       "4                   facilement et assez précisément.        \n",
       "\n",
       "  Lorsque je résous des problèmes en groupe, j'ai davantage tendance à :   \n",
       "0      penser aux étapes du processus de résolution.                       \n",
       "1      penser aux étapes du processus de résolution.                       \n",
       "2      penser aux étapes du processus de résolution.                       \n",
       "3      penser aux étapes du processus de résolution.                       \n",
       "4      penser aux étapes du processus de résolution.                       \n",
       "\n",
       "[5 rows x 45 columns]"
      ]
     },
     "execution_count": 8,
     "metadata": {},
     "output_type": "execute_result"
    }
   ],
   "source": [
    "bd.head()"
   ]
  },
  {
   "cell_type": "markdown",
   "id": "ab2eef96",
   "metadata": {},
   "source": [
    "## Understerding dataset"
   ]
  },
  {
   "cell_type": "code",
   "execution_count": 9,
   "id": "2b39ce70",
   "metadata": {},
   "outputs": [
    {
     "data": {
      "text/plain": [
       "(40, 45)"
      ]
     },
     "execution_count": 9,
     "metadata": {},
     "output_type": "execute_result"
    }
   ],
   "source": [
    "bd.shape"
   ]
  },
  {
   "cell_type": "code",
   "execution_count": 10,
   "id": "933290f4",
   "metadata": {},
   "outputs": [
    {
     "data": {
      "text/html": [
       "<div>\n",
       "<style scoped>\n",
       "    .dataframe tbody tr th:only-of-type {\n",
       "        vertical-align: middle;\n",
       "    }\n",
       "\n",
       "    .dataframe tbody tr th {\n",
       "        vertical-align: top;\n",
       "    }\n",
       "\n",
       "    .dataframe thead th {\n",
       "        text-align: right;\n",
       "    }\n",
       "</style>\n",
       "<table border=\"1\" class=\"dataframe\">\n",
       "  <thead>\n",
       "    <tr style=\"text-align: right;\">\n",
       "      <th></th>\n",
       "      <th>Horodateur</th>\n",
       "      <th>Je comprends mieux quelque chose après l'avoir :</th>\n",
       "      <th>Je préférerais être considéré comme :</th>\n",
       "      <th>Lorsque je pense à ce que j'ai fait hier, j'ai le plus de chances d'avoir :</th>\n",
       "      <th>J'ai tendance à :</th>\n",
       "      <th>Lorsque j'apprends quelque chose de nouveau, cela m'aide à :</th>\n",
       "      <th>Si j'étais enseignant, je préférerais donner un cours :</th>\n",
       "      <th>Je préfère obtenir de nouvelles informations sous forme :</th>\n",
       "      <th>Une fois que j'ai compris :</th>\n",
       "      <th>Dans un groupe d'étude travaillant sur une matière difficile, je suis plus enclin à :</th>\n",
       "      <th>...</th>\n",
       "      <th>Lorsque je rencontre des gens à une fête, j'ai plus de chances de me rappeler :</th>\n",
       "      <th>Lorsque j'apprends un nouveau sujet, je préfère :</th>\n",
       "      <th>Je suis plus susceptible d'être considéré comme : .1</th>\n",
       "      <th>Je préfère les cours qui mettent l'accent sur</th>\n",
       "      <th>Pour me divertir, je préfère :</th>\n",
       "      <th>Certains enseignants commencent leurs cours par un aperçu de ce qu'ils vont aborder.  Ces schémas sont :\\n</th>\n",
       "      <th>L'idée de faire les devoirs en groupe, avec une seule note pour l'ensemble du groupe, est une idée qui :</th>\n",
       "      <th>Lorsque je fais de longs calculs :</th>\n",
       "      <th>J'ai tendance à me souvenir des endroits où j'ai été :</th>\n",
       "      <th>Lorsque je résous des problèmes en groupe, j'ai davantage tendance à :</th>\n",
       "    </tr>\n",
       "  </thead>\n",
       "  <tbody>\n",
       "    <tr>\n",
       "      <th>count</th>\n",
       "      <td>40</td>\n",
       "      <td>40</td>\n",
       "      <td>40</td>\n",
       "      <td>40</td>\n",
       "      <td>40</td>\n",
       "      <td>40</td>\n",
       "      <td>40</td>\n",
       "      <td>40</td>\n",
       "      <td>40</td>\n",
       "      <td>40</td>\n",
       "      <td>...</td>\n",
       "      <td>40</td>\n",
       "      <td>40</td>\n",
       "      <td>40</td>\n",
       "      <td>40</td>\n",
       "      <td>40</td>\n",
       "      <td>40</td>\n",
       "      <td>40</td>\n",
       "      <td>40</td>\n",
       "      <td>40</td>\n",
       "      <td>40</td>\n",
       "    </tr>\n",
       "    <tr>\n",
       "      <th>unique</th>\n",
       "      <td>39</td>\n",
       "      <td>2</td>\n",
       "      <td>2</td>\n",
       "      <td>2</td>\n",
       "      <td>3</td>\n",
       "      <td>3</td>\n",
       "      <td>2</td>\n",
       "      <td>3</td>\n",
       "      <td>3</td>\n",
       "      <td>2</td>\n",
       "      <td>...</td>\n",
       "      <td>3</td>\n",
       "      <td>2</td>\n",
       "      <td>3</td>\n",
       "      <td>2</td>\n",
       "      <td>3</td>\n",
       "      <td>2</td>\n",
       "      <td>3</td>\n",
       "      <td>3</td>\n",
       "      <td>3</td>\n",
       "      <td>2</td>\n",
       "    </tr>\n",
       "    <tr>\n",
       "      <th>top</th>\n",
       "      <td>26/04/2023 14:40:44</td>\n",
       "      <td>essayer</td>\n",
       "      <td>Réaliste</td>\n",
       "      <td>Une photo</td>\n",
       "      <td>Comprendre la structure générale mais peut êtr...</td>\n",
       "      <td>en parler</td>\n",
       "      <td>qui traite de faits et de situations réelles.</td>\n",
       "      <td>des images, des diagrammes, des graphiques ou ...</td>\n",
       "      <td>L'ensemble, je vois comment les parties s'embo...</td>\n",
       "      <td>participer et apporter des idées.</td>\n",
       "      <td>...</td>\n",
       "      <td>de leur apparence.</td>\n",
       "      <td>rester concentré sur ce sujet et en apprendre ...</td>\n",
       "      <td>réservé(e).</td>\n",
       "      <td>le matériel concret (faits, données).</td>\n",
       "      <td>regarder la télévision.</td>\n",
       "      <td>assez utiles pour moi.</td>\n",
       "      <td>me plaît.</td>\n",
       "      <td>j'ai tendance à répéter toutes mes étapes et à...</td>\n",
       "      <td>facilement et assez précisément.</td>\n",
       "      <td>penser aux étapes du processus de résolution.</td>\n",
       "    </tr>\n",
       "    <tr>\n",
       "      <th>freq</th>\n",
       "      <td>2</td>\n",
       "      <td>31</td>\n",
       "      <td>23</td>\n",
       "      <td>26</td>\n",
       "      <td>27</td>\n",
       "      <td>20</td>\n",
       "      <td>30</td>\n",
       "      <td>36</td>\n",
       "      <td>21</td>\n",
       "      <td>24</td>\n",
       "      <td>...</td>\n",
       "      <td>31</td>\n",
       "      <td>22</td>\n",
       "      <td>20</td>\n",
       "      <td>32</td>\n",
       "      <td>24</td>\n",
       "      <td>23</td>\n",
       "      <td>23</td>\n",
       "      <td>21</td>\n",
       "      <td>28</td>\n",
       "      <td>30</td>\n",
       "    </tr>\n",
       "  </tbody>\n",
       "</table>\n",
       "<p>4 rows × 45 columns</p>\n",
       "</div>"
      ],
      "text/plain": [
       "                 Horodateur Je comprends mieux quelque chose après l'avoir :  \\\n",
       "count                    40                                               40   \n",
       "unique                   39                                                2   \n",
       "top     26/04/2023 14:40:44                                          essayer   \n",
       "freq                      2                                               31   \n",
       "\n",
       "       Je préférerais être considéré comme :  \\\n",
       "count                                     40   \n",
       "unique                                     2   \n",
       "top                                 Réaliste   \n",
       "freq                                      23   \n",
       "\n",
       "       Lorsque je pense à ce que j'ai fait hier, j'ai le plus de chances d'avoir :   \\\n",
       "count                                                  40                             \n",
       "unique                                                  2                             \n",
       "top                                             Une photo                             \n",
       "freq                                                   26                             \n",
       "\n",
       "                                       J'ai tendance à :   \\\n",
       "count                                                  40   \n",
       "unique                                                  3   \n",
       "top     Comprendre la structure générale mais peut êtr...   \n",
       "freq                                                   27   \n",
       "\n",
       "       Lorsque j'apprends quelque chose de nouveau, cela m'aide à :   \\\n",
       "count                                                  40              \n",
       "unique                                                  3              \n",
       "top                                             en parler              \n",
       "freq                                                   20              \n",
       "\n",
       "       Si j'étais enseignant, je préférerais donner un cours :   \\\n",
       "count                                                  40         \n",
       "unique                                                  2         \n",
       "top         qui traite de faits et de situations réelles.         \n",
       "freq                                                   30         \n",
       "\n",
       "       Je préfère obtenir de nouvelles informations sous forme :   \\\n",
       "count                                                  40           \n",
       "unique                                                  3           \n",
       "top     des images, des diagrammes, des graphiques ou ...           \n",
       "freq                                                   36           \n",
       "\n",
       "                             Une fois que j'ai compris :   \\\n",
       "count                                                  40   \n",
       "unique                                                  3   \n",
       "top     L'ensemble, je vois comment les parties s'embo...   \n",
       "freq                                                   21   \n",
       "\n",
       "       Dans un groupe d'étude travaillant sur une matière difficile, je suis plus enclin à :   \\\n",
       "count                                                  40                                       \n",
       "unique                                                  2                                       \n",
       "top                     participer et apporter des idées.                                       \n",
       "freq                                                   24                                       \n",
       "\n",
       "        ...  \\\n",
       "count   ...   \n",
       "unique  ...   \n",
       "top     ...   \n",
       "freq    ...   \n",
       "\n",
       "       Lorsque je rencontre des gens à une fête, j'ai plus de chances de me rappeler :   \\\n",
       "count                                                  40                                 \n",
       "unique                                                  3                                 \n",
       "top                                    de leur apparence.                                 \n",
       "freq                                                   31                                 \n",
       "\n",
       "       Lorsque j'apprends un nouveau sujet, je préfère :   \\\n",
       "count                                                  40   \n",
       "unique                                                  2   \n",
       "top     rester concentré sur ce sujet et en apprendre ...   \n",
       "freq                                                   22   \n",
       "\n",
       "       Je suis plus susceptible d'être considéré comme : .1  \\\n",
       "count                                                  40     \n",
       "unique                                                  3     \n",
       "top                                           réservé(e).     \n",
       "freq                                                   20     \n",
       "\n",
       "       Je préfère les cours qui mettent l'accent sur  \\\n",
       "count                                             40   \n",
       "unique                                             2   \n",
       "top            le matériel concret (faits, données).   \n",
       "freq                                              32   \n",
       "\n",
       "       Pour me divertir, je préfère :   \\\n",
       "count                               40   \n",
       "unique                               3   \n",
       "top            regarder la télévision.   \n",
       "freq                                24   \n",
       "\n",
       "       Certains enseignants commencent leurs cours par un aperçu de ce qu'ils vont aborder.  Ces schémas sont :\\n  \\\n",
       "count                                                  40                                                           \n",
       "unique                                                  2                                                           \n",
       "top                                assez utiles pour moi.                                                           \n",
       "freq                                                   23                                                           \n",
       "\n",
       "       L'idée de faire les devoirs en groupe, avec une seule note pour l'ensemble du groupe, est une idée qui :   \\\n",
       "count                                                  40                                                          \n",
       "unique                                                  3                                                          \n",
       "top                                             me plaît.                                                          \n",
       "freq                                                   23                                                          \n",
       "\n",
       "                      Lorsque je fais de longs calculs :   \\\n",
       "count                                                  40   \n",
       "unique                                                  3   \n",
       "top     j'ai tendance à répéter toutes mes étapes et à...   \n",
       "freq                                                   21   \n",
       "\n",
       "       J'ai tendance à me souvenir des endroits où j'ai été :   \\\n",
       "count                                                  40        \n",
       "unique                                                  3        \n",
       "top                      facilement et assez précisément.        \n",
       "freq                                                   28        \n",
       "\n",
       "       Lorsque je résous des problèmes en groupe, j'ai davantage tendance à :   \n",
       "count                                                  40                       \n",
       "unique                                                  2                       \n",
       "top         penser aux étapes du processus de résolution.                       \n",
       "freq                                                   30                       \n",
       "\n",
       "[4 rows x 45 columns]"
      ]
     },
     "execution_count": 10,
     "metadata": {},
     "output_type": "execute_result"
    }
   ],
   "source": [
    "bd.describe()"
   ]
  },
  {
   "cell_type": "code",
   "execution_count": 11,
   "id": "20c5bd5d",
   "metadata": {},
   "outputs": [
    {
     "data": {
      "text/plain": [
       "essayer             31\n",
       "y avoir réfléchi     9\n",
       "Name: Je comprends mieux quelque chose après l'avoir :, dtype: int64"
      ]
     },
     "execution_count": 11,
     "metadata": {},
     "output_type": "execute_result"
    }
   ],
   "source": [
    "bd[\"Je comprends mieux quelque chose après l'avoir :\"].value_counts()"
   ]
  },
  {
   "cell_type": "markdown",
   "id": "3e307978",
   "metadata": {},
   "source": [
    "# Nettoyer et créer des dummies pour chaque quesitons"
   ]
  },
  {
   "cell_type": "code",
   "execution_count": 12,
   "id": "42fda3d2",
   "metadata": {},
   "outputs": [],
   "source": [
    "bd = bd.drop(['Horodateur'], axis=1)\n",
    "#suppression d'une colonne qui n'aura pas d'utilité dans notre expérience"
   ]
  },
  {
   "cell_type": "code",
   "execution_count": 13,
   "id": "1c8a9578",
   "metadata": {
    "scrolled": true
   },
   "outputs": [
    {
     "data": {
      "text/html": [
       "<div>\n",
       "<style scoped>\n",
       "    .dataframe tbody tr th:only-of-type {\n",
       "        vertical-align: middle;\n",
       "    }\n",
       "\n",
       "    .dataframe tbody tr th {\n",
       "        vertical-align: top;\n",
       "    }\n",
       "\n",
       "    .dataframe thead th {\n",
       "        text-align: right;\n",
       "    }\n",
       "</style>\n",
       "<table border=\"1\" class=\"dataframe\">\n",
       "  <thead>\n",
       "    <tr style=\"text-align: right;\">\n",
       "      <th></th>\n",
       "      <th>Je comprends mieux quelque chose après l'avoir :</th>\n",
       "      <th>Je préférerais être considéré comme :</th>\n",
       "      <th>Lorsque je pense à ce que j'ai fait hier, j'ai le plus de chances d'avoir :</th>\n",
       "      <th>J'ai tendance à :</th>\n",
       "      <th>Lorsque j'apprends quelque chose de nouveau, cela m'aide à :</th>\n",
       "      <th>Si j'étais enseignant, je préférerais donner un cours :</th>\n",
       "      <th>Je préfère obtenir de nouvelles informations sous forme :</th>\n",
       "      <th>Une fois que j'ai compris :</th>\n",
       "      <th>Dans un groupe d'étude travaillant sur une matière difficile, je suis plus enclin à :</th>\n",
       "      <th>Je trouve qu'il est plus facile :</th>\n",
       "      <th>...</th>\n",
       "      <th>Lorsque je rencontre des gens à une fête, j'ai plus de chances de me rappeler :</th>\n",
       "      <th>Lorsque j'apprends un nouveau sujet, je préfère :</th>\n",
       "      <th>Je suis plus susceptible d'être considéré comme : .1</th>\n",
       "      <th>Je préfère les cours qui mettent l'accent sur</th>\n",
       "      <th>Pour me divertir, je préfère :</th>\n",
       "      <th>Certains enseignants commencent leurs cours par un aperçu de ce qu'ils vont aborder.  Ces schémas sont :\\n</th>\n",
       "      <th>L'idée de faire les devoirs en groupe, avec une seule note pour l'ensemble du groupe, est une idée qui :</th>\n",
       "      <th>Lorsque je fais de longs calculs :</th>\n",
       "      <th>J'ai tendance à me souvenir des endroits où j'ai été :</th>\n",
       "      <th>Lorsque je résous des problèmes en groupe, j'ai davantage tendance à :</th>\n",
       "    </tr>\n",
       "  </thead>\n",
       "  <tbody>\n",
       "    <tr>\n",
       "      <th>0</th>\n",
       "      <td>essayer</td>\n",
       "      <td>Réaliste</td>\n",
       "      <td>Une photo</td>\n",
       "      <td>Comprendre la structure générale mais peut êtr...</td>\n",
       "      <td>en parler</td>\n",
       "      <td>qui traite de faits et de situations réelles.</td>\n",
       "      <td>des images, des diagrammes, des graphiques ou ...</td>\n",
       "      <td>L'ensemble, je vois comment les parties s'embo...</td>\n",
       "      <td>participer et apporter des idées.</td>\n",
       "      <td>d'apprendre des concepts.</td>\n",
       "      <td>...</td>\n",
       "      <td>de leur apparence.</td>\n",
       "      <td>essayer d'établir des liens entre ce sujet et ...</td>\n",
       "      <td>réservé(e).</td>\n",
       "      <td>le matériel concret (faits, données).</td>\n",
       "      <td>regarder la télévision.</td>\n",
       "      <td>assez utiles pour moi.</td>\n",
       "      <td>me plaît., ne me plaît pas.</td>\n",
       "      <td>j'ai tendance à répéter toutes mes étapes et à...</td>\n",
       "      <td>facilement et assez précisément.</td>\n",
       "      <td>penser aux étapes du processus de résolution.</td>\n",
       "    </tr>\n",
       "  </tbody>\n",
       "</table>\n",
       "<p>1 rows × 44 columns</p>\n",
       "</div>"
      ],
      "text/plain": [
       "  Je comprends mieux quelque chose après l'avoir :  \\\n",
       "0                                          essayer   \n",
       "\n",
       "  Je préférerais être considéré comme :  \\\n",
       "0                              Réaliste   \n",
       "\n",
       "  Lorsque je pense à ce que j'ai fait hier, j'ai le plus de chances d'avoir :   \\\n",
       "0                                          Une photo                             \n",
       "\n",
       "                                  J'ai tendance à :   \\\n",
       "0  Comprendre la structure générale mais peut êtr...   \n",
       "\n",
       "  Lorsque j'apprends quelque chose de nouveau, cela m'aide à :   \\\n",
       "0                                          en parler              \n",
       "\n",
       "  Si j'étais enseignant, je préférerais donner un cours :   \\\n",
       "0      qui traite de faits et de situations réelles.         \n",
       "\n",
       "  Je préfère obtenir de nouvelles informations sous forme :   \\\n",
       "0  des images, des diagrammes, des graphiques ou ...           \n",
       "\n",
       "                        Une fois que j'ai compris :   \\\n",
       "0  L'ensemble, je vois comment les parties s'embo...   \n",
       "\n",
       "  Dans un groupe d'étude travaillant sur une matière difficile, je suis plus enclin à :   \\\n",
       "0                  participer et apporter des idées.                                       \n",
       "\n",
       "  Je trouve qu'il est plus facile :   ...  \\\n",
       "0          d'apprendre des concepts.  ...   \n",
       "\n",
       "  Lorsque je rencontre des gens à une fête, j'ai plus de chances de me rappeler :   \\\n",
       "0                                 de leur apparence.                                 \n",
       "\n",
       "  Lorsque j'apprends un nouveau sujet, je préfère :   \\\n",
       "0  essayer d'établir des liens entre ce sujet et ...   \n",
       "\n",
       "  Je suis plus susceptible d'être considéré comme : .1  \\\n",
       "0                                        réservé(e).     \n",
       "\n",
       "  Je préfère les cours qui mettent l'accent sur  \\\n",
       "0         le matériel concret (faits, données).   \n",
       "\n",
       "  Pour me divertir, je préfère :   \\\n",
       "0         regarder la télévision.   \n",
       "\n",
       "  Certains enseignants commencent leurs cours par un aperçu de ce qu'ils vont aborder.  Ces schémas sont :\\n  \\\n",
       "0                             assez utiles pour moi.                                                           \n",
       "\n",
       "  L'idée de faire les devoirs en groupe, avec une seule note pour l'ensemble du groupe, est une idée qui :   \\\n",
       "0                        me plaît., ne me plaît pas.                                                          \n",
       "\n",
       "                 Lorsque je fais de longs calculs :   \\\n",
       "0  j'ai tendance à répéter toutes mes étapes et à...   \n",
       "\n",
       "  J'ai tendance à me souvenir des endroits où j'ai été :   \\\n",
       "0                   facilement et assez précisément.        \n",
       "\n",
       "  Lorsque je résous des problèmes en groupe, j'ai davantage tendance à :   \n",
       "0      penser aux étapes du processus de résolution.                       \n",
       "\n",
       "[1 rows x 44 columns]"
      ]
     },
     "execution_count": 13,
     "metadata": {},
     "output_type": "execute_result"
    }
   ],
   "source": [
    "bd.head(1)"
   ]
  },
  {
   "cell_type": "markdown",
   "id": "dad1cf5e",
   "metadata": {},
   "source": [
    "## Selection des questions"
   ]
  },
  {
   "cell_type": "markdown",
   "id": "4565cde9-ab91-458e-b437-bd210162afe2",
   "metadata": {},
   "source": [
    "L'objectif ici est de réduire le nombre de questions. Car nous avons eu que 40 réponses et il y a trop de questions. Ainsi, il y a pas de pattern qui se dégagera. "
   ]
  },
  {
   "cell_type": "code",
   "execution_count": 14,
   "id": "52101d1f",
   "metadata": {},
   "outputs": [
    {
     "data": {
      "text/html": [
       "<div>\n",
       "<style scoped>\n",
       "    .dataframe tbody tr th:only-of-type {\n",
       "        vertical-align: middle;\n",
       "    }\n",
       "\n",
       "    .dataframe tbody tr th {\n",
       "        vertical-align: top;\n",
       "    }\n",
       "\n",
       "    .dataframe thead th {\n",
       "        text-align: right;\n",
       "    }\n",
       "</style>\n",
       "<table border=\"1\" class=\"dataframe\">\n",
       "  <thead>\n",
       "    <tr style=\"text-align: right;\">\n",
       "      <th></th>\n",
       "      <th>Je comprends mieux quelque chose après l'avoir :</th>\n",
       "      <th>Je préférerais être considéré comme :</th>\n",
       "      <th>Lorsque je pense à ce que j'ai fait hier, j'ai le plus de chances d'avoir :</th>\n",
       "      <th>J'ai tendance à :</th>\n",
       "      <th>Lorsque j'apprends quelque chose de nouveau, cela m'aide à :</th>\n",
       "    </tr>\n",
       "  </thead>\n",
       "  <tbody>\n",
       "    <tr>\n",
       "      <th>0</th>\n",
       "      <td>essayer</td>\n",
       "      <td>Réaliste</td>\n",
       "      <td>Une photo</td>\n",
       "      <td>Comprendre la structure générale mais peut êtr...</td>\n",
       "      <td>en parler</td>\n",
       "    </tr>\n",
       "    <tr>\n",
       "      <th>1</th>\n",
       "      <td>y avoir réfléchi</td>\n",
       "      <td>Innovant</td>\n",
       "      <td>Des mots</td>\n",
       "      <td>Comprendre la structure générale mais peut êtr...</td>\n",
       "      <td>en parler</td>\n",
       "    </tr>\n",
       "  </tbody>\n",
       "</table>\n",
       "</div>"
      ],
      "text/plain": [
       "  Je comprends mieux quelque chose après l'avoir :  \\\n",
       "0                                          essayer   \n",
       "1                                 y avoir réfléchi   \n",
       "\n",
       "  Je préférerais être considéré comme :  \\\n",
       "0                              Réaliste   \n",
       "1                              Innovant   \n",
       "\n",
       "  Lorsque je pense à ce que j'ai fait hier, j'ai le plus de chances d'avoir :   \\\n",
       "0                                          Une photo                             \n",
       "1                                           Des mots                             \n",
       "\n",
       "                                  J'ai tendance à :   \\\n",
       "0  Comprendre la structure générale mais peut êtr...   \n",
       "1  Comprendre la structure générale mais peut êtr...   \n",
       "\n",
       "  Lorsque j'apprends quelque chose de nouveau, cela m'aide à :   \n",
       "0                                          en parler             \n",
       "1                                          en parler             "
      ]
     },
     "execution_count": 14,
     "metadata": {},
     "output_type": "execute_result"
    }
   ],
   "source": [
    "#bd = bd.iloc[:, 0:19]  je prends la moitié des variables qualitatives/ dépendantes, on pourrait essayer de prendre aussi le quart des variables qualitatives/ dépendantes\n",
    "bd = bd.iloc[:, 0:5]\n",
    "bd.head(2)"
   ]
  },
  {
   "cell_type": "markdown",
   "id": "ae17ad8a",
   "metadata": {},
   "source": [
    "### Qu'est ce que les dummies ? "
   ]
  },
  {
   "cell_type": "markdown",
   "id": "8b002add",
   "metadata": {},
   "source": [
    "Ici dans notre base de données nous avons pleins de variables qualitatives, c'est à des dire des variables qui prennent pour valeur des catégories. Par exemple la taille est une variable quantitative mais le genre est une variable qualitative. "
   ]
  },
  {
   "cell_type": "markdown",
   "id": "231183e9",
   "metadata": {},
   "source": [
    "Le but des dummies est de représenter ces variables de manière binaire. Puisque dans le quesitonnaire ILS, à chaque fois que vous aviez le choix entre 2 réponses, elles vous mettent de fait dans une catégorie. "
   ]
  },
  {
   "cell_type": "markdown",
   "id": "61e4e76a",
   "metadata": {},
   "source": [
    "#### Exemple des Dummies sur la col 1"
   ]
  },
  {
   "cell_type": "code",
   "execution_count": 15,
   "id": "549b7d6b",
   "metadata": {},
   "outputs": [],
   "source": [
    "bd = pd.get_dummies(bd, columns =[\"Je comprends mieux quelque chose après l'avoir :\"], drop_first= True)"
   ]
  },
  {
   "cell_type": "code",
   "execution_count": 16,
   "id": "42dc91da",
   "metadata": {},
   "outputs": [
    {
     "name": "stdout",
     "output_type": "stream",
     "text": [
      "<class 'pandas.core.frame.DataFrame'>\n",
      "RangeIndex: 40 entries, 0 to 39\n",
      "Data columns (total 5 columns):\n",
      " #   Column                                                                        Non-Null Count  Dtype \n",
      "---  ------                                                                        --------------  ----- \n",
      " 0   Je préférerais être considéré comme :                                         40 non-null     object\n",
      " 1   Lorsque je pense à ce que j'ai fait hier, j'ai le plus de chances d'avoir :   40 non-null     object\n",
      " 2   J'ai tendance à :                                                             40 non-null     object\n",
      " 3   Lorsque j'apprends quelque chose de nouveau, cela m'aide à :                  40 non-null     object\n",
      " 4   Je comprends mieux quelque chose après l'avoir :_y avoir réfléchi             40 non-null     uint8 \n",
      "dtypes: object(4), uint8(1)\n",
      "memory usage: 1.4+ KB\n"
     ]
    }
   ],
   "source": [
    "bd.info()"
   ]
  },
  {
   "cell_type": "code",
   "execution_count": 17,
   "id": "d36eac09",
   "metadata": {},
   "outputs": [
    {
     "data": {
      "text/html": [
       "<div>\n",
       "<style scoped>\n",
       "    .dataframe tbody tr th:only-of-type {\n",
       "        vertical-align: middle;\n",
       "    }\n",
       "\n",
       "    .dataframe tbody tr th {\n",
       "        vertical-align: top;\n",
       "    }\n",
       "\n",
       "    .dataframe thead th {\n",
       "        text-align: right;\n",
       "    }\n",
       "</style>\n",
       "<table border=\"1\" class=\"dataframe\">\n",
       "  <thead>\n",
       "    <tr style=\"text-align: right;\">\n",
       "      <th></th>\n",
       "      <th>Je préférerais être considéré comme :</th>\n",
       "      <th>Lorsque je pense à ce que j'ai fait hier, j'ai le plus de chances d'avoir :</th>\n",
       "      <th>J'ai tendance à :</th>\n",
       "      <th>Lorsque j'apprends quelque chose de nouveau, cela m'aide à :</th>\n",
       "      <th>Je comprends mieux quelque chose après l'avoir :_y avoir réfléchi</th>\n",
       "    </tr>\n",
       "  </thead>\n",
       "  <tbody>\n",
       "    <tr>\n",
       "      <th>0</th>\n",
       "      <td>Réaliste</td>\n",
       "      <td>Une photo</td>\n",
       "      <td>Comprendre la structure générale mais peut êtr...</td>\n",
       "      <td>en parler</td>\n",
       "      <td>0</td>\n",
       "    </tr>\n",
       "    <tr>\n",
       "      <th>1</th>\n",
       "      <td>Innovant</td>\n",
       "      <td>Des mots</td>\n",
       "      <td>Comprendre la structure générale mais peut êtr...</td>\n",
       "      <td>en parler</td>\n",
       "      <td>1</td>\n",
       "    </tr>\n",
       "  </tbody>\n",
       "</table>\n",
       "</div>"
      ],
      "text/plain": [
       "  Je préférerais être considéré comme :  \\\n",
       "0                              Réaliste   \n",
       "1                              Innovant   \n",
       "\n",
       "  Lorsque je pense à ce que j'ai fait hier, j'ai le plus de chances d'avoir :   \\\n",
       "0                                          Une photo                             \n",
       "1                                           Des mots                             \n",
       "\n",
       "                                  J'ai tendance à :   \\\n",
       "0  Comprendre la structure générale mais peut êtr...   \n",
       "1  Comprendre la structure générale mais peut êtr...   \n",
       "\n",
       "  Lorsque j'apprends quelque chose de nouveau, cela m'aide à :   \\\n",
       "0                                          en parler              \n",
       "1                                          en parler              \n",
       "\n",
       "   Je comprends mieux quelque chose après l'avoir :_y avoir réfléchi  \n",
       "0                                                  0                  \n",
       "1                                                  1                  "
      ]
     },
     "execution_count": 17,
     "metadata": {},
     "output_type": "execute_result"
    }
   ],
   "source": [
    "bd.head(2)"
   ]
  },
  {
   "cell_type": "markdown",
   "id": "43dd734d",
   "metadata": {},
   "source": [
    "#### Dummies pour toutes les cols"
   ]
  },
  {
   "cell_type": "code",
   "execution_count": 18,
   "id": "b446d7ba",
   "metadata": {},
   "outputs": [],
   "source": [
    "cols_headers = list(bd.columns.values)"
   ]
  },
  {
   "cell_type": "code",
   "execution_count": 19,
   "id": "2b58a9fc",
   "metadata": {},
   "outputs": [],
   "source": [
    "del(cols_headers[-1])"
   ]
  },
  {
   "cell_type": "code",
   "execution_count": 20,
   "id": "9caf8411",
   "metadata": {},
   "outputs": [
    {
     "data": {
      "text/plain": [
       "['Je préférerais être considéré comme :',\n",
       " \"Lorsque je pense à ce que j'ai fait hier, j'ai le plus de chances d'avoir : \",\n",
       " \"J'ai tendance à : \",\n",
       " \"Lorsque j'apprends quelque chose de nouveau, cela m'aide à : \"]"
      ]
     },
     "execution_count": 20,
     "metadata": {},
     "output_type": "execute_result"
    }
   ],
   "source": [
    "cols_headers"
   ]
  },
  {
   "cell_type": "code",
   "execution_count": 21,
   "id": "8dde574e",
   "metadata": {},
   "outputs": [],
   "source": [
    "bd = pd.get_dummies(bd, columns =cols_headers, drop_first= True)"
   ]
  },
  {
   "cell_type": "code",
   "execution_count": 22,
   "id": "d9ac87fc",
   "metadata": {
    "scrolled": true
   },
   "outputs": [
    {
     "data": {
      "text/html": [
       "<div>\n",
       "<style scoped>\n",
       "    .dataframe tbody tr th:only-of-type {\n",
       "        vertical-align: middle;\n",
       "    }\n",
       "\n",
       "    .dataframe tbody tr th {\n",
       "        vertical-align: top;\n",
       "    }\n",
       "\n",
       "    .dataframe thead th {\n",
       "        text-align: right;\n",
       "    }\n",
       "</style>\n",
       "<table border=\"1\" class=\"dataframe\">\n",
       "  <thead>\n",
       "    <tr style=\"text-align: right;\">\n",
       "      <th></th>\n",
       "      <th>Je comprends mieux quelque chose après l'avoir :_y avoir réfléchi</th>\n",
       "      <th>Je préférerais être considéré comme :_Réaliste</th>\n",
       "      <th>Lorsque je pense à ce que j'ai fait hier, j'ai le plus de chances d'avoir : _Une photo</th>\n",
       "      <th>J'ai tendance à : _Comprendre les détails d'un sujet, mais ne pas en saisir la structure générale.</th>\n",
       "      <th>J'ai tendance à : _Comprendre les détails d'un sujet, mais ne pas en saisir la structure générale., Comprendre la structure générale mais peut être flou sur les détails.</th>\n",
       "      <th>Lorsque j'apprends quelque chose de nouveau, cela m'aide à : _en parler, y réfléchir</th>\n",
       "      <th>Lorsque j'apprends quelque chose de nouveau, cela m'aide à : _y réfléchir</th>\n",
       "    </tr>\n",
       "  </thead>\n",
       "  <tbody>\n",
       "    <tr>\n",
       "      <th>0</th>\n",
       "      <td>0</td>\n",
       "      <td>1</td>\n",
       "      <td>1</td>\n",
       "      <td>0</td>\n",
       "      <td>0</td>\n",
       "      <td>0</td>\n",
       "      <td>0</td>\n",
       "    </tr>\n",
       "    <tr>\n",
       "      <th>1</th>\n",
       "      <td>1</td>\n",
       "      <td>0</td>\n",
       "      <td>0</td>\n",
       "      <td>0</td>\n",
       "      <td>0</td>\n",
       "      <td>0</td>\n",
       "      <td>0</td>\n",
       "    </tr>\n",
       "  </tbody>\n",
       "</table>\n",
       "</div>"
      ],
      "text/plain": [
       "   Je comprends mieux quelque chose après l'avoir :_y avoir réfléchi  \\\n",
       "0                                                  0                   \n",
       "1                                                  1                   \n",
       "\n",
       "   Je préférerais être considéré comme :_Réaliste  \\\n",
       "0                                               1   \n",
       "1                                               0   \n",
       "\n",
       "   Lorsque je pense à ce que j'ai fait hier, j'ai le plus de chances d'avoir : _Une photo  \\\n",
       "0                                                  1                                        \n",
       "1                                                  0                                        \n",
       "\n",
       "   J'ai tendance à : _Comprendre les détails d'un sujet, mais ne pas en saisir la structure générale.  \\\n",
       "0                                                  0                                                    \n",
       "1                                                  0                                                    \n",
       "\n",
       "   J'ai tendance à : _Comprendre les détails d'un sujet, mais ne pas en saisir la structure générale., Comprendre la structure générale mais peut être flou sur les détails.  \\\n",
       "0                                                  0                                                                                                                           \n",
       "1                                                  0                                                                                                                           \n",
       "\n",
       "   Lorsque j'apprends quelque chose de nouveau, cela m'aide à : _en parler, y réfléchir  \\\n",
       "0                                                  0                                      \n",
       "1                                                  0                                      \n",
       "\n",
       "   Lorsque j'apprends quelque chose de nouveau, cela m'aide à : _y réfléchir  \n",
       "0                                                  0                          \n",
       "1                                                  0                          "
      ]
     },
     "execution_count": 22,
     "metadata": {},
     "output_type": "execute_result"
    }
   ],
   "source": [
    "bd.head(2)"
   ]
  },
  {
   "cell_type": "markdown",
   "id": "0735f980-0edd-423a-909a-09f3acb732b3",
   "metadata": {},
   "source": [
    "# Selectionner les variables"
   ]
  },
  {
   "cell_type": "markdown",
   "id": "ac241226",
   "metadata": {},
   "source": [
    "## Les variables qualitatives, dépendantes"
   ]
  },
  {
   "cell_type": "code",
   "execution_count": 23,
   "id": "26fd31ef",
   "metadata": {},
   "outputs": [],
   "source": [
    "vars_headers = list(bd.columns.values)"
   ]
  },
  {
   "cell_type": "code",
   "execution_count": 24,
   "id": "ce473da5",
   "metadata": {},
   "outputs": [
    {
     "data": {
      "text/plain": [
       "[\"Je comprends mieux quelque chose après l'avoir :_y avoir réfléchi\",\n",
       " 'Je préférerais être considéré comme :_Réaliste',\n",
       " \"Lorsque je pense à ce que j'ai fait hier, j'ai le plus de chances d'avoir : _Une photo\",\n",
       " \"J'ai tendance à : _Comprendre les détails d'un sujet, mais ne pas en saisir la structure générale.\",\n",
       " \"J'ai tendance à : _Comprendre les détails d'un sujet, mais ne pas en saisir la structure générale., Comprendre la structure générale mais peut être flou sur les détails.\",\n",
       " \"Lorsque j'apprends quelque chose de nouveau, cela m'aide à : _en parler, y réfléchir\",\n",
       " \"Lorsque j'apprends quelque chose de nouveau, cela m'aide à : _y réfléchir\"]"
      ]
     },
     "execution_count": 24,
     "metadata": {},
     "output_type": "execute_result"
    }
   ],
   "source": [
    "vars_headers"
   ]
  },
  {
   "cell_type": "markdown",
   "id": "aa1ad7c4",
   "metadata": {},
   "source": [
    "_____________________________________________________________________________________________________________________________"
   ]
  },
  {
   "cell_type": "markdown",
   "id": "205ee138",
   "metadata": {},
   "source": [
    "## Créer des variables quantitatives, indépendantes"
   ]
  },
  {
   "cell_type": "markdown",
   "id": "3e39aef3",
   "metadata": {},
   "source": [
    "Il faut que je crée des variables quantitatives randoms aussi nommées les variables explicatives ou features, qui vont expliquer les valeurs qualitatives. Dans un Decision Tree Classification, les valeurs qualitatives sont aussi nommées valeurs objectifs. "
   ]
  },
  {
   "cell_type": "markdown",
   "id": "26a803a3",
   "metadata": {},
   "source": [
    "Les valeurs quantitatives seront normalement généré par les cookies et le profil de l'utilisateur. Nous nous avons décidé de ne pas recolter les informations des personnes qui ont répondu à notre questionnaire, car le questionnaire était déjà très long. "
   ]
  },
  {
   "cell_type": "code",
   "execution_count": 25,
   "id": "80d0c182",
   "metadata": {},
   "outputs": [
    {
     "data": {
      "text/plain": [
       "21"
      ]
     },
     "execution_count": 25,
     "metadata": {},
     "output_type": "execute_result"
    }
   ],
   "source": [
    "randint(17, 26)   #génération random d'un nombre entre 17 et 25"
   ]
  },
  {
   "cell_type": "code",
   "execution_count": 26,
   "id": "b3700f56",
   "metadata": {},
   "outputs": [
    {
     "data": {
      "text/plain": [
       "(40, 7)"
      ]
     },
     "execution_count": 26,
     "metadata": {},
     "output_type": "execute_result"
    }
   ],
   "source": [
    "bd.shape"
   ]
  },
  {
   "cell_type": "code",
   "execution_count": 27,
   "id": "2fa12282",
   "metadata": {},
   "outputs": [],
   "source": [
    "arrayage = np.random.randint(17, 26, size=(40, 1))"
   ]
  },
  {
   "cell_type": "code",
   "execution_count": 28,
   "id": "ca4c484e",
   "metadata": {},
   "outputs": [
    {
     "data": {
      "text/html": [
       "<div>\n",
       "<style scoped>\n",
       "    .dataframe tbody tr th:only-of-type {\n",
       "        vertical-align: middle;\n",
       "    }\n",
       "\n",
       "    .dataframe tbody tr th {\n",
       "        vertical-align: top;\n",
       "    }\n",
       "\n",
       "    .dataframe thead th {\n",
       "        text-align: right;\n",
       "    }\n",
       "</style>\n",
       "<table border=\"1\" class=\"dataframe\">\n",
       "  <thead>\n",
       "    <tr style=\"text-align: right;\">\n",
       "      <th></th>\n",
       "      <th>age</th>\n",
       "    </tr>\n",
       "  </thead>\n",
       "  <tbody>\n",
       "    <tr>\n",
       "      <th>0</th>\n",
       "      <td>24</td>\n",
       "    </tr>\n",
       "  </tbody>\n",
       "</table>\n",
       "</div>"
      ],
      "text/plain": [
       "   age\n",
       "0   24"
      ]
     },
     "execution_count": 28,
     "metadata": {},
     "output_type": "execute_result"
    }
   ],
   "source": [
    "df2 = pd.DataFrame(arrayage, columns=['age'])\n",
    "df2.head(1)"
   ]
  },
  {
   "cell_type": "code",
   "execution_count": 29,
   "id": "57c4812f",
   "metadata": {},
   "outputs": [],
   "source": [
    "arraybmi = np.random.randint(19, 31, size=(40, 1))"
   ]
  },
  {
   "cell_type": "code",
   "execution_count": 30,
   "id": "25d8185f",
   "metadata": {},
   "outputs": [
    {
     "data": {
      "text/html": [
       "<div>\n",
       "<style scoped>\n",
       "    .dataframe tbody tr th:only-of-type {\n",
       "        vertical-align: middle;\n",
       "    }\n",
       "\n",
       "    .dataframe tbody tr th {\n",
       "        vertical-align: top;\n",
       "    }\n",
       "\n",
       "    .dataframe thead th {\n",
       "        text-align: right;\n",
       "    }\n",
       "</style>\n",
       "<table border=\"1\" class=\"dataframe\">\n",
       "  <thead>\n",
       "    <tr style=\"text-align: right;\">\n",
       "      <th></th>\n",
       "      <th>bmi</th>\n",
       "    </tr>\n",
       "  </thead>\n",
       "  <tbody>\n",
       "    <tr>\n",
       "      <th>0</th>\n",
       "      <td>28</td>\n",
       "    </tr>\n",
       "  </tbody>\n",
       "</table>\n",
       "</div>"
      ],
      "text/plain": [
       "   bmi\n",
       "0   28"
      ]
     },
     "execution_count": 30,
     "metadata": {},
     "output_type": "execute_result"
    }
   ],
   "source": [
    "df3 = pd.DataFrame(arraybmi, columns=['bmi'])\n",
    "df3.head(1)"
   ]
  },
  {
   "cell_type": "code",
   "execution_count": 31,
   "id": "883d90d9",
   "metadata": {},
   "outputs": [
    {
     "data": {
      "text/html": [
       "<div>\n",
       "<style scoped>\n",
       "    .dataframe tbody tr th:only-of-type {\n",
       "        vertical-align: middle;\n",
       "    }\n",
       "\n",
       "    .dataframe tbody tr th {\n",
       "        vertical-align: top;\n",
       "    }\n",
       "\n",
       "    .dataframe thead th {\n",
       "        text-align: right;\n",
       "    }\n",
       "</style>\n",
       "<table border=\"1\" class=\"dataframe\">\n",
       "  <thead>\n",
       "    <tr style=\"text-align: right;\">\n",
       "      <th></th>\n",
       "      <th>glucose</th>\n",
       "    </tr>\n",
       "  </thead>\n",
       "  <tbody>\n",
       "    <tr>\n",
       "      <th>0</th>\n",
       "      <td>98</td>\n",
       "    </tr>\n",
       "  </tbody>\n",
       "</table>\n",
       "</div>"
      ],
      "text/plain": [
       "   glucose\n",
       "0       98"
      ]
     },
     "execution_count": 31,
     "metadata": {},
     "output_type": "execute_result"
    }
   ],
   "source": [
    "arrayglucose = np.random.randint(70, 100, size=(40, 1))\n",
    "df4 = pd.DataFrame(arrayglucose, columns=['glucose'])\n",
    "df4.head(1)"
   ]
  },
  {
   "cell_type": "code",
   "execution_count": 32,
   "id": "effa046c",
   "metadata": {},
   "outputs": [
    {
     "data": {
      "text/html": [
       "<div>\n",
       "<style scoped>\n",
       "    .dataframe tbody tr th:only-of-type {\n",
       "        vertical-align: middle;\n",
       "    }\n",
       "\n",
       "    .dataframe tbody tr th {\n",
       "        vertical-align: top;\n",
       "    }\n",
       "\n",
       "    .dataframe thead th {\n",
       "        text-align: right;\n",
       "    }\n",
       "</style>\n",
       "<table border=\"1\" class=\"dataframe\">\n",
       "  <thead>\n",
       "    <tr style=\"text-align: right;\">\n",
       "      <th></th>\n",
       "      <th>age</th>\n",
       "      <th>bmi</th>\n",
       "      <th>glucose</th>\n",
       "    </tr>\n",
       "  </thead>\n",
       "  <tbody>\n",
       "    <tr>\n",
       "      <th>0</th>\n",
       "      <td>24</td>\n",
       "      <td>28</td>\n",
       "      <td>98</td>\n",
       "    </tr>\n",
       "    <tr>\n",
       "      <th>1</th>\n",
       "      <td>23</td>\n",
       "      <td>27</td>\n",
       "      <td>79</td>\n",
       "    </tr>\n",
       "  </tbody>\n",
       "</table>\n",
       "</div>"
      ],
      "text/plain": [
       "   age  bmi  glucose\n",
       "0   24   28       98\n",
       "1   23   27       79"
      ]
     },
     "execution_count": 32,
     "metadata": {},
     "output_type": "execute_result"
    }
   ],
   "source": [
    "dftest = pd.concat([df2, df3, df4], axis=1)\n",
    "dftest.head(2)"
   ]
  },
  {
   "cell_type": "markdown",
   "id": "6470ee21",
   "metadata": {},
   "source": [
    "## Base de donnée finale, fin du nettoyage"
   ]
  },
  {
   "cell_type": "code",
   "execution_count": 33,
   "id": "fd3490f2",
   "metadata": {},
   "outputs": [
    {
     "data": {
      "text/html": [
       "<div>\n",
       "<style scoped>\n",
       "    .dataframe tbody tr th:only-of-type {\n",
       "        vertical-align: middle;\n",
       "    }\n",
       "\n",
       "    .dataframe tbody tr th {\n",
       "        vertical-align: top;\n",
       "    }\n",
       "\n",
       "    .dataframe thead th {\n",
       "        text-align: right;\n",
       "    }\n",
       "</style>\n",
       "<table border=\"1\" class=\"dataframe\">\n",
       "  <thead>\n",
       "    <tr style=\"text-align: right;\">\n",
       "      <th></th>\n",
       "      <th>Je comprends mieux quelque chose après l'avoir :_y avoir réfléchi</th>\n",
       "      <th>Je préférerais être considéré comme :_Réaliste</th>\n",
       "      <th>Lorsque je pense à ce que j'ai fait hier, j'ai le plus de chances d'avoir : _Une photo</th>\n",
       "      <th>J'ai tendance à : _Comprendre les détails d'un sujet, mais ne pas en saisir la structure générale.</th>\n",
       "      <th>J'ai tendance à : _Comprendre les détails d'un sujet, mais ne pas en saisir la structure générale., Comprendre la structure générale mais peut être flou sur les détails.</th>\n",
       "      <th>Lorsque j'apprends quelque chose de nouveau, cela m'aide à : _en parler, y réfléchir</th>\n",
       "      <th>Lorsque j'apprends quelque chose de nouveau, cela m'aide à : _y réfléchir</th>\n",
       "      <th>age</th>\n",
       "      <th>bmi</th>\n",
       "      <th>glucose</th>\n",
       "    </tr>\n",
       "  </thead>\n",
       "  <tbody>\n",
       "    <tr>\n",
       "      <th>0</th>\n",
       "      <td>0</td>\n",
       "      <td>1</td>\n",
       "      <td>1</td>\n",
       "      <td>0</td>\n",
       "      <td>0</td>\n",
       "      <td>0</td>\n",
       "      <td>0</td>\n",
       "      <td>24</td>\n",
       "      <td>28</td>\n",
       "      <td>98</td>\n",
       "    </tr>\n",
       "  </tbody>\n",
       "</table>\n",
       "</div>"
      ],
      "text/plain": [
       "   Je comprends mieux quelque chose après l'avoir :_y avoir réfléchi  \\\n",
       "0                                                  0                   \n",
       "\n",
       "   Je préférerais être considéré comme :_Réaliste  \\\n",
       "0                                               1   \n",
       "\n",
       "   Lorsque je pense à ce que j'ai fait hier, j'ai le plus de chances d'avoir : _Une photo  \\\n",
       "0                                                  1                                        \n",
       "\n",
       "   J'ai tendance à : _Comprendre les détails d'un sujet, mais ne pas en saisir la structure générale.  \\\n",
       "0                                                  0                                                    \n",
       "\n",
       "   J'ai tendance à : _Comprendre les détails d'un sujet, mais ne pas en saisir la structure générale., Comprendre la structure générale mais peut être flou sur les détails.  \\\n",
       "0                                                  0                                                                                                                           \n",
       "\n",
       "   Lorsque j'apprends quelque chose de nouveau, cela m'aide à : _en parler, y réfléchir  \\\n",
       "0                                                  0                                      \n",
       "\n",
       "   Lorsque j'apprends quelque chose de nouveau, cela m'aide à : _y réfléchir  \\\n",
       "0                                                  0                           \n",
       "\n",
       "   age  bmi  glucose  \n",
       "0   24   28       98  "
      ]
     },
     "execution_count": 33,
     "metadata": {},
     "output_type": "execute_result"
    }
   ],
   "source": [
    "df = pd.concat([bd, dftest], axis=1)\n",
    "df.head(1)"
   ]
  },
  {
   "cell_type": "markdown",
   "id": "9222589d-7fef-410a-86e8-2bb07277b2e2",
   "metadata": {},
   "source": [
    "# Modèle"
   ]
  },
  {
   "cell_type": "markdown",
   "id": "6eb16e31",
   "metadata": {},
   "source": [
    "## Variables dépendantes / Variables indépendantes"
   ]
  },
  {
   "cell_type": "markdown",
   "id": "65aa98dd",
   "metadata": {},
   "source": [
    "Ici, vous devez diviser les colonnes données en deux types de variables dépendantes (ou variables cibles) et variables indépendantes (ou variables de caractéristiques)."
   ]
  },
  {
   "cell_type": "code",
   "execution_count": 34,
   "id": "45be4eb8",
   "metadata": {},
   "outputs": [],
   "source": [
    "#feature_cols = ['age', 'bmi', 'glucose']\n",
    "#target_cols = ['age']  #je prends seulement l'age car trop peu de réponses dans notre quesitonnaire \n",
    "#ILS pour créer des patternes avec autant de valeurs dépendantes.\n",
    "#feature_cols = vars_headers\n",
    "\n",
    "feature_cols = ['age'] \n",
    "target_cols = vars_headers\n",
    "\n",
    "\n",
    "X = df[feature_cols] # Features\n",
    "y = df[target_cols] # Targets"
   ]
  },
  {
   "cell_type": "markdown",
   "id": "63ecc67c",
   "metadata": {},
   "source": [
    "## Splitting Data"
   ]
  },
  {
   "cell_type": "markdown",
   "id": "74ef16d8",
   "metadata": {},
   "source": [
    "Pour comprendre les performances du modèle, diviser l'ensemble de données en un ensemble d'apprentissage (train data) et un ensemble de test (test data) est une bonne stratégie."
   ]
  },
  {
   "cell_type": "code",
   "execution_count": 35,
   "id": "e917929e",
   "metadata": {},
   "outputs": [],
   "source": [
    "X_train, X_test, y_train, y_test = train_test_split(X, y, test_size=0.3, random_state=1) # 70% training and 30% test"
   ]
  },
  {
   "cell_type": "markdown",
   "id": "0b58e8bc",
   "metadata": {},
   "source": [
    "## Construction du modèle Arbre de Décision "
   ]
  },
  {
   "cell_type": "code",
   "execution_count": 36,
   "id": "83d1ef39",
   "metadata": {},
   "outputs": [],
   "source": [
    "# Create Decision Tree classifer object\n",
    "clf = DecisionTreeClassifier()\n",
    "\n",
    "# Train Decision Tree Classifer\n",
    "clf = clf.fit(X_train,y_train)\n",
    "\n",
    "#Predict the response for test dataset\n",
    "y_pred = clf.predict(X_test)"
   ]
  },
  {
   "cell_type": "code",
   "execution_count": 37,
   "id": "42f96626",
   "metadata": {},
   "outputs": [
    {
     "data": {
      "text/plain": [
       "DecisionTreeClassifier()"
      ]
     },
     "execution_count": 37,
     "metadata": {},
     "output_type": "execute_result"
    }
   ],
   "source": [
    "DecisionTreeClassifier()"
   ]
  },
  {
   "cell_type": "markdown",
   "id": "2b8b4c8a",
   "metadata": {},
   "source": [
    "# Evaluation du modèle"
   ]
  },
  {
   "cell_type": "code",
   "execution_count": 38,
   "id": "9b2b4969",
   "metadata": {},
   "outputs": [
    {
     "data": {
      "text/plain": [
       "Index(['age'], dtype='object')"
      ]
     },
     "execution_count": 38,
     "metadata": {},
     "output_type": "execute_result"
    }
   ],
   "source": [
    "X_train.columns"
   ]
  },
  {
   "cell_type": "code",
   "execution_count": 39,
   "id": "c5829454",
   "metadata": {},
   "outputs": [
    {
     "name": "stdout",
     "output_type": "stream",
     "text": [
      "Accuracy: 0.0\n"
     ]
    }
   ],
   "source": [
    "# Model Accuracy, how often is the classifier correct?\n",
    "print(\"Accuracy:\",metrics.accuracy_score(y_test, y_pred))"
   ]
  },
  {
   "cell_type": "markdown",
   "id": "d1ddbb58",
   "metadata": {},
   "source": [
    "Très mauvaise accuracy puisque l'age le glucose ect non rien avoir avec les réponses "
   ]
  },
  {
   "cell_type": "markdown",
   "id": "90cb8ad4",
   "metadata": {},
   "source": [
    "# Visualisation"
   ]
  },
  {
   "cell_type": "code",
   "execution_count": 40,
   "id": "71c4daf4",
   "metadata": {},
   "outputs": [
    {
     "data": {
      "text/plain": [
       "[Text(0.4444444444444444, 0.9166666666666666, 'age <= 19.5\\ngini = 0.317\\nsamples = 28\\nvalue = [[23, 5]\\n[12, 16]\\n[7, 21]\\n[19, 9]\\n[27, 1]\\n[27, 1]\\n[16, 12]]'),\n",
       " Text(0.2222222222222222, 0.75, 'age <= 18.5\\ngini = 0.261\\nsamples = 9\\nvalue = [[8, 1]\\n[6, 3]\\n[2, 7]\\n[5, 4]\\n[9, 0]\\n[9, 0]\\n[2, 7]]'),\n",
       " Text(0.1111111111111111, 0.5833333333333334, 'gini = 0.268\\nsamples = 4\\nvalue = [[3, 1]\\n[3, 1]\\n[1, 3]\\n[3, 1]\\n[4, 0]\\n[4, 0]\\n[1, 3]]'),\n",
       " Text(0.3333333333333333, 0.5833333333333334, 'gini = 0.229\\nsamples = 5\\nvalue = [[5, 0]\\n[3, 2]\\n[1, 4]\\n[2, 3]\\n[5, 0]\\n[5, 0]\\n[1, 4]]'),\n",
       " Text(0.6666666666666666, 0.75, 'age <= 20.5\\ngini = 0.304\\nsamples = 19\\nvalue = [[15, 4]\\n[6, 13]\\n[5, 14]\\n[14, 5]\\n[18, 1]\\n[18, 1]\\n[14, 5]]'),\n",
       " Text(0.5555555555555556, 0.5833333333333334, 'gini = 0.254\\nsamples = 3\\nvalue = [[3, 0]\\n[0, 3]\\n[1, 2]\\n[2, 1]\\n[2, 1]\\n[2, 1]\\n[3, 0]]'),\n",
       " Text(0.7777777777777778, 0.5833333333333334, 'age <= 24.5\\ngini = 0.289\\nsamples = 16\\nvalue = [[12, 4]\\n[6, 10]\\n[4, 12]\\n[12, 4]\\n[16, 0]\\n[16, 0]\\n[11, 5]]'),\n",
       " Text(0.6666666666666666, 0.4166666666666667, 'age <= 23.5\\ngini = 0.281\\nsamples = 13\\nvalue = [[10, 3]\\n[6, 7]\\n[4, 9]\\n[11, 2]\\n[13, 0]\\n[13, 0]\\n[9, 4]]'),\n",
       " Text(0.5555555555555556, 0.25, 'age <= 22.0\\ngini = 0.315\\nsamples = 7\\nvalue = [[5, 2]\\n[4, 3]\\n[3, 4]\\n[5, 2]\\n[7, 0]\\n[7, 0]\\n[5, 2]]'),\n",
       " Text(0.4444444444444444, 0.08333333333333333, 'gini = 0.297\\nsamples = 5\\nvalue = [[4, 1]\\n[3, 2]\\n[2, 3]\\n[4, 1]\\n[5, 0]\\n[5, 0]\\n[3, 2]]'),\n",
       " Text(0.6666666666666666, 0.08333333333333333, 'gini = 0.286\\nsamples = 2\\nvalue = [[1, 1]\\n[1, 1]\\n[1, 1]\\n[1, 1]\\n[2, 0]\\n[2, 0]\\n[2, 0]]'),\n",
       " Text(0.7777777777777778, 0.25, 'gini = 0.206\\nsamples = 6\\nvalue = [[5, 1]\\n[2, 4]\\n[1, 5]\\n[6, 0]\\n[6, 0]\\n[6, 0]\\n[4, 2]]'),\n",
       " Text(0.8888888888888888, 0.4166666666666667, 'gini = 0.19\\nsamples = 3\\nvalue = [[2, 1]\\n[0, 3]\\n[0, 3]\\n[1, 2]\\n[3, 0]\\n[3, 0]\\n[2, 1]]')]"
      ]
     },
     "execution_count": 40,
     "metadata": {},
     "output_type": "execute_result"
    },
    {
     "data": {
      "image/png": "[encoded data removed]",
      "text/plain": [
       "<Figure size 640x480 with 1 Axes>"
      ]
     },
     "metadata": {},
     "output_type": "display_data"
    }
   ],
   "source": [
    "plot_tree(decision_tree = clf, feature_names = X_train.columns, filled=True)"
   ]
  },
  {
   "cell_type": "code",
   "execution_count": 41,
   "id": "de776485",
   "metadata": {},
   "outputs": [
    {
     "data": {
      "text/plain": [
       "'\\n_ = plot_tree(clf, \\n                   feature_names=X_train.columns,  \\n                   class_names=y_train,\\n                   filled=True)\\n                   \\n'"
      ]
     },
     "execution_count": 41,
     "metadata": {},
     "output_type": "execute_result"
    },
    {
     "data": {
      "image/png": "[encoded data removed]",
      "text/plain": [
       "<Figure size 2500x2000 with 1 Axes>"
      ]
     },
     "metadata": {},
     "output_type": "display_data"
    }
   ],
   "source": [
    "fig = plt.figure(figsize=(25,20))\n",
    "plot_tree(decision_tree = clf, feature_names = X_train.columns, filled=True)\n",
    "\n",
    "'''\n",
    "_ = plot_tree(clf, \n",
    "                   feature_names=X_train.columns,  \n",
    "                   class_names=y_train,\n",
    "                   filled=True)\n",
    "                   \n",
    "'''\n"
   ]
  },
  {
   "cell_type": "code",
   "execution_count": 42,
   "id": "1d1df95a",
   "metadata": {},
   "outputs": [],
   "source": [
    "fig.savefig(\"decistion_tree.png\")\n"
   ]
  },
  {
   "cell_type": "markdown",
   "id": "02b97609",
   "metadata": {},
   "source": [
    "## GINI meaning"
   ]
  },
  {
   "cell_type": "markdown",
   "id": "361429fe",
   "metadata": {},
   "source": [
    "\"L'indice de Gini, également connu sous le nom d'impureté de Gini, calcule la probabilité qu'une caractéristique spécifique soit classée de manière incorrecte lorsqu'elle est sélectionnée de manière aléatoire. Si tous les éléments sont liés à une seule classe, ils peuvent être qualifiés de purs.\n",
    "\n",
    "\n",
    "L'indice de Gini varie entre les valeurs 0 et 1, où 0 exprime la pureté de la classification, c'est-à-dire que tous les éléments appartiennent à une classe spécifiée ou qu'il n'existe qu'une seule classe. Et 1 indique la distribution aléatoire des éléments entre les différentes classes. La valeur de 0,5 de l'indice de Gini indique une répartition égale des éléments dans certaines classes.\"\n",
    "\n",
    "https://medium.com/analytics-steps/understanding-the-gini-index-and-information-gain-in-decision-trees-ab4720518ba8"
   ]
  },
  {
   "cell_type": "markdown",
   "id": "693b6ab6",
   "metadata": {},
   "source": [
    "## Samples meaning"
   ]
  },
  {
   "cell_type": "markdown",
   "id": "dec43a73",
   "metadata": {},
   "source": [
    "C'est le nombre de personne dans le groupe "
   ]
  },
  {
   "cell_type": "markdown",
   "id": "bc1dd3f1",
   "metadata": {},
   "source": [
    "## Value meaning"
   ]
  },
  {
   "cell_type": "markdown",
   "id": "eb38929c",
   "metadata": {},
   "source": [
    "représente le nombre d'éléments dans chaque classe.\n",
    "\n",
    "Si vous regardez le nœud supérieur, vous devriez le voir comme suit :\n",
    "\n",
    "Il y a :\n",
    "\n",
    "    23 échantillons de la classe 0\n",
    "    5 échantillons de la classe 1\n",
    "    ce qui donne un total de 28 échantillons\n",
    "    \n"
   ]
  },
  {
   "cell_type": "markdown",
   "id": "ee17e27c",
   "metadata": {},
   "source": [
    "## Explications graphique "
   ]
  },
  {
   "cell_type": "markdown",
   "id": "32a663c8",
   "metadata": {},
   "source": [
    "_______________________________________________________________________\n"
   ]
  },
  {
   "cell_type": "markdown",
   "id": "fecd6e8e",
   "metadata": {},
   "source": [
    "# Conclusions / Axe d'améliorations / Comprendre l'évaluation du modèle"
   ]
  },
  {
   "cell_type": "markdown",
   "id": "e8533455",
   "metadata": {},
   "source": [
    "## Accuracy 0%, pourquoi ?"
   ]
  },
  {
   "cell_type": "markdown",
   "id": "f715e0b5",
   "metadata": {},
   "source": [
    "Une bonne accuracy dans un modèle d'arbre de decision se trouve entre 70% et 90%"
   ]
  },
  {
   "cell_type": "markdown",
   "id": "153777a0",
   "metadata": {},
   "source": [
    "## Comment faire mieux ? "
   ]
  },
  {
   "cell_type": "markdown",
   "id": "cc89f051",
   "metadata": {},
   "source": [
    "Mieux comprendre le decision tree :\n",
    "\n",
    "**How to decide which feature should be located at the root node**\n",
    "\n",
    "Au début on a choisi l'age, une valeur qui a été créée\n",
    "\n",
    "\n",
    "**Most accurate feature to serve as internal nodes or leaf nodes**\n",
    "\n",
    "Gros problème puisqu'on n'a pas collecté de valeurs indépendantes. \n",
    "\n",
    "\n",
    "**How to measure the accuracy of splitting tree and many more**\n",
    "\n",
    "Mieux comprendre l'impact du nombre de réponse sur la création de patterns. De même mieux comprendre l'impact du choix des valeurs indépendantes (infos sur l'utilisateur) sur la création de patterns"
   ]
  },
  {
   "cell_type": "markdown",
   "id": "40a9817c",
   "metadata": {},
   "source": [
    "### Conclusion"
   ]
  },
  {
   "cell_type": "markdown",
   "id": "4b4778a9",
   "metadata": {},
   "source": [
    "Il nous aurrait fallut un meilleur quesitonnaire et plus de réponses. \n",
    "\n",
    "Un meilleur questionnaire aurait eu plus de questions pour avoir des valeurs indépendantes. \n",
    "\n",
    "Le questionnaire ILS, est un questionnaire officiel. C'est un questionnaire long et fasitieux. Ainsi il est très difficile de rendre ce questionnaire attractif et avoir beaucoup de réponses. \n",
    "\n",
    "Un énénement où une récompense aurait été donné aux acteurs aurait pu être une très bonne idée. Mais cette expérience n'a pas pu se faire en présentiel à l'ESAIP. "
   ]
  },
  {
   "cell_type": "code",
   "execution_count": null,
   "id": "a6b4b4f6",
   "metadata": {},
   "outputs": [],
   "source": []
  }
 ],
 "metadata": {
  "kernelspec": {
   "display_name": "Python 3 (ipykernel)",
   "language": "python",
   "name": "python3"
  },
  "language_info": {
   "codemirror_mode": {
    "name": "ipython",
    "version": 3
   },
   "file_extension": ".py",
   "mimetype": "text/x-python",
   "name": "python",
   "nbconvert_exporter": "python",
   "pygments_lexer": "ipython3",
   "version": "3.9.12"
  },
  "toc": {
   "base_numbering": 1,
   "nav_menu": {},
   "number_sections": true,
   "sideBar": true,
   "skip_h1_title": false,
   "title_cell": "Table of Contents",
   "title_sidebar": "Contents",
   "toc_cell": true,
   "toc_position": {
    "height": "calc(100% - 180px)",
    "left": "10px",
    "top": "150px",
    "width": "165px"
   },
   "toc_section_display": true,
   "toc_window_display": false
  },
  "toc-autonumbering": true,
  "toc-showtags": false
 },
 "nbformat": 4,
 "nbformat_minor": 5
}
