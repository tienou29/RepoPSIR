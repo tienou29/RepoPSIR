{
 "cells": [
  {
   "cell_type": "markdown",
   "id": "4e08ab61",
   "metadata": {
    "tags": []
   },
   "source": [
    "# Expérimentation"
   ]
  },
  {
   "cell_type": "markdown",
   "id": "95a61756-33cc-4b27-9d30-a9f5323f5ed1",
   "metadata": {},
   "source": []
  },
  {
   "cell_type": "markdown",
   "id": "d1962443-223f-4684-8e12-f0bd8d106f65",
   "metadata": {},
   "source": [
    "## Contents"
   ]
  },
  {
   "cell_type": "code",
   "execution_count": null,
   "id": "bdd39fa7-0845-476a-b5bd-b85bdc91d728",
   "metadata": {},
   "outputs": [],
   "source": []
  },
  {
   "cell_type": "markdown",
   "id": "221be8ad",
   "metadata": {},
   "source": [
    "# Génération d'un arbre de décision"
   ]
  },
  {
   "cell_type": "markdown",
   "id": "21cf08d9",
   "metadata": {},
   "source": [
    "L’arbre de décision a pour but de représenter les choix d’une population suite à une série de question.  La base de la pyramide finale décomposera la population d’origine en plusieurs groupes."
   ]
  },
  {
   "cell_type": "markdown",
   "id": "bd3068fe",
   "metadata": {},
   "source": [
    "## Librairies"
   ]
  },
  {
   "cell_type": "code",
   "execution_count": 1,
   "id": "e8e8544c",
   "metadata": {},
   "outputs": [],
   "source": [
    "import pandas as pd"
   ]
  },
  {
   "cell_type": "code",
   "execution_count": 2,
   "id": "fd3c42fb",
   "metadata": {},
   "outputs": [],
   "source": [
    "from random import randint"
   ]
  },
  {
   "cell_type": "code",
   "execution_count": 3,
   "id": "b2216445",
   "metadata": {},
   "outputs": [],
   "source": [
    "import numpy as np"
   ]
  },
  {
   "cell_type": "code",
   "execution_count": 4,
   "id": "76ce4d64",
   "metadata": {},
   "outputs": [],
   "source": [
    "from sklearn.tree import DecisionTreeClassifier # Import Decision Tree Classifier\n",
    "from sklearn.model_selection import train_test_split # Import train_test_split function\n",
    "from sklearn import metrics #Import scikit-learn metrics module for accuracy calculation"
   ]
  },
  {
   "cell_type": "markdown",
   "id": "1cbadca8",
   "metadata": {},
   "source": [
    "# Base de donnée"
   ]
  },
  {
   "cell_type": "markdown",
   "id": "a17a7f72",
   "metadata": {},
   "source": [
    "La base de donnée a été crée suite à un questionnaire google forms partagé aux étudiants de l'esaip. Nous avons eu 40 réponses. Ce questionnaire est un questionnaire officiel nommée ILS (Index of Learning Style)"
   ]
  },
  {
   "cell_type": "code",
   "execution_count": 5,
   "id": "7d79f920",
   "metadata": {},
   "outputs": [],
   "source": [
    "bd = pd.read_csv(\"ILSdataset.csv\")"
   ]
  },
  {
   "cell_type": "code",
   "execution_count": 6,
   "id": "d66516db",
   "metadata": {
    "scrolled": true
   },
   "outputs": [
    {
     "data": {
      "text/html": [
       "<div>\n",
       "<style scoped>\n",
       "    .dataframe tbody tr th:only-of-type {\n",
       "        vertical-align: middle;\n",
       "    }\n",
       "\n",
       "    .dataframe tbody tr th {\n",
       "        vertical-align: top;\n",
       "    }\n",
       "\n",
       "    .dataframe thead th {\n",
       "        text-align: right;\n",
       "    }\n",
       "</style>\n",
       "<table border=\"1\" class=\"dataframe\">\n",
       "  <thead>\n",
       "    <tr style=\"text-align: right;\">\n",
       "      <th></th>\n",
       "      <th>Horodateur</th>\n",
       "      <th>Je comprends mieux quelque chose après l'avoir :</th>\n",
       "      <th>Je préférerais être considéré comme :</th>\n",
       "      <th>Lorsque je pense à ce que j'ai fait hier, j'ai le plus de chances d'avoir :</th>\n",
       "      <th>J'ai tendance à :</th>\n",
       "      <th>Lorsque j'apprends quelque chose de nouveau, cela m'aide à :</th>\n",
       "      <th>Si j'étais enseignant, je préférerais donner un cours :</th>\n",
       "      <th>Je préfère obtenir de nouvelles informations sous forme :</th>\n",
       "      <th>Une fois que j'ai compris :</th>\n",
       "      <th>Dans un groupe d'étude travaillant sur une matière difficile, je suis plus enclin à :</th>\n",
       "      <th>...</th>\n",
       "      <th>Lorsque je rencontre des gens à une fête, j'ai plus de chances de me rappeler :</th>\n",
       "      <th>Lorsque j'apprends un nouveau sujet, je préfère :</th>\n",
       "      <th>Je suis plus susceptible d'être considéré comme : .1</th>\n",
       "      <th>Je préfère les cours qui mettent l'accent sur</th>\n",
       "      <th>Pour me divertir, je préfère :</th>\n",
       "      <th>Certains enseignants commencent leurs cours par un aperçu de ce qu'ils vont aborder.  Ces schémas sont :\\n</th>\n",
       "      <th>L'idée de faire les devoirs en groupe, avec une seule note pour l'ensemble du groupe, est une idée qui :</th>\n",
       "      <th>Lorsque je fais de longs calculs :</th>\n",
       "      <th>J'ai tendance à me souvenir des endroits où j'ai été :</th>\n",
       "      <th>Lorsque je résous des problèmes en groupe, j'ai davantage tendance à :</th>\n",
       "    </tr>\n",
       "  </thead>\n",
       "  <tbody>\n",
       "    <tr>\n",
       "      <th>0</th>\n",
       "      <td>26/04/2023 14:40:44</td>\n",
       "      <td>essayer</td>\n",
       "      <td>Réaliste</td>\n",
       "      <td>Une photo</td>\n",
       "      <td>Comprendre la structure générale mais peut êtr...</td>\n",
       "      <td>en parler</td>\n",
       "      <td>qui traite de faits et de situations réelles.</td>\n",
       "      <td>des images, des diagrammes, des graphiques ou ...</td>\n",
       "      <td>L'ensemble, je vois comment les parties s'embo...</td>\n",
       "      <td>participer et apporter des idées.</td>\n",
       "      <td>...</td>\n",
       "      <td>de leur apparence.</td>\n",
       "      <td>essayer d'établir des liens entre ce sujet et ...</td>\n",
       "      <td>réservé(e).</td>\n",
       "      <td>le matériel concret (faits, données).</td>\n",
       "      <td>regarder la télévision.</td>\n",
       "      <td>assez utiles pour moi.</td>\n",
       "      <td>me plaît., ne me plaît pas.</td>\n",
       "      <td>j'ai tendance à répéter toutes mes étapes et à...</td>\n",
       "      <td>facilement et assez précisément.</td>\n",
       "      <td>penser aux étapes du processus de résolution.</td>\n",
       "    </tr>\n",
       "    <tr>\n",
       "      <th>1</th>\n",
       "      <td>26/04/2023 14:40:44</td>\n",
       "      <td>y avoir réfléchi</td>\n",
       "      <td>Innovant</td>\n",
       "      <td>Des mots</td>\n",
       "      <td>Comprendre la structure générale mais peut êtr...</td>\n",
       "      <td>en parler</td>\n",
       "      <td>qui traite de faits et de situations réelles.</td>\n",
       "      <td>des images, des diagrammes, des graphiques ou ...</td>\n",
       "      <td>L'ensemble, je vois comment les parties s'embo...</td>\n",
       "      <td>m'asseoir et écouter</td>\n",
       "      <td>...</td>\n",
       "      <td>de ce qu'ils ont dit d'eux-mêmes.</td>\n",
       "      <td>rester concentré sur ce sujet et en apprendre ...</td>\n",
       "      <td>extraverti(e).</td>\n",
       "      <td>le matériel concret (faits, données).</td>\n",
       "      <td>regarder la télévision.</td>\n",
       "      <td>assez utiles pour moi.</td>\n",
       "      <td>me plaît.</td>\n",
       "      <td>j'ai tendance à répéter toutes mes étapes et à...</td>\n",
       "      <td>facilement et assez précisément.</td>\n",
       "      <td>penser aux étapes du processus de résolution.</td>\n",
       "    </tr>\n",
       "    <tr>\n",
       "      <th>2</th>\n",
       "      <td>26/04/2023 14:43:07</td>\n",
       "      <td>essayer</td>\n",
       "      <td>Réaliste</td>\n",
       "      <td>Une photo</td>\n",
       "      <td>Comprendre la structure générale mais peut êtr...</td>\n",
       "      <td>en parler, y réfléchir</td>\n",
       "      <td>qui traite de faits et de situations réelles.</td>\n",
       "      <td>des images, des diagrammes, des graphiques ou ...</td>\n",
       "      <td>L'ensemble, je vois comment les parties s'embo...</td>\n",
       "      <td>m'asseoir et écouter</td>\n",
       "      <td>...</td>\n",
       "      <td>de leur apparence.</td>\n",
       "      <td>rester concentré sur ce sujet et en apprendre ...</td>\n",
       "      <td>réservé(e).</td>\n",
       "      <td>le matériel concret (faits, données).</td>\n",
       "      <td>regarder la télévision.</td>\n",
       "      <td>très utiles pour moi.</td>\n",
       "      <td>me plaît.</td>\n",
       "      <td>j'ai tendance à répéter toutes mes étapes et à...</td>\n",
       "      <td>facilement et assez précisément.</td>\n",
       "      <td>penser aux étapes du processus de résolution.</td>\n",
       "    </tr>\n",
       "    <tr>\n",
       "      <th>3</th>\n",
       "      <td>26/04/2023 14:44:19</td>\n",
       "      <td>y avoir réfléchi</td>\n",
       "      <td>Réaliste</td>\n",
       "      <td>Une photo</td>\n",
       "      <td>Comprendre la structure générale mais peut êtr...</td>\n",
       "      <td>y réfléchir</td>\n",
       "      <td>qui traite d'idées et de théories.</td>\n",
       "      <td>des images, des diagrammes, des graphiques ou ...</td>\n",
       "      <td>L'ensemble, je vois comment les parties s'embo...</td>\n",
       "      <td>participer et apporter des idées.</td>\n",
       "      <td>...</td>\n",
       "      <td>de leur apparence.</td>\n",
       "      <td>essayer d'établir des liens entre ce sujet et ...</td>\n",
       "      <td>extraverti(e).</td>\n",
       "      <td>le matériel abstrait (concepts, théories).</td>\n",
       "      <td>regarder la télévision., lire un livre.</td>\n",
       "      <td>assez utiles pour moi.</td>\n",
       "      <td>me plaît., ne me plaît pas.</td>\n",
       "      <td>je trouve fastidieux de vérifier mon travail e...</td>\n",
       "      <td>facilement et assez précisément.</td>\n",
       "      <td>penser aux étapes du processus de résolution.</td>\n",
       "    </tr>\n",
       "    <tr>\n",
       "      <th>4</th>\n",
       "      <td>26/04/2023 14:51:01</td>\n",
       "      <td>essayer</td>\n",
       "      <td>Innovant</td>\n",
       "      <td>Des mots</td>\n",
       "      <td>Comprendre les détails d'un sujet, mais ne pas...</td>\n",
       "      <td>y réfléchir</td>\n",
       "      <td>qui traite de faits et de situations réelles.</td>\n",
       "      <td>des images, des diagrammes, des graphiques ou ...</td>\n",
       "      <td>L'ensemble, je vois comment les parties s'embo...</td>\n",
       "      <td>participer et apporter des idées.</td>\n",
       "      <td>...</td>\n",
       "      <td>de leur apparence.</td>\n",
       "      <td>rester concentré sur ce sujet et en apprendre ...</td>\n",
       "      <td>extraverti(e).</td>\n",
       "      <td>le matériel concret (faits, données).</td>\n",
       "      <td>regarder la télévision.</td>\n",
       "      <td>assez utiles pour moi.</td>\n",
       "      <td>me plaît.</td>\n",
       "      <td>je trouve fastidieux de vérifier mon travail e...</td>\n",
       "      <td>facilement et assez précisément.</td>\n",
       "      <td>penser aux étapes du processus de résolution.</td>\n",
       "    </tr>\n",
       "  </tbody>\n",
       "</table>\n",
       "<p>5 rows × 45 columns</p>\n",
       "</div>"
      ],
      "text/plain": [
       "            Horodateur Je comprends mieux quelque chose après l'avoir :  \\\n",
       "0  26/04/2023 14:40:44                                          essayer   \n",
       "1  26/04/2023 14:40:44                                 y avoir réfléchi   \n",
       "2  26/04/2023 14:43:07                                          essayer   \n",
       "3  26/04/2023 14:44:19                                 y avoir réfléchi   \n",
       "4  26/04/2023 14:51:01                                          essayer   \n",
       "\n",
       "  Je préférerais être considéré comme :  \\\n",
       "0                              Réaliste   \n",
       "1                              Innovant   \n",
       "2                              Réaliste   \n",
       "3                              Réaliste   \n",
       "4                              Innovant   \n",
       "\n",
       "  Lorsque je pense à ce que j'ai fait hier, j'ai le plus de chances d'avoir :   \\\n",
       "0                                          Une photo                             \n",
       "1                                           Des mots                             \n",
       "2                                          Une photo                             \n",
       "3                                          Une photo                             \n",
       "4                                           Des mots                             \n",
       "\n",
       "                                  J'ai tendance à :   \\\n",
       "0  Comprendre la structure générale mais peut êtr...   \n",
       "1  Comprendre la structure générale mais peut êtr...   \n",
       "2  Comprendre la structure générale mais peut êtr...   \n",
       "3  Comprendre la structure générale mais peut êtr...   \n",
       "4  Comprendre les détails d'un sujet, mais ne pas...   \n",
       "\n",
       "  Lorsque j'apprends quelque chose de nouveau, cela m'aide à :   \\\n",
       "0                                          en parler              \n",
       "1                                          en parler              \n",
       "2                             en parler, y réfléchir              \n",
       "3                                        y réfléchir              \n",
       "4                                        y réfléchir              \n",
       "\n",
       "  Si j'étais enseignant, je préférerais donner un cours :   \\\n",
       "0      qui traite de faits et de situations réelles.         \n",
       "1      qui traite de faits et de situations réelles.         \n",
       "2      qui traite de faits et de situations réelles.         \n",
       "3                 qui traite d'idées et de théories.         \n",
       "4      qui traite de faits et de situations réelles.         \n",
       "\n",
       "  Je préfère obtenir de nouvelles informations sous forme :   \\\n",
       "0  des images, des diagrammes, des graphiques ou ...           \n",
       "1  des images, des diagrammes, des graphiques ou ...           \n",
       "2  des images, des diagrammes, des graphiques ou ...           \n",
       "3  des images, des diagrammes, des graphiques ou ...           \n",
       "4  des images, des diagrammes, des graphiques ou ...           \n",
       "\n",
       "                        Une fois que j'ai compris :   \\\n",
       "0  L'ensemble, je vois comment les parties s'embo...   \n",
       "1  L'ensemble, je vois comment les parties s'embo...   \n",
       "2  L'ensemble, je vois comment les parties s'embo...   \n",
       "3  L'ensemble, je vois comment les parties s'embo...   \n",
       "4  L'ensemble, je vois comment les parties s'embo...   \n",
       "\n",
       "  Dans un groupe d'étude travaillant sur une matière difficile, je suis plus enclin à :   \\\n",
       "0                  participer et apporter des idées.                                       \n",
       "1                               m'asseoir et écouter                                       \n",
       "2                               m'asseoir et écouter                                       \n",
       "3                  participer et apporter des idées.                                       \n",
       "4                  participer et apporter des idées.                                       \n",
       "\n",
       "   ...  \\\n",
       "0  ...   \n",
       "1  ...   \n",
       "2  ...   \n",
       "3  ...   \n",
       "4  ...   \n",
       "\n",
       "  Lorsque je rencontre des gens à une fête, j'ai plus de chances de me rappeler :   \\\n",
       "0                                 de leur apparence.                                 \n",
       "1                  de ce qu'ils ont dit d'eux-mêmes.                                 \n",
       "2                                 de leur apparence.                                 \n",
       "3                                 de leur apparence.                                 \n",
       "4                                 de leur apparence.                                 \n",
       "\n",
       "  Lorsque j'apprends un nouveau sujet, je préfère :   \\\n",
       "0  essayer d'établir des liens entre ce sujet et ...   \n",
       "1  rester concentré sur ce sujet et en apprendre ...   \n",
       "2  rester concentré sur ce sujet et en apprendre ...   \n",
       "3  essayer d'établir des liens entre ce sujet et ...   \n",
       "4  rester concentré sur ce sujet et en apprendre ...   \n",
       "\n",
       "  Je suis plus susceptible d'être considéré comme : .1  \\\n",
       "0                                        réservé(e).     \n",
       "1                                     extraverti(e).     \n",
       "2                                        réservé(e).     \n",
       "3                                     extraverti(e).     \n",
       "4                                     extraverti(e).     \n",
       "\n",
       "  Je préfère les cours qui mettent l'accent sur  \\\n",
       "0         le matériel concret (faits, données).   \n",
       "1         le matériel concret (faits, données).   \n",
       "2         le matériel concret (faits, données).   \n",
       "3    le matériel abstrait (concepts, théories).   \n",
       "4         le matériel concret (faits, données).   \n",
       "\n",
       "           Pour me divertir, je préfère :   \\\n",
       "0                  regarder la télévision.   \n",
       "1                  regarder la télévision.   \n",
       "2                  regarder la télévision.   \n",
       "3  regarder la télévision., lire un livre.   \n",
       "4                  regarder la télévision.   \n",
       "\n",
       "  Certains enseignants commencent leurs cours par un aperçu de ce qu'ils vont aborder.  Ces schémas sont :\\n  \\\n",
       "0                             assez utiles pour moi.                                                           \n",
       "1                             assez utiles pour moi.                                                           \n",
       "2                              très utiles pour moi.                                                           \n",
       "3                             assez utiles pour moi.                                                           \n",
       "4                             assez utiles pour moi.                                                           \n",
       "\n",
       "  L'idée de faire les devoirs en groupe, avec une seule note pour l'ensemble du groupe, est une idée qui :   \\\n",
       "0                        me plaît., ne me plaît pas.                                                          \n",
       "1                                          me plaît.                                                          \n",
       "2                                          me plaît.                                                          \n",
       "3                        me plaît., ne me plaît pas.                                                          \n",
       "4                                          me plaît.                                                          \n",
       "\n",
       "                 Lorsque je fais de longs calculs :   \\\n",
       "0  j'ai tendance à répéter toutes mes étapes et à...   \n",
       "1  j'ai tendance à répéter toutes mes étapes et à...   \n",
       "2  j'ai tendance à répéter toutes mes étapes et à...   \n",
       "3  je trouve fastidieux de vérifier mon travail e...   \n",
       "4  je trouve fastidieux de vérifier mon travail e...   \n",
       "\n",
       "  J'ai tendance à me souvenir des endroits où j'ai été :   \\\n",
       "0                   facilement et assez précisément.        \n",
       "1                   facilement et assez précisément.        \n",
       "2                   facilement et assez précisément.        \n",
       "3                   facilement et assez précisément.        \n",
       "4                   facilement et assez précisément.        \n",
       "\n",
       "  Lorsque je résous des problèmes en groupe, j'ai davantage tendance à :   \n",
       "0      penser aux étapes du processus de résolution.                       \n",
       "1      penser aux étapes du processus de résolution.                       \n",
       "2      penser aux étapes du processus de résolution.                       \n",
       "3      penser aux étapes du processus de résolution.                       \n",
       "4      penser aux étapes du processus de résolution.                       \n",
       "\n",
       "[5 rows x 45 columns]"
      ]
     },
     "execution_count": 6,
     "metadata": {},
     "output_type": "execute_result"
    }
   ],
   "source": [
    "bd.head()"
   ]
  },
  {
   "cell_type": "markdown",
   "id": "ab2eef96",
   "metadata": {},
   "source": [
    "## Understerding dataset"
   ]
  },
  {
   "cell_type": "code",
   "execution_count": 7,
   "id": "20c5bd5d",
   "metadata": {},
   "outputs": [
    {
     "data": {
      "text/plain": [
       "essayer             31\n",
       "y avoir réfléchi     9\n",
       "Name: Je comprends mieux quelque chose après l'avoir :, dtype: int64"
      ]
     },
     "execution_count": 7,
     "metadata": {},
     "output_type": "execute_result"
    }
   ],
   "source": [
    "bd[\"Je comprends mieux quelque chose après l'avoir :\"].value_counts()"
   ]
  },
  {
   "cell_type": "markdown",
   "id": "3e307978",
   "metadata": {},
   "source": [
    "# Nettoyer et créer des dummies pour chaque quesitons"
   ]
  },
  {
   "cell_type": "code",
   "execution_count": 8,
   "id": "42fda3d2",
   "metadata": {},
   "outputs": [],
   "source": [
    "bd = bd.drop(['Horodateur'], axis=1)\n",
    "#suppression d'une colonne qui n'aura pas d'utilité dans notre expérience"
   ]
  },
  {
   "cell_type": "code",
   "execution_count": 9,
   "id": "1c8a9578",
   "metadata": {
    "scrolled": true
   },
   "outputs": [
    {
     "data": {
      "text/html": [
       "<div>\n",
       "<style scoped>\n",
       "    .dataframe tbody tr th:only-of-type {\n",
       "        vertical-align: middle;\n",
       "    }\n",
       "\n",
       "    .dataframe tbody tr th {\n",
       "        vertical-align: top;\n",
       "    }\n",
       "\n",
       "    .dataframe thead th {\n",
       "        text-align: right;\n",
       "    }\n",
       "</style>\n",
       "<table border=\"1\" class=\"dataframe\">\n",
       "  <thead>\n",
       "    <tr style=\"text-align: right;\">\n",
       "      <th></th>\n",
       "      <th>Je comprends mieux quelque chose après l'avoir :</th>\n",
       "      <th>Je préférerais être considéré comme :</th>\n",
       "      <th>Lorsque je pense à ce que j'ai fait hier, j'ai le plus de chances d'avoir :</th>\n",
       "      <th>J'ai tendance à :</th>\n",
       "      <th>Lorsque j'apprends quelque chose de nouveau, cela m'aide à :</th>\n",
       "      <th>Si j'étais enseignant, je préférerais donner un cours :</th>\n",
       "      <th>Je préfère obtenir de nouvelles informations sous forme :</th>\n",
       "      <th>Une fois que j'ai compris :</th>\n",
       "      <th>Dans un groupe d'étude travaillant sur une matière difficile, je suis plus enclin à :</th>\n",
       "      <th>Je trouve qu'il est plus facile :</th>\n",
       "      <th>...</th>\n",
       "      <th>Lorsque je rencontre des gens à une fête, j'ai plus de chances de me rappeler :</th>\n",
       "      <th>Lorsque j'apprends un nouveau sujet, je préfère :</th>\n",
       "      <th>Je suis plus susceptible d'être considéré comme : .1</th>\n",
       "      <th>Je préfère les cours qui mettent l'accent sur</th>\n",
       "      <th>Pour me divertir, je préfère :</th>\n",
       "      <th>Certains enseignants commencent leurs cours par un aperçu de ce qu'ils vont aborder.  Ces schémas sont :\\n</th>\n",
       "      <th>L'idée de faire les devoirs en groupe, avec une seule note pour l'ensemble du groupe, est une idée qui :</th>\n",
       "      <th>Lorsque je fais de longs calculs :</th>\n",
       "      <th>J'ai tendance à me souvenir des endroits où j'ai été :</th>\n",
       "      <th>Lorsque je résous des problèmes en groupe, j'ai davantage tendance à :</th>\n",
       "    </tr>\n",
       "  </thead>\n",
       "  <tbody>\n",
       "    <tr>\n",
       "      <th>0</th>\n",
       "      <td>essayer</td>\n",
       "      <td>Réaliste</td>\n",
       "      <td>Une photo</td>\n",
       "      <td>Comprendre la structure générale mais peut êtr...</td>\n",
       "      <td>en parler</td>\n",
       "      <td>qui traite de faits et de situations réelles.</td>\n",
       "      <td>des images, des diagrammes, des graphiques ou ...</td>\n",
       "      <td>L'ensemble, je vois comment les parties s'embo...</td>\n",
       "      <td>participer et apporter des idées.</td>\n",
       "      <td>d'apprendre des concepts.</td>\n",
       "      <td>...</td>\n",
       "      <td>de leur apparence.</td>\n",
       "      <td>essayer d'établir des liens entre ce sujet et ...</td>\n",
       "      <td>réservé(e).</td>\n",
       "      <td>le matériel concret (faits, données).</td>\n",
       "      <td>regarder la télévision.</td>\n",
       "      <td>assez utiles pour moi.</td>\n",
       "      <td>me plaît., ne me plaît pas.</td>\n",
       "      <td>j'ai tendance à répéter toutes mes étapes et à...</td>\n",
       "      <td>facilement et assez précisément.</td>\n",
       "      <td>penser aux étapes du processus de résolution.</td>\n",
       "    </tr>\n",
       "  </tbody>\n",
       "</table>\n",
       "<p>1 rows × 44 columns</p>\n",
       "</div>"
      ],
      "text/plain": [
       "  Je comprends mieux quelque chose après l'avoir :  \\\n",
       "0                                          essayer   \n",
       "\n",
       "  Je préférerais être considéré comme :  \\\n",
       "0                              Réaliste   \n",
       "\n",
       "  Lorsque je pense à ce que j'ai fait hier, j'ai le plus de chances d'avoir :   \\\n",
       "0                                          Une photo                             \n",
       "\n",
       "                                  J'ai tendance à :   \\\n",
       "0  Comprendre la structure générale mais peut êtr...   \n",
       "\n",
       "  Lorsque j'apprends quelque chose de nouveau, cela m'aide à :   \\\n",
       "0                                          en parler              \n",
       "\n",
       "  Si j'étais enseignant, je préférerais donner un cours :   \\\n",
       "0      qui traite de faits et de situations réelles.         \n",
       "\n",
       "  Je préfère obtenir de nouvelles informations sous forme :   \\\n",
       "0  des images, des diagrammes, des graphiques ou ...           \n",
       "\n",
       "                        Une fois que j'ai compris :   \\\n",
       "0  L'ensemble, je vois comment les parties s'embo...   \n",
       "\n",
       "  Dans un groupe d'étude travaillant sur une matière difficile, je suis plus enclin à :   \\\n",
       "0                  participer et apporter des idées.                                       \n",
       "\n",
       "  Je trouve qu'il est plus facile :   ...  \\\n",
       "0          d'apprendre des concepts.  ...   \n",
       "\n",
       "  Lorsque je rencontre des gens à une fête, j'ai plus de chances de me rappeler :   \\\n",
       "0                                 de leur apparence.                                 \n",
       "\n",
       "  Lorsque j'apprends un nouveau sujet, je préfère :   \\\n",
       "0  essayer d'établir des liens entre ce sujet et ...   \n",
       "\n",
       "  Je suis plus susceptible d'être considéré comme : .1  \\\n",
       "0                                        réservé(e).     \n",
       "\n",
       "  Je préfère les cours qui mettent l'accent sur  \\\n",
       "0         le matériel concret (faits, données).   \n",
       "\n",
       "  Pour me divertir, je préfère :   \\\n",
       "0         regarder la télévision.   \n",
       "\n",
       "  Certains enseignants commencent leurs cours par un aperçu de ce qu'ils vont aborder.  Ces schémas sont :\\n  \\\n",
       "0                             assez utiles pour moi.                                                           \n",
       "\n",
       "  L'idée de faire les devoirs en groupe, avec une seule note pour l'ensemble du groupe, est une idée qui :   \\\n",
       "0                        me plaît., ne me plaît pas.                                                          \n",
       "\n",
       "                 Lorsque je fais de longs calculs :   \\\n",
       "0  j'ai tendance à répéter toutes mes étapes et à...   \n",
       "\n",
       "  J'ai tendance à me souvenir des endroits où j'ai été :   \\\n",
       "0                   facilement et assez précisément.        \n",
       "\n",
       "  Lorsque je résous des problèmes en groupe, j'ai davantage tendance à :   \n",
       "0      penser aux étapes du processus de résolution.                       \n",
       "\n",
       "[1 rows x 44 columns]"
      ]
     },
     "execution_count": 9,
     "metadata": {},
     "output_type": "execute_result"
    }
   ],
   "source": [
    "bd.head(1)"
   ]
  },
  {
   "cell_type": "markdown",
   "id": "dad1cf5e",
   "metadata": {},
   "source": [
    "## Selection des questions"
   ]
  },
  {
   "cell_type": "markdown",
   "id": "4565cde9-ab91-458e-b437-bd210162afe2",
   "metadata": {},
   "source": [
    "L'objectif ici est de réduire le nombre de questions. Car nous avons eu que 40 réponses et il y a trop de questions. Ainsi, il y a pas de pattern qui se dégagera. "
   ]
  },
  {
   "cell_type": "code",
   "execution_count": 10,
   "id": "52101d1f",
   "metadata": {},
   "outputs": [
    {
     "data": {
      "text/html": [
       "<div>\n",
       "<style scoped>\n",
       "    .dataframe tbody tr th:only-of-type {\n",
       "        vertical-align: middle;\n",
       "    }\n",
       "\n",
       "    .dataframe tbody tr th {\n",
       "        vertical-align: top;\n",
       "    }\n",
       "\n",
       "    .dataframe thead th {\n",
       "        text-align: right;\n",
       "    }\n",
       "</style>\n",
       "<table border=\"1\" class=\"dataframe\">\n",
       "  <thead>\n",
       "    <tr style=\"text-align: right;\">\n",
       "      <th></th>\n",
       "      <th>Je comprends mieux quelque chose après l'avoir :</th>\n",
       "      <th>Je préférerais être considéré comme :</th>\n",
       "      <th>Lorsque je pense à ce que j'ai fait hier, j'ai le plus de chances d'avoir :</th>\n",
       "      <th>J'ai tendance à :</th>\n",
       "      <th>Lorsque j'apprends quelque chose de nouveau, cela m'aide à :</th>\n",
       "      <th>Si j'étais enseignant, je préférerais donner un cours :</th>\n",
       "      <th>Je préfère obtenir de nouvelles informations sous forme :</th>\n",
       "      <th>Une fois que j'ai compris :</th>\n",
       "      <th>Dans un groupe d'étude travaillant sur une matière difficile, je suis plus enclin à :</th>\n",
       "      <th>Je trouve qu'il est plus facile :</th>\n",
       "      <th>Dans un livre contenant beaucoup d'images et de graphiques, je suis susceptible de :</th>\n",
       "      <th>Lorsque je résous des problèmes mathématiques</th>\n",
       "      <th>Dans les cours que j'ai suivis :</th>\n",
       "      <th>Lorsque je lis des ouvrages non fictionnels, je préfère :</th>\n",
       "      <th>J'aime les professeurs :</th>\n",
       "      <th>Lorsque j'analyse une histoire ou un roman :</th>\n",
       "      <th>Lorsque je commence un problème de devoir, j'ai tendance à :</th>\n",
       "      <th>Je préfère l'idée de :</th>\n",
       "      <th>Je me souviens mieux :</th>\n",
       "    </tr>\n",
       "  </thead>\n",
       "  <tbody>\n",
       "    <tr>\n",
       "      <th>0</th>\n",
       "      <td>essayer</td>\n",
       "      <td>Réaliste</td>\n",
       "      <td>Une photo</td>\n",
       "      <td>Comprendre la structure générale mais peut êtr...</td>\n",
       "      <td>en parler</td>\n",
       "      <td>qui traite de faits et de situations réelles.</td>\n",
       "      <td>des images, des diagrammes, des graphiques ou ...</td>\n",
       "      <td>L'ensemble, je vois comment les parties s'embo...</td>\n",
       "      <td>participer et apporter des idées.</td>\n",
       "      <td>d'apprendre des concepts.</td>\n",
       "      <td>regarder attentivement les images et les table...</td>\n",
       "      <td>J'arrive généralement à trouver les solutions ...</td>\n",
       "      <td>J'ai rarement appris à connaître beaucoup d'ét...</td>\n",
       "      <td>quelque chose qui m'apprend de nouveaux faits ...</td>\n",
       "      <td>qui mettent beaucoup de diagrammes au tableau.</td>\n",
       "      <td>Je sais seulement quels sont les thèmes lorsqu...</td>\n",
       "      <td>essayer d'abord de bien comprendre le problème.</td>\n",
       "      <td>certitude</td>\n",
       "      <td>de ce que je vois., de ce que j'entends.</td>\n",
       "    </tr>\n",
       "    <tr>\n",
       "      <th>1</th>\n",
       "      <td>y avoir réfléchi</td>\n",
       "      <td>Innovant</td>\n",
       "      <td>Des mots</td>\n",
       "      <td>Comprendre la structure générale mais peut êtr...</td>\n",
       "      <td>en parler</td>\n",
       "      <td>qui traite de faits et de situations réelles.</td>\n",
       "      <td>des images, des diagrammes, des graphiques ou ...</td>\n",
       "      <td>L'ensemble, je vois comment les parties s'embo...</td>\n",
       "      <td>m'asseoir et écouter</td>\n",
       "      <td>d'apprendre des faits.</td>\n",
       "      <td>me concentrer sur le texte écrit.</td>\n",
       "      <td>J'arrive généralement à trouver les solutions ...</td>\n",
       "      <td>J'ai généralement appris à connaître beaucoup ...</td>\n",
       "      <td>quelque chose qui me donne de nouvelles idées ...</td>\n",
       "      <td>qui passent beaucoup de temps à expliquer.</td>\n",
       "      <td>Je sais seulement quels sont les thèmes lorsqu...</td>\n",
       "      <td>commencer à travailler sur la solution immédia...</td>\n",
       "      <td>théorie</td>\n",
       "      <td>de ce que je vois.</td>\n",
       "    </tr>\n",
       "  </tbody>\n",
       "</table>\n",
       "</div>"
      ],
      "text/plain": [
       "  Je comprends mieux quelque chose après l'avoir :  \\\n",
       "0                                          essayer   \n",
       "1                                 y avoir réfléchi   \n",
       "\n",
       "  Je préférerais être considéré comme :  \\\n",
       "0                              Réaliste   \n",
       "1                              Innovant   \n",
       "\n",
       "  Lorsque je pense à ce que j'ai fait hier, j'ai le plus de chances d'avoir :   \\\n",
       "0                                          Une photo                             \n",
       "1                                           Des mots                             \n",
       "\n",
       "                                  J'ai tendance à :   \\\n",
       "0  Comprendre la structure générale mais peut êtr...   \n",
       "1  Comprendre la structure générale mais peut êtr...   \n",
       "\n",
       "  Lorsque j'apprends quelque chose de nouveau, cela m'aide à :   \\\n",
       "0                                          en parler              \n",
       "1                                          en parler              \n",
       "\n",
       "  Si j'étais enseignant, je préférerais donner un cours :   \\\n",
       "0      qui traite de faits et de situations réelles.         \n",
       "1      qui traite de faits et de situations réelles.         \n",
       "\n",
       "  Je préfère obtenir de nouvelles informations sous forme :   \\\n",
       "0  des images, des diagrammes, des graphiques ou ...           \n",
       "1  des images, des diagrammes, des graphiques ou ...           \n",
       "\n",
       "                        Une fois que j'ai compris :   \\\n",
       "0  L'ensemble, je vois comment les parties s'embo...   \n",
       "1  L'ensemble, je vois comment les parties s'embo...   \n",
       "\n",
       "  Dans un groupe d'étude travaillant sur une matière difficile, je suis plus enclin à :   \\\n",
       "0                  participer et apporter des idées.                                       \n",
       "1                               m'asseoir et écouter                                       \n",
       "\n",
       "  Je trouve qu'il est plus facile :   \\\n",
       "0          d'apprendre des concepts.   \n",
       "1             d'apprendre des faits.   \n",
       "\n",
       "  Dans un livre contenant beaucoup d'images et de graphiques, je suis susceptible de :   \\\n",
       "0  regarder attentivement les images et les table...                                      \n",
       "1                  me concentrer sur le texte écrit.                                      \n",
       "\n",
       "       Lorsque je résous des problèmes mathématiques  \\\n",
       "0  J'arrive généralement à trouver les solutions ...   \n",
       "1  J'arrive généralement à trouver les solutions ...   \n",
       "\n",
       "                   Dans les cours que j'ai suivis :   \\\n",
       "0  J'ai rarement appris à connaître beaucoup d'ét...   \n",
       "1  J'ai généralement appris à connaître beaucoup ...   \n",
       "\n",
       "  Lorsque je lis des ouvrages non fictionnels, je préfère :   \\\n",
       "0  quelque chose qui m'apprend de nouveaux faits ...           \n",
       "1  quelque chose qui me donne de nouvelles idées ...           \n",
       "\n",
       "                        J'aime les professeurs :   \\\n",
       "0  qui mettent beaucoup de diagrammes au tableau.   \n",
       "1      qui passent beaucoup de temps à expliquer.   \n",
       "\n",
       "       Lorsque j'analyse une histoire ou un roman :   \\\n",
       "0  Je sais seulement quels sont les thèmes lorsqu...   \n",
       "1  Je sais seulement quels sont les thèmes lorsqu...   \n",
       "\n",
       "  Lorsque je commence un problème de devoir, j'ai tendance à :   \\\n",
       "0    essayer d'abord de bien comprendre le problème.              \n",
       "1  commencer à travailler sur la solution immédia...              \n",
       "\n",
       "  Je préfère l'idée de :                    Je me souviens mieux :   \n",
       "0               certitude  de ce que je vois., de ce que j'entends.  \n",
       "1                 théorie                        de ce que je vois.  "
      ]
     },
     "execution_count": 10,
     "metadata": {},
     "output_type": "execute_result"
    }
   ],
   "source": [
    "bd = bd.iloc[:, 0:19]  #je prends la moitié des variables qualitatives/ dépendantes, on pourrait essayer de prendre aussi le quart des variables qualitatives/ dépendantes\n",
    "bd.head(2)"
   ]
  },
  {
   "cell_type": "markdown",
   "id": "ae17ad8a",
   "metadata": {},
   "source": [
    "### Qu'est ce que les dummies ? "
   ]
  },
  {
   "cell_type": "markdown",
   "id": "8b002add",
   "metadata": {},
   "source": [
    "Ici dans notre base de données nous avons pleins de variables qualitatives, c'est à des dire des variables qui prennent pour valeur des catégories. Par exemple la taille est une variable quantitative mais le genre est une variable qualitative. "
   ]
  },
  {
   "cell_type": "markdown",
   "id": "231183e9",
   "metadata": {},
   "source": [
    "Le but des dummies est de représenter ces variables de manière binaire. Puisque dans le quesitonnaire ILS, à chaque fois que vous aviez le choix entre 2 réponses, elles vous mettent de fait dans une catégorie. "
   ]
  },
  {
   "cell_type": "markdown",
   "id": "61e4e76a",
   "metadata": {},
   "source": [
    "#### Exemple des Dummies sur la col 1"
   ]
  },
  {
   "cell_type": "code",
   "execution_count": 11,
   "id": "549b7d6b",
   "metadata": {},
   "outputs": [],
   "source": [
    "bd = pd.get_dummies(bd, columns =[\"Je comprends mieux quelque chose après l'avoir :\"], drop_first= True)"
   ]
  },
  {
   "cell_type": "code",
   "execution_count": 12,
   "id": "42dc91da",
   "metadata": {},
   "outputs": [
    {
     "name": "stdout",
     "output_type": "stream",
     "text": [
      "<class 'pandas.core.frame.DataFrame'>\n",
      "RangeIndex: 40 entries, 0 to 39\n",
      "Data columns (total 19 columns):\n",
      " #   Column                                                                                  Non-Null Count  Dtype \n",
      "---  ------                                                                                  --------------  ----- \n",
      " 0   Je préférerais être considéré comme :                                                   40 non-null     object\n",
      " 1   Lorsque je pense à ce que j'ai fait hier, j'ai le plus de chances d'avoir :             40 non-null     object\n",
      " 2   J'ai tendance à :                                                                       40 non-null     object\n",
      " 3   Lorsque j'apprends quelque chose de nouveau, cela m'aide à :                            40 non-null     object\n",
      " 4   Si j'étais enseignant, je préférerais donner un cours :                                 40 non-null     object\n",
      " 5   Je préfère obtenir de nouvelles informations sous forme :                               40 non-null     object\n",
      " 6   Une fois que j'ai compris :                                                             40 non-null     object\n",
      " 7   Dans un groupe d'étude travaillant sur une matière difficile, je suis plus enclin à :   40 non-null     object\n",
      " 8   Je trouve qu'il est plus facile :                                                       40 non-null     object\n",
      " 9   Dans un livre contenant beaucoup d'images et de graphiques, je suis susceptible de :    40 non-null     object\n",
      " 10  Lorsque je résous des problèmes mathématiques                                           40 non-null     object\n",
      " 11  Dans les cours que j'ai suivis :                                                        40 non-null     object\n",
      " 12  Lorsque je lis des ouvrages non fictionnels, je préfère :                               40 non-null     object\n",
      " 13  J'aime les professeurs :                                                                40 non-null     object\n",
      " 14  Lorsque j'analyse une histoire ou un roman :                                            40 non-null     object\n",
      " 15  Lorsque je commence un problème de devoir, j'ai tendance à :                            40 non-null     object\n",
      " 16  Je préfère l'idée de :                                                                  40 non-null     object\n",
      " 17  Je me souviens mieux :                                                                  40 non-null     object\n",
      " 18  Je comprends mieux quelque chose après l'avoir :_y avoir réfléchi                       40 non-null     uint8 \n",
      "dtypes: object(18), uint8(1)\n",
      "memory usage: 5.8+ KB\n"
     ]
    }
   ],
   "source": [
    "bd.info()"
   ]
  },
  {
   "cell_type": "code",
   "execution_count": 13,
   "id": "d36eac09",
   "metadata": {},
   "outputs": [
    {
     "data": {
      "text/html": [
       "<div>\n",
       "<style scoped>\n",
       "    .dataframe tbody tr th:only-of-type {\n",
       "        vertical-align: middle;\n",
       "    }\n",
       "\n",
       "    .dataframe tbody tr th {\n",
       "        vertical-align: top;\n",
       "    }\n",
       "\n",
       "    .dataframe thead th {\n",
       "        text-align: right;\n",
       "    }\n",
       "</style>\n",
       "<table border=\"1\" class=\"dataframe\">\n",
       "  <thead>\n",
       "    <tr style=\"text-align: right;\">\n",
       "      <th></th>\n",
       "      <th>Je préférerais être considéré comme :</th>\n",
       "      <th>Lorsque je pense à ce que j'ai fait hier, j'ai le plus de chances d'avoir :</th>\n",
       "      <th>J'ai tendance à :</th>\n",
       "      <th>Lorsque j'apprends quelque chose de nouveau, cela m'aide à :</th>\n",
       "      <th>Si j'étais enseignant, je préférerais donner un cours :</th>\n",
       "      <th>Je préfère obtenir de nouvelles informations sous forme :</th>\n",
       "      <th>Une fois que j'ai compris :</th>\n",
       "      <th>Dans un groupe d'étude travaillant sur une matière difficile, je suis plus enclin à :</th>\n",
       "      <th>Je trouve qu'il est plus facile :</th>\n",
       "      <th>Dans un livre contenant beaucoup d'images et de graphiques, je suis susceptible de :</th>\n",
       "      <th>Lorsque je résous des problèmes mathématiques</th>\n",
       "      <th>Dans les cours que j'ai suivis :</th>\n",
       "      <th>Lorsque je lis des ouvrages non fictionnels, je préfère :</th>\n",
       "      <th>J'aime les professeurs :</th>\n",
       "      <th>Lorsque j'analyse une histoire ou un roman :</th>\n",
       "      <th>Lorsque je commence un problème de devoir, j'ai tendance à :</th>\n",
       "      <th>Je préfère l'idée de :</th>\n",
       "      <th>Je me souviens mieux :</th>\n",
       "      <th>Je comprends mieux quelque chose après l'avoir :_y avoir réfléchi</th>\n",
       "    </tr>\n",
       "  </thead>\n",
       "  <tbody>\n",
       "    <tr>\n",
       "      <th>0</th>\n",
       "      <td>Réaliste</td>\n",
       "      <td>Une photo</td>\n",
       "      <td>Comprendre la structure générale mais peut êtr...</td>\n",
       "      <td>en parler</td>\n",
       "      <td>qui traite de faits et de situations réelles.</td>\n",
       "      <td>des images, des diagrammes, des graphiques ou ...</td>\n",
       "      <td>L'ensemble, je vois comment les parties s'embo...</td>\n",
       "      <td>participer et apporter des idées.</td>\n",
       "      <td>d'apprendre des concepts.</td>\n",
       "      <td>regarder attentivement les images et les table...</td>\n",
       "      <td>J'arrive généralement à trouver les solutions ...</td>\n",
       "      <td>J'ai rarement appris à connaître beaucoup d'ét...</td>\n",
       "      <td>quelque chose qui m'apprend de nouveaux faits ...</td>\n",
       "      <td>qui mettent beaucoup de diagrammes au tableau.</td>\n",
       "      <td>Je sais seulement quels sont les thèmes lorsqu...</td>\n",
       "      <td>essayer d'abord de bien comprendre le problème.</td>\n",
       "      <td>certitude</td>\n",
       "      <td>de ce que je vois., de ce que j'entends.</td>\n",
       "      <td>0</td>\n",
       "    </tr>\n",
       "    <tr>\n",
       "      <th>1</th>\n",
       "      <td>Innovant</td>\n",
       "      <td>Des mots</td>\n",
       "      <td>Comprendre la structure générale mais peut êtr...</td>\n",
       "      <td>en parler</td>\n",
       "      <td>qui traite de faits et de situations réelles.</td>\n",
       "      <td>des images, des diagrammes, des graphiques ou ...</td>\n",
       "      <td>L'ensemble, je vois comment les parties s'embo...</td>\n",
       "      <td>m'asseoir et écouter</td>\n",
       "      <td>d'apprendre des faits.</td>\n",
       "      <td>me concentrer sur le texte écrit.</td>\n",
       "      <td>J'arrive généralement à trouver les solutions ...</td>\n",
       "      <td>J'ai généralement appris à connaître beaucoup ...</td>\n",
       "      <td>quelque chose qui me donne de nouvelles idées ...</td>\n",
       "      <td>qui passent beaucoup de temps à expliquer.</td>\n",
       "      <td>Je sais seulement quels sont les thèmes lorsqu...</td>\n",
       "      <td>commencer à travailler sur la solution immédia...</td>\n",
       "      <td>théorie</td>\n",
       "      <td>de ce que je vois.</td>\n",
       "      <td>1</td>\n",
       "    </tr>\n",
       "  </tbody>\n",
       "</table>\n",
       "</div>"
      ],
      "text/plain": [
       "  Je préférerais être considéré comme :  \\\n",
       "0                              Réaliste   \n",
       "1                              Innovant   \n",
       "\n",
       "  Lorsque je pense à ce que j'ai fait hier, j'ai le plus de chances d'avoir :   \\\n",
       "0                                          Une photo                             \n",
       "1                                           Des mots                             \n",
       "\n",
       "                                  J'ai tendance à :   \\\n",
       "0  Comprendre la structure générale mais peut êtr...   \n",
       "1  Comprendre la structure générale mais peut êtr...   \n",
       "\n",
       "  Lorsque j'apprends quelque chose de nouveau, cela m'aide à :   \\\n",
       "0                                          en parler              \n",
       "1                                          en parler              \n",
       "\n",
       "  Si j'étais enseignant, je préférerais donner un cours :   \\\n",
       "0      qui traite de faits et de situations réelles.         \n",
       "1      qui traite de faits et de situations réelles.         \n",
       "\n",
       "  Je préfère obtenir de nouvelles informations sous forme :   \\\n",
       "0  des images, des diagrammes, des graphiques ou ...           \n",
       "1  des images, des diagrammes, des graphiques ou ...           \n",
       "\n",
       "                        Une fois que j'ai compris :   \\\n",
       "0  L'ensemble, je vois comment les parties s'embo...   \n",
       "1  L'ensemble, je vois comment les parties s'embo...   \n",
       "\n",
       "  Dans un groupe d'étude travaillant sur une matière difficile, je suis plus enclin à :   \\\n",
       "0                  participer et apporter des idées.                                       \n",
       "1                               m'asseoir et écouter                                       \n",
       "\n",
       "  Je trouve qu'il est plus facile :   \\\n",
       "0          d'apprendre des concepts.   \n",
       "1             d'apprendre des faits.   \n",
       "\n",
       "  Dans un livre contenant beaucoup d'images et de graphiques, je suis susceptible de :   \\\n",
       "0  regarder attentivement les images et les table...                                      \n",
       "1                  me concentrer sur le texte écrit.                                      \n",
       "\n",
       "       Lorsque je résous des problèmes mathématiques  \\\n",
       "0  J'arrive généralement à trouver les solutions ...   \n",
       "1  J'arrive généralement à trouver les solutions ...   \n",
       "\n",
       "                   Dans les cours que j'ai suivis :   \\\n",
       "0  J'ai rarement appris à connaître beaucoup d'ét...   \n",
       "1  J'ai généralement appris à connaître beaucoup ...   \n",
       "\n",
       "  Lorsque je lis des ouvrages non fictionnels, je préfère :   \\\n",
       "0  quelque chose qui m'apprend de nouveaux faits ...           \n",
       "1  quelque chose qui me donne de nouvelles idées ...           \n",
       "\n",
       "                        J'aime les professeurs :   \\\n",
       "0  qui mettent beaucoup de diagrammes au tableau.   \n",
       "1      qui passent beaucoup de temps à expliquer.   \n",
       "\n",
       "       Lorsque j'analyse une histoire ou un roman :   \\\n",
       "0  Je sais seulement quels sont les thèmes lorsqu...   \n",
       "1  Je sais seulement quels sont les thèmes lorsqu...   \n",
       "\n",
       "  Lorsque je commence un problème de devoir, j'ai tendance à :   \\\n",
       "0    essayer d'abord de bien comprendre le problème.              \n",
       "1  commencer à travailler sur la solution immédia...              \n",
       "\n",
       "  Je préfère l'idée de :                    Je me souviens mieux :   \\\n",
       "0               certitude  de ce que je vois., de ce que j'entends.   \n",
       "1                 théorie                        de ce que je vois.   \n",
       "\n",
       "   Je comprends mieux quelque chose après l'avoir :_y avoir réfléchi  \n",
       "0                                                  0                  \n",
       "1                                                  1                  "
      ]
     },
     "execution_count": 13,
     "metadata": {},
     "output_type": "execute_result"
    }
   ],
   "source": [
    "bd.head(2)"
   ]
  },
  {
   "cell_type": "markdown",
   "id": "43dd734d",
   "metadata": {},
   "source": [
    "#### Dummies pour toutes les cols"
   ]
  },
  {
   "cell_type": "code",
   "execution_count": 14,
   "id": "b446d7ba",
   "metadata": {},
   "outputs": [],
   "source": [
    "cols_headers = list(bd.columns.values)"
   ]
  },
  {
   "cell_type": "code",
   "execution_count": 15,
   "id": "2b58a9fc",
   "metadata": {},
   "outputs": [],
   "source": [
    "del(cols_headers[-1])"
   ]
  },
  {
   "cell_type": "code",
   "execution_count": 16,
   "id": "9caf8411",
   "metadata": {},
   "outputs": [
    {
     "data": {
      "text/plain": [
       "['Je préférerais être considéré comme :',\n",
       " \"Lorsque je pense à ce que j'ai fait hier, j'ai le plus de chances d'avoir : \",\n",
       " \"J'ai tendance à : \",\n",
       " \"Lorsque j'apprends quelque chose de nouveau, cela m'aide à : \",\n",
       " \"Si j'étais enseignant, je préférerais donner un cours : \",\n",
       " 'Je préfère obtenir de nouvelles informations sous forme : ',\n",
       " \"Une fois que j'ai compris : \",\n",
       " \"Dans un groupe d'étude travaillant sur une matière difficile, je suis plus enclin à : \",\n",
       " \"Je trouve qu'il est plus facile : \",\n",
       " \"Dans un livre contenant beaucoup d'images et de graphiques, je suis susceptible de : \",\n",
       " 'Lorsque je résous des problèmes mathématiques',\n",
       " \"Dans les cours que j'ai suivis : \",\n",
       " 'Lorsque je lis des ouvrages non fictionnels, je préfère : ',\n",
       " \"J'aime les professeurs : \",\n",
       " \"Lorsque j'analyse une histoire ou un roman : \",\n",
       " \"Lorsque je commence un problème de devoir, j'ai tendance à : \",\n",
       " \"Je préfère l'idée de : \",\n",
       " 'Je me souviens mieux : ']"
      ]
     },
     "execution_count": 16,
     "metadata": {},
     "output_type": "execute_result"
    }
   ],
   "source": [
    "cols_headers"
   ]
  },
  {
   "cell_type": "code",
   "execution_count": 17,
   "id": "8dde574e",
   "metadata": {},
   "outputs": [],
   "source": [
    "bd = pd.get_dummies(bd, columns =cols_headers, drop_first= True)"
   ]
  },
  {
   "cell_type": "code",
   "execution_count": 18,
   "id": "d9ac87fc",
   "metadata": {
    "scrolled": true
   },
   "outputs": [
    {
     "data": {
      "text/html": [
       "<div>\n",
       "<style scoped>\n",
       "    .dataframe tbody tr th:only-of-type {\n",
       "        vertical-align: middle;\n",
       "    }\n",
       "\n",
       "    .dataframe tbody tr th {\n",
       "        vertical-align: top;\n",
       "    }\n",
       "\n",
       "    .dataframe thead th {\n",
       "        text-align: right;\n",
       "    }\n",
       "</style>\n",
       "<table border=\"1\" class=\"dataframe\">\n",
       "  <thead>\n",
       "    <tr style=\"text-align: right;\">\n",
       "      <th></th>\n",
       "      <th>Je comprends mieux quelque chose après l'avoir :_y avoir réfléchi</th>\n",
       "      <th>Je préférerais être considéré comme :_Réaliste</th>\n",
       "      <th>Lorsque je pense à ce que j'ai fait hier, j'ai le plus de chances d'avoir : _Une photo</th>\n",
       "      <th>J'ai tendance à : _Comprendre les détails d'un sujet, mais ne pas en saisir la structure générale.</th>\n",
       "      <th>J'ai tendance à : _Comprendre les détails d'un sujet, mais ne pas en saisir la structure générale., Comprendre la structure générale mais peut être flou sur les détails.</th>\n",
       "      <th>Lorsque j'apprends quelque chose de nouveau, cela m'aide à : _en parler, y réfléchir</th>\n",
       "      <th>Lorsque j'apprends quelque chose de nouveau, cela m'aide à : _y réfléchir</th>\n",
       "      <th>Si j'étais enseignant, je préférerais donner un cours : _qui traite de faits et de situations réelles.</th>\n",
       "      <th>Je préfère obtenir de nouvelles informations sous forme : _des images, des diagrammes, des graphiques ou des cartes., des instructions écrites ou des informations orales.</th>\n",
       "      <th>Je préfère obtenir de nouvelles informations sous forme : _des instructions écrites ou des informations orales.</th>\n",
       "      <th>...</th>\n",
       "      <th>Dans les cours que j'ai suivis : _J'ai rarement appris à connaître beaucoup d'étudiants.</th>\n",
       "      <th>Lorsque je lis des ouvrages non fictionnels, je préfère : _quelque chose qui m'apprend de nouveaux faits ou qui me dit comment faire quelque chose., quelque chose qui me donne de nouvelles idées pour réfléchir.</th>\n",
       "      <th>Lorsque je lis des ouvrages non fictionnels, je préfère : _quelque chose qui me donne de nouvelles idées pour réfléchir.</th>\n",
       "      <th>J'aime les professeurs : _qui passent beaucoup de temps à expliquer.</th>\n",
       "      <th>Lorsque j'analyse une histoire ou un roman : _je pense aux incidents et j'essaie de les mettre en relation pour comprendre les thèmes.</th>\n",
       "      <th>Lorsque j'analyse une histoire ou un roman : _je pense aux incidents et j'essaie de les mettre en relation pour comprendre les thèmes., Je sais seulement quels sont les thèmes lorsque j'ai fini de lire, puis je dois revenir en arrière et trouver les incidents qui les illustrent.</th>\n",
       "      <th>Lorsque je commence un problème de devoir, j'ai tendance à : _essayer d'abord de bien comprendre le problème.</th>\n",
       "      <th>Je préfère l'idée de : _théorie</th>\n",
       "      <th>Je me souviens mieux : _de ce que je vois.</th>\n",
       "      <th>Je me souviens mieux : _de ce que je vois., de ce que j'entends.</th>\n",
       "    </tr>\n",
       "  </thead>\n",
       "  <tbody>\n",
       "    <tr>\n",
       "      <th>0</th>\n",
       "      <td>0</td>\n",
       "      <td>1</td>\n",
       "      <td>1</td>\n",
       "      <td>0</td>\n",
       "      <td>0</td>\n",
       "      <td>0</td>\n",
       "      <td>0</td>\n",
       "      <td>1</td>\n",
       "      <td>0</td>\n",
       "      <td>0</td>\n",
       "      <td>...</td>\n",
       "      <td>1</td>\n",
       "      <td>0</td>\n",
       "      <td>0</td>\n",
       "      <td>0</td>\n",
       "      <td>0</td>\n",
       "      <td>0</td>\n",
       "      <td>1</td>\n",
       "      <td>0</td>\n",
       "      <td>0</td>\n",
       "      <td>1</td>\n",
       "    </tr>\n",
       "    <tr>\n",
       "      <th>1</th>\n",
       "      <td>1</td>\n",
       "      <td>0</td>\n",
       "      <td>0</td>\n",
       "      <td>0</td>\n",
       "      <td>0</td>\n",
       "      <td>0</td>\n",
       "      <td>0</td>\n",
       "      <td>1</td>\n",
       "      <td>0</td>\n",
       "      <td>0</td>\n",
       "      <td>...</td>\n",
       "      <td>0</td>\n",
       "      <td>0</td>\n",
       "      <td>1</td>\n",
       "      <td>1</td>\n",
       "      <td>0</td>\n",
       "      <td>0</td>\n",
       "      <td>0</td>\n",
       "      <td>1</td>\n",
       "      <td>1</td>\n",
       "      <td>0</td>\n",
       "    </tr>\n",
       "  </tbody>\n",
       "</table>\n",
       "<p>2 rows × 28 columns</p>\n",
       "</div>"
      ],
      "text/plain": [
       "   Je comprends mieux quelque chose après l'avoir :_y avoir réfléchi  \\\n",
       "0                                                  0                   \n",
       "1                                                  1                   \n",
       "\n",
       "   Je préférerais être considéré comme :_Réaliste  \\\n",
       "0                                               1   \n",
       "1                                               0   \n",
       "\n",
       "   Lorsque je pense à ce que j'ai fait hier, j'ai le plus de chances d'avoir : _Une photo  \\\n",
       "0                                                  1                                        \n",
       "1                                                  0                                        \n",
       "\n",
       "   J'ai tendance à : _Comprendre les détails d'un sujet, mais ne pas en saisir la structure générale.  \\\n",
       "0                                                  0                                                    \n",
       "1                                                  0                                                    \n",
       "\n",
       "   J'ai tendance à : _Comprendre les détails d'un sujet, mais ne pas en saisir la structure générale., Comprendre la structure générale mais peut être flou sur les détails.  \\\n",
       "0                                                  0                                                                                                                           \n",
       "1                                                  0                                                                                                                           \n",
       "\n",
       "   Lorsque j'apprends quelque chose de nouveau, cela m'aide à : _en parler, y réfléchir  \\\n",
       "0                                                  0                                      \n",
       "1                                                  0                                      \n",
       "\n",
       "   Lorsque j'apprends quelque chose de nouveau, cela m'aide à : _y réfléchir  \\\n",
       "0                                                  0                           \n",
       "1                                                  0                           \n",
       "\n",
       "   Si j'étais enseignant, je préférerais donner un cours : _qui traite de faits et de situations réelles.  \\\n",
       "0                                                  1                                                        \n",
       "1                                                  1                                                        \n",
       "\n",
       "   Je préfère obtenir de nouvelles informations sous forme : _des images, des diagrammes, des graphiques ou des cartes., des instructions écrites ou des informations orales.  \\\n",
       "0                                                  0                                                                                                                            \n",
       "1                                                  0                                                                                                                            \n",
       "\n",
       "   Je préfère obtenir de nouvelles informations sous forme : _des instructions écrites ou des informations orales.  \\\n",
       "0                                                  0                                                                 \n",
       "1                                                  0                                                                 \n",
       "\n",
       "   ...  \\\n",
       "0  ...   \n",
       "1  ...   \n",
       "\n",
       "   Dans les cours que j'ai suivis : _J'ai rarement appris à connaître beaucoup d'étudiants.  \\\n",
       "0                                                  1                                          \n",
       "1                                                  0                                          \n",
       "\n",
       "   Lorsque je lis des ouvrages non fictionnels, je préfère : _quelque chose qui m'apprend de nouveaux faits ou qui me dit comment faire quelque chose., quelque chose qui me donne de nouvelles idées pour réfléchir.  \\\n",
       "0                                                  0                                                                                                                                                                    \n",
       "1                                                  0                                                                                                                                                                    \n",
       "\n",
       "   Lorsque je lis des ouvrages non fictionnels, je préfère : _quelque chose qui me donne de nouvelles idées pour réfléchir.  \\\n",
       "0                                                  0                                                                          \n",
       "1                                                  1                                                                          \n",
       "\n",
       "   J'aime les professeurs : _qui passent beaucoup de temps à expliquer.  \\\n",
       "0                                                  0                      \n",
       "1                                                  1                      \n",
       "\n",
       "   Lorsque j'analyse une histoire ou un roman : _je pense aux incidents et j'essaie de les mettre en relation pour comprendre les thèmes.  \\\n",
       "0                                                  0                                                                                        \n",
       "1                                                  0                                                                                        \n",
       "\n",
       "   Lorsque j'analyse une histoire ou un roman : _je pense aux incidents et j'essaie de les mettre en relation pour comprendre les thèmes., Je sais seulement quels sont les thèmes lorsque j'ai fini de lire, puis je dois revenir en arrière et trouver les incidents qui les illustrent.  \\\n",
       "0                                                  0                                                                                                                                                                                                                                         \n",
       "1                                                  0                                                                                                                                                                                                                                         \n",
       "\n",
       "   Lorsque je commence un problème de devoir, j'ai tendance à : _essayer d'abord de bien comprendre le problème.  \\\n",
       "0                                                  1                                                               \n",
       "1                                                  0                                                               \n",
       "\n",
       "   Je préfère l'idée de : _théorie  \\\n",
       "0                                0   \n",
       "1                                1   \n",
       "\n",
       "   Je me souviens mieux : _de ce que je vois.  \\\n",
       "0                                           0   \n",
       "1                                           1   \n",
       "\n",
       "   Je me souviens mieux : _de ce que je vois., de ce que j'entends.  \n",
       "0                                                  1                 \n",
       "1                                                  0                 \n",
       "\n",
       "[2 rows x 28 columns]"
      ]
     },
     "execution_count": 18,
     "metadata": {},
     "output_type": "execute_result"
    }
   ],
   "source": [
    "bd.head(2)"
   ]
  },
  {
   "cell_type": "markdown",
   "id": "0735f980-0edd-423a-909a-09f3acb732b3",
   "metadata": {},
   "source": [
    "# Selectionner les variables"
   ]
  },
  {
   "cell_type": "markdown",
   "id": "ac241226",
   "metadata": {},
   "source": [
    "## Les variables qualitatives, dépendantes"
   ]
  },
  {
   "cell_type": "code",
   "execution_count": 19,
   "id": "26fd31ef",
   "metadata": {},
   "outputs": [],
   "source": [
    "vars_headers = list(bd.columns.values)"
   ]
  },
  {
   "cell_type": "code",
   "execution_count": 20,
   "id": "ce473da5",
   "metadata": {},
   "outputs": [
    {
     "data": {
      "text/plain": [
       "[\"Je comprends mieux quelque chose après l'avoir :_y avoir réfléchi\",\n",
       " 'Je préférerais être considéré comme :_Réaliste',\n",
       " \"Lorsque je pense à ce que j'ai fait hier, j'ai le plus de chances d'avoir : _Une photo\",\n",
       " \"J'ai tendance à : _Comprendre les détails d'un sujet, mais ne pas en saisir la structure générale.\",\n",
       " \"J'ai tendance à : _Comprendre les détails d'un sujet, mais ne pas en saisir la structure générale., Comprendre la structure générale mais peut être flou sur les détails.\",\n",
       " \"Lorsque j'apprends quelque chose de nouveau, cela m'aide à : _en parler, y réfléchir\",\n",
       " \"Lorsque j'apprends quelque chose de nouveau, cela m'aide à : _y réfléchir\",\n",
       " \"Si j'étais enseignant, je préférerais donner un cours : _qui traite de faits et de situations réelles.\",\n",
       " 'Je préfère obtenir de nouvelles informations sous forme : _des images, des diagrammes, des graphiques ou des cartes., des instructions écrites ou des informations orales.',\n",
       " 'Je préfère obtenir de nouvelles informations sous forme : _des instructions écrites ou des informations orales.',\n",
       " \"Une fois que j'ai compris : _Toutes les parties, je comprends l'ensemble.\",\n",
       " \"Une fois que j'ai compris : _Toutes les parties, je comprends l'ensemble., L'ensemble, je vois comment les parties s'emboîtent.\",\n",
       " \"Dans un groupe d'étude travaillant sur une matière difficile, je suis plus enclin à : _participer et apporter des idées.\",\n",
       " \"Je trouve qu'il est plus facile : _d'apprendre des faits.\",\n",
       " \"Dans un livre contenant beaucoup d'images et de graphiques, je suis susceptible de : _regarder attentivement les images et les tableaux.\",\n",
       " \"Dans un livre contenant beaucoup d'images et de graphiques, je suis susceptible de : _regarder attentivement les images et les tableaux., me concentrer sur le texte écrit.\",\n",
       " \"Lorsque je résous des problèmes mathématiques_J'arrive généralement à trouver les solutions étape par étape., Je vois souvent les solutions, mais je dois ensuite m'efforcer de comprendre les étapes pour y parvenir.\",\n",
       " \"Lorsque je résous des problèmes mathématiques_Je vois souvent les solutions, mais je dois ensuite m'efforcer de comprendre les étapes pour y parvenir.\",\n",
       " \"Dans les cours que j'ai suivis : _J'ai rarement appris à connaître beaucoup d'étudiants.\",\n",
       " \"Lorsque je lis des ouvrages non fictionnels, je préfère : _quelque chose qui m'apprend de nouveaux faits ou qui me dit comment faire quelque chose., quelque chose qui me donne de nouvelles idées pour réfléchir.\",\n",
       " 'Lorsque je lis des ouvrages non fictionnels, je préfère : _quelque chose qui me donne de nouvelles idées pour réfléchir.',\n",
       " \"J'aime les professeurs : _qui passent beaucoup de temps à expliquer.\",\n",
       " \"Lorsque j'analyse une histoire ou un roman : _je pense aux incidents et j'essaie de les mettre en relation pour comprendre les thèmes.\",\n",
       " \"Lorsque j'analyse une histoire ou un roman : _je pense aux incidents et j'essaie de les mettre en relation pour comprendre les thèmes., Je sais seulement quels sont les thèmes lorsque j'ai fini de lire, puis je dois revenir en arrière et trouver les incidents qui les illustrent.\",\n",
       " \"Lorsque je commence un problème de devoir, j'ai tendance à : _essayer d'abord de bien comprendre le problème.\",\n",
       " \"Je préfère l'idée de : _théorie\",\n",
       " 'Je me souviens mieux : _de ce que je vois.',\n",
       " \"Je me souviens mieux : _de ce que je vois., de ce que j'entends.\"]"
      ]
     },
     "execution_count": 20,
     "metadata": {},
     "output_type": "execute_result"
    }
   ],
   "source": [
    "vars_headers"
   ]
  },
  {
   "cell_type": "markdown",
   "id": "aa1ad7c4",
   "metadata": {},
   "source": [
    "_____________________________________________________________________________________________________________________________"
   ]
  },
  {
   "cell_type": "markdown",
   "id": "205ee138",
   "metadata": {},
   "source": [
    "## Créer des variables quantitatives, indépendantes"
   ]
  },
  {
   "cell_type": "markdown",
   "id": "3e39aef3",
   "metadata": {},
   "source": [
    "Il faut que je crée des variables quantitatives randoms aussi nommées les variables explicatives ou features, qui vont expliquer les valeurs qualitatives. Dans un Decision Tree Classification, les valeurs qualitatives sont aussi nommées valeurs objectifs. "
   ]
  },
  {
   "cell_type": "markdown",
   "id": "26a803a3",
   "metadata": {},
   "source": [
    "Les valeurs quantitatives seront normalement généré par les cookies et le profil de l'utilisateur. Nous nous avons décidé de ne pas recolter les informations des personnes qui ont répondu à notre questionnaire, car le questionnaire était déjà très long. "
   ]
  },
  {
   "cell_type": "code",
   "execution_count": 21,
   "id": "80d0c182",
   "metadata": {},
   "outputs": [
    {
     "data": {
      "text/plain": [
       "26"
      ]
     },
     "execution_count": 21,
     "metadata": {},
     "output_type": "execute_result"
    }
   ],
   "source": [
    "randint(17, 26)   #génération random d'un nombre entre 17 et 25"
   ]
  },
  {
   "cell_type": "code",
   "execution_count": 22,
   "id": "b3700f56",
   "metadata": {},
   "outputs": [
    {
     "data": {
      "text/plain": [
       "(40, 28)"
      ]
     },
     "execution_count": 22,
     "metadata": {},
     "output_type": "execute_result"
    }
   ],
   "source": [
    "bd.shape"
   ]
  },
  {
   "cell_type": "code",
   "execution_count": 23,
   "id": "2fa12282",
   "metadata": {},
   "outputs": [],
   "source": [
    "arrayage = np.random.randint(17, 26, size=(40, 1))"
   ]
  },
  {
   "cell_type": "code",
   "execution_count": 24,
   "id": "ca4c484e",
   "metadata": {},
   "outputs": [
    {
     "data": {
      "text/html": [
       "<div>\n",
       "<style scoped>\n",
       "    .dataframe tbody tr th:only-of-type {\n",
       "        vertical-align: middle;\n",
       "    }\n",
       "\n",
       "    .dataframe tbody tr th {\n",
       "        vertical-align: top;\n",
       "    }\n",
       "\n",
       "    .dataframe thead th {\n",
       "        text-align: right;\n",
       "    }\n",
       "</style>\n",
       "<table border=\"1\" class=\"dataframe\">\n",
       "  <thead>\n",
       "    <tr style=\"text-align: right;\">\n",
       "      <th></th>\n",
       "      <th>age</th>\n",
       "    </tr>\n",
       "  </thead>\n",
       "  <tbody>\n",
       "    <tr>\n",
       "      <th>0</th>\n",
       "      <td>23</td>\n",
       "    </tr>\n",
       "  </tbody>\n",
       "</table>\n",
       "</div>"
      ],
      "text/plain": [
       "   age\n",
       "0   23"
      ]
     },
     "execution_count": 24,
     "metadata": {},
     "output_type": "execute_result"
    }
   ],
   "source": [
    "df2 = pd.DataFrame(arrayage, columns=['age'])\n",
    "df2.head(1)"
   ]
  },
  {
   "cell_type": "code",
   "execution_count": 25,
   "id": "57c4812f",
   "metadata": {},
   "outputs": [],
   "source": [
    "arraybmi = np.random.randint(19, 31, size=(40, 1))"
   ]
  },
  {
   "cell_type": "code",
   "execution_count": 26,
   "id": "25d8185f",
   "metadata": {},
   "outputs": [
    {
     "data": {
      "text/html": [
       "<div>\n",
       "<style scoped>\n",
       "    .dataframe tbody tr th:only-of-type {\n",
       "        vertical-align: middle;\n",
       "    }\n",
       "\n",
       "    .dataframe tbody tr th {\n",
       "        vertical-align: top;\n",
       "    }\n",
       "\n",
       "    .dataframe thead th {\n",
       "        text-align: right;\n",
       "    }\n",
       "</style>\n",
       "<table border=\"1\" class=\"dataframe\">\n",
       "  <thead>\n",
       "    <tr style=\"text-align: right;\">\n",
       "      <th></th>\n",
       "      <th>bmi</th>\n",
       "    </tr>\n",
       "  </thead>\n",
       "  <tbody>\n",
       "    <tr>\n",
       "      <th>0</th>\n",
       "      <td>26</td>\n",
       "    </tr>\n",
       "  </tbody>\n",
       "</table>\n",
       "</div>"
      ],
      "text/plain": [
       "   bmi\n",
       "0   26"
      ]
     },
     "execution_count": 26,
     "metadata": {},
     "output_type": "execute_result"
    }
   ],
   "source": [
    "df3 = pd.DataFrame(arraybmi, columns=['bmi'])\n",
    "df3.head(1)"
   ]
  },
  {
   "cell_type": "code",
   "execution_count": 27,
   "id": "883d90d9",
   "metadata": {},
   "outputs": [
    {
     "data": {
      "text/html": [
       "<div>\n",
       "<style scoped>\n",
       "    .dataframe tbody tr th:only-of-type {\n",
       "        vertical-align: middle;\n",
       "    }\n",
       "\n",
       "    .dataframe tbody tr th {\n",
       "        vertical-align: top;\n",
       "    }\n",
       "\n",
       "    .dataframe thead th {\n",
       "        text-align: right;\n",
       "    }\n",
       "</style>\n",
       "<table border=\"1\" class=\"dataframe\">\n",
       "  <thead>\n",
       "    <tr style=\"text-align: right;\">\n",
       "      <th></th>\n",
       "      <th>glucose</th>\n",
       "    </tr>\n",
       "  </thead>\n",
       "  <tbody>\n",
       "    <tr>\n",
       "      <th>0</th>\n",
       "      <td>75</td>\n",
       "    </tr>\n",
       "  </tbody>\n",
       "</table>\n",
       "</div>"
      ],
      "text/plain": [
       "   glucose\n",
       "0       75"
      ]
     },
     "execution_count": 27,
     "metadata": {},
     "output_type": "execute_result"
    }
   ],
   "source": [
    "arrayglucose = np.random.randint(70, 100, size=(40, 1))\n",
    "df4 = pd.DataFrame(arrayglucose, columns=['glucose'])\n",
    "df4.head(1)"
   ]
  },
  {
   "cell_type": "code",
   "execution_count": 28,
   "id": "effa046c",
   "metadata": {},
   "outputs": [
    {
     "data": {
      "text/html": [
       "<div>\n",
       "<style scoped>\n",
       "    .dataframe tbody tr th:only-of-type {\n",
       "        vertical-align: middle;\n",
       "    }\n",
       "\n",
       "    .dataframe tbody tr th {\n",
       "        vertical-align: top;\n",
       "    }\n",
       "\n",
       "    .dataframe thead th {\n",
       "        text-align: right;\n",
       "    }\n",
       "</style>\n",
       "<table border=\"1\" class=\"dataframe\">\n",
       "  <thead>\n",
       "    <tr style=\"text-align: right;\">\n",
       "      <th></th>\n",
       "      <th>age</th>\n",
       "      <th>bmi</th>\n",
       "      <th>glucose</th>\n",
       "    </tr>\n",
       "  </thead>\n",
       "  <tbody>\n",
       "    <tr>\n",
       "      <th>0</th>\n",
       "      <td>23</td>\n",
       "      <td>26</td>\n",
       "      <td>75</td>\n",
       "    </tr>\n",
       "    <tr>\n",
       "      <th>1</th>\n",
       "      <td>25</td>\n",
       "      <td>29</td>\n",
       "      <td>70</td>\n",
       "    </tr>\n",
       "  </tbody>\n",
       "</table>\n",
       "</div>"
      ],
      "text/plain": [
       "   age  bmi  glucose\n",
       "0   23   26       75\n",
       "1   25   29       70"
      ]
     },
     "execution_count": 28,
     "metadata": {},
     "output_type": "execute_result"
    }
   ],
   "source": [
    "dftest = pd.concat([df2, df3, df4], axis=1)\n",
    "dftest.head(2)"
   ]
  },
  {
   "cell_type": "markdown",
   "id": "6470ee21",
   "metadata": {},
   "source": [
    "## Base de donnée finale, fin du nettoyage"
   ]
  },
  {
   "cell_type": "code",
   "execution_count": 29,
   "id": "fd3490f2",
   "metadata": {},
   "outputs": [
    {
     "data": {
      "text/html": [
       "<div>\n",
       "<style scoped>\n",
       "    .dataframe tbody tr th:only-of-type {\n",
       "        vertical-align: middle;\n",
       "    }\n",
       "\n",
       "    .dataframe tbody tr th {\n",
       "        vertical-align: top;\n",
       "    }\n",
       "\n",
       "    .dataframe thead th {\n",
       "        text-align: right;\n",
       "    }\n",
       "</style>\n",
       "<table border=\"1\" class=\"dataframe\">\n",
       "  <thead>\n",
       "    <tr style=\"text-align: right;\">\n",
       "      <th></th>\n",
       "      <th>Je comprends mieux quelque chose après l'avoir :_y avoir réfléchi</th>\n",
       "      <th>Je préférerais être considéré comme :_Réaliste</th>\n",
       "      <th>Lorsque je pense à ce que j'ai fait hier, j'ai le plus de chances d'avoir : _Une photo</th>\n",
       "      <th>J'ai tendance à : _Comprendre les détails d'un sujet, mais ne pas en saisir la structure générale.</th>\n",
       "      <th>J'ai tendance à : _Comprendre les détails d'un sujet, mais ne pas en saisir la structure générale., Comprendre la structure générale mais peut être flou sur les détails.</th>\n",
       "      <th>Lorsque j'apprends quelque chose de nouveau, cela m'aide à : _en parler, y réfléchir</th>\n",
       "      <th>Lorsque j'apprends quelque chose de nouveau, cela m'aide à : _y réfléchir</th>\n",
       "      <th>Si j'étais enseignant, je préférerais donner un cours : _qui traite de faits et de situations réelles.</th>\n",
       "      <th>Je préfère obtenir de nouvelles informations sous forme : _des images, des diagrammes, des graphiques ou des cartes., des instructions écrites ou des informations orales.</th>\n",
       "      <th>Je préfère obtenir de nouvelles informations sous forme : _des instructions écrites ou des informations orales.</th>\n",
       "      <th>...</th>\n",
       "      <th>J'aime les professeurs : _qui passent beaucoup de temps à expliquer.</th>\n",
       "      <th>Lorsque j'analyse une histoire ou un roman : _je pense aux incidents et j'essaie de les mettre en relation pour comprendre les thèmes.</th>\n",
       "      <th>Lorsque j'analyse une histoire ou un roman : _je pense aux incidents et j'essaie de les mettre en relation pour comprendre les thèmes., Je sais seulement quels sont les thèmes lorsque j'ai fini de lire, puis je dois revenir en arrière et trouver les incidents qui les illustrent.</th>\n",
       "      <th>Lorsque je commence un problème de devoir, j'ai tendance à : _essayer d'abord de bien comprendre le problème.</th>\n",
       "      <th>Je préfère l'idée de : _théorie</th>\n",
       "      <th>Je me souviens mieux : _de ce que je vois.</th>\n",
       "      <th>Je me souviens mieux : _de ce que je vois., de ce que j'entends.</th>\n",
       "      <th>age</th>\n",
       "      <th>bmi</th>\n",
       "      <th>glucose</th>\n",
       "    </tr>\n",
       "  </thead>\n",
       "  <tbody>\n",
       "    <tr>\n",
       "      <th>0</th>\n",
       "      <td>0</td>\n",
       "      <td>1</td>\n",
       "      <td>1</td>\n",
       "      <td>0</td>\n",
       "      <td>0</td>\n",
       "      <td>0</td>\n",
       "      <td>0</td>\n",
       "      <td>1</td>\n",
       "      <td>0</td>\n",
       "      <td>0</td>\n",
       "      <td>...</td>\n",
       "      <td>0</td>\n",
       "      <td>0</td>\n",
       "      <td>0</td>\n",
       "      <td>1</td>\n",
       "      <td>0</td>\n",
       "      <td>0</td>\n",
       "      <td>1</td>\n",
       "      <td>23</td>\n",
       "      <td>26</td>\n",
       "      <td>75</td>\n",
       "    </tr>\n",
       "  </tbody>\n",
       "</table>\n",
       "<p>1 rows × 31 columns</p>\n",
       "</div>"
      ],
      "text/plain": [
       "   Je comprends mieux quelque chose après l'avoir :_y avoir réfléchi  \\\n",
       "0                                                  0                   \n",
       "\n",
       "   Je préférerais être considéré comme :_Réaliste  \\\n",
       "0                                               1   \n",
       "\n",
       "   Lorsque je pense à ce que j'ai fait hier, j'ai le plus de chances d'avoir : _Une photo  \\\n",
       "0                                                  1                                        \n",
       "\n",
       "   J'ai tendance à : _Comprendre les détails d'un sujet, mais ne pas en saisir la structure générale.  \\\n",
       "0                                                  0                                                    \n",
       "\n",
       "   J'ai tendance à : _Comprendre les détails d'un sujet, mais ne pas en saisir la structure générale., Comprendre la structure générale mais peut être flou sur les détails.  \\\n",
       "0                                                  0                                                                                                                           \n",
       "\n",
       "   Lorsque j'apprends quelque chose de nouveau, cela m'aide à : _en parler, y réfléchir  \\\n",
       "0                                                  0                                      \n",
       "\n",
       "   Lorsque j'apprends quelque chose de nouveau, cela m'aide à : _y réfléchir  \\\n",
       "0                                                  0                           \n",
       "\n",
       "   Si j'étais enseignant, je préférerais donner un cours : _qui traite de faits et de situations réelles.  \\\n",
       "0                                                  1                                                        \n",
       "\n",
       "   Je préfère obtenir de nouvelles informations sous forme : _des images, des diagrammes, des graphiques ou des cartes., des instructions écrites ou des informations orales.  \\\n",
       "0                                                  0                                                                                                                            \n",
       "\n",
       "   Je préfère obtenir de nouvelles informations sous forme : _des instructions écrites ou des informations orales.  \\\n",
       "0                                                  0                                                                 \n",
       "\n",
       "   ...  J'aime les professeurs : _qui passent beaucoup de temps à expliquer.  \\\n",
       "0  ...                                                  0                      \n",
       "\n",
       "   Lorsque j'analyse une histoire ou un roman : _je pense aux incidents et j'essaie de les mettre en relation pour comprendre les thèmes.  \\\n",
       "0                                                  0                                                                                        \n",
       "\n",
       "   Lorsque j'analyse une histoire ou un roman : _je pense aux incidents et j'essaie de les mettre en relation pour comprendre les thèmes., Je sais seulement quels sont les thèmes lorsque j'ai fini de lire, puis je dois revenir en arrière et trouver les incidents qui les illustrent.  \\\n",
       "0                                                  0                                                                                                                                                                                                                                         \n",
       "\n",
       "   Lorsque je commence un problème de devoir, j'ai tendance à : _essayer d'abord de bien comprendre le problème.  \\\n",
       "0                                                  1                                                               \n",
       "\n",
       "   Je préfère l'idée de : _théorie  \\\n",
       "0                                0   \n",
       "\n",
       "   Je me souviens mieux : _de ce que je vois.  \\\n",
       "0                                           0   \n",
       "\n",
       "   Je me souviens mieux : _de ce que je vois., de ce que j'entends.  age  bmi  \\\n",
       "0                                                  1                  23   26   \n",
       "\n",
       "   glucose  \n",
       "0       75  \n",
       "\n",
       "[1 rows x 31 columns]"
      ]
     },
     "execution_count": 29,
     "metadata": {},
     "output_type": "execute_result"
    }
   ],
   "source": [
    "df = pd.concat([bd, dftest], axis=1)\n",
    "df.head(1)"
   ]
  },
  {
   "cell_type": "markdown",
   "id": "9222589d-7fef-410a-86e8-2bb07277b2e2",
   "metadata": {},
   "source": [
    "# Modèle"
   ]
  },
  {
   "cell_type": "markdown",
   "id": "6eb16e31",
   "metadata": {},
   "source": [
    "## Variables dépendantes / Variables indépendantes"
   ]
  },
  {
   "cell_type": "markdown",
   "id": "65aa98dd",
   "metadata": {},
   "source": [
    "Ici, vous devez diviser les colonnes données en deux types de variables dépendantes (ou variables cibles) et variables indépendantes (ou variables de caractéristiques)."
   ]
  },
  {
   "cell_type": "code",
   "execution_count": 30,
   "id": "45be4eb8",
   "metadata": {},
   "outputs": [],
   "source": [
    "feature_cols = ['age', 'bmi', 'glucose']\n",
    "target_cols = vars_headers\n",
    "X = df[feature_cols] # Features\n",
    "y = df[target_cols] # Targets"
   ]
  },
  {
   "cell_type": "markdown",
   "id": "63ecc67c",
   "metadata": {},
   "source": [
    "## Splitting Data"
   ]
  },
  {
   "cell_type": "markdown",
   "id": "74ef16d8",
   "metadata": {},
   "source": [
    "Pour comprendre les performances du modèle, diviser l'ensemble de données en un ensemble d'apprentissage (train data) et un ensemble de test (test data) est une bonne stratégie."
   ]
  },
  {
   "cell_type": "code",
   "execution_count": 31,
   "id": "e917929e",
   "metadata": {},
   "outputs": [],
   "source": [
    "X_train, X_test, y_train, y_test = train_test_split(X, y, test_size=0.3, random_state=1) # 70% training and 30% test"
   ]
  },
  {
   "cell_type": "markdown",
   "id": "0b58e8bc",
   "metadata": {},
   "source": [
    "## Construction du modèle Arbre de Décision "
   ]
  },
  {
   "cell_type": "code",
   "execution_count": 32,
   "id": "83d1ef39",
   "metadata": {},
   "outputs": [],
   "source": [
    "# Create Decision Tree classifer object\n",
    "clf = DecisionTreeClassifier()\n",
    "\n",
    "# Train Decision Tree Classifer\n",
    "clf = clf.fit(X_train,y_train)\n",
    "\n",
    "#Predict the response for test dataset\n",
    "y_pred = clf.predict(X_test)"
   ]
  },
  {
   "cell_type": "code",
   "execution_count": 33,
   "id": "42f96626",
   "metadata": {},
   "outputs": [
    {
     "data": {
      "text/plain": [
       "DecisionTreeClassifier()"
      ]
     },
     "execution_count": 33,
     "metadata": {},
     "output_type": "execute_result"
    }
   ],
   "source": [
    "DecisionTreeClassifier()"
   ]
  },
  {
   "cell_type": "markdown",
   "id": "2b8b4c8a",
   "metadata": {},
   "source": [
    "# Evaluation du modèle"
   ]
  },
  {
   "cell_type": "code",
   "execution_count": 34,
   "id": "9b2b4969",
   "metadata": {},
   "outputs": [
    {
     "data": {
      "text/plain": [
       "Index(['age', 'bmi', 'glucose'], dtype='object')"
      ]
     },
     "execution_count": 34,
     "metadata": {},
     "output_type": "execute_result"
    }
   ],
   "source": [
    "X_train.columns"
   ]
  },
  {
   "cell_type": "code",
   "execution_count": 35,
   "id": "c5829454",
   "metadata": {},
   "outputs": [
    {
     "name": "stdout",
     "output_type": "stream",
     "text": [
      "Accuracy: 0.0\n"
     ]
    }
   ],
   "source": [
    "# Model Accuracy, how often is the classifier correct?\n",
    "print(\"Accuracy:\",metrics.accuracy_score(y_test, y_pred))"
   ]
  },
  {
   "cell_type": "markdown",
   "id": "d1ddbb58",
   "metadata": {},
   "source": [
    "Très mauvaise accuracy puisque l'age le glucose ect non rien avoir avec les réponses "
   ]
  },
  {
   "cell_type": "markdown",
   "id": "90cb8ad4",
   "metadata": {},
   "source": [
    "# Visualisation"
   ]
  },
  {
   "cell_type": "code",
   "execution_count": 36,
   "id": "754e2dfc",
   "metadata": {},
   "outputs": [],
   "source": [
    "from sklearn.tree import  plot_tree"
   ]
  },
  {
   "cell_type": "code",
   "execution_count": 37,
   "id": "71c4daf4",
   "metadata": {},
   "outputs": [
    {
     "data": {
      "text/plain": [
       "[Text(0.5282258064516129, 0.95, 'bmi <= 26.5\\ngini = 0.287\\nsamples = 28\\nvalue = [[23, 5]\\n[12, 16]\\n[7, 21]\\n[19, 9]\\n[27, 1]\\n[27, 1]\\n[16, 12]\\n[4, 24]\\n[27, 1]\\n[25, 3]\\n[16, 12]\\n[27, 1]\\n[11, 17]\\n[7, 21]\\n[4, 24]\\n[27, 1]\\n[27, 1]\\n[22, 6]\\n[15, 13]\\n[27, 1]\\n[20, 8]\\n[12, 16]\\n[7, 21]\\n[27, 1]\\n[10, 18]\\n[21, 7]\\n[7, 21]\\n[27, 1]]'),\n",
       " Text(0.25, 0.85, 'glucose <= 77.5\\ngini = 0.268\\nsamples = 18\\nvalue = [[16, 2]\\n[5, 13]\\n[3, 15]\\n[13, 5]\\n[17, 1]\\n[17, 1]\\n[13, 5]\\n[2, 16]\\n[17, 1]\\n[16, 2]\\n[11, 7]\\n[17, 1]\\n[5, 13]\\n[5, 13]\\n[3, 15]\\n[17, 1]\\n[17, 1]\\n[15, 3]\\n[8, 10]\\n[17, 1]\\n[15, 3]\\n[7, 11]\\n[6, 12]\\n[17, 1]\\n[5, 13]\\n[15, 3]\\n[3, 15]\\n[17, 1]]'),\n",
       " Text(0.16129032258064516, 0.75, 'glucose <= 75.5\\ngini = 0.23\\nsamples = 6\\nvalue = [[5, 1]\\n[0, 6]\\n[1, 5]\\n[5, 1]\\n[5, 1]\\n[5, 1]\\n[6, 0]\\n[0, 6]\\n[5, 1]\\n[6, 0]\\n[4, 2]\\n[5, 1]\\n[0, 6]\\n[2, 4]\\n[1, 5]\\n[5, 1]\\n[5, 1]\\n[6, 0]\\n[5, 1]\\n[5, 1]\\n[6, 0]\\n[3, 3]\\n[3, 3]\\n[6, 0]\\n[3, 3]\\n[6, 0]\\n[2, 4]\\n[5, 1]]'),\n",
       " Text(0.12903225806451613, 0.65, 'bmi <= 25.5\\ngini = 0.166\\nsamples = 5\\nvalue = [[4, 1]\\n[0, 5]\\n[0, 5]\\n[4, 1]\\n[5, 0]\\n[5, 0]\\n[5, 0]\\n[0, 5]\\n[5, 0]\\n[5, 0]\\n[4, 1]\\n[4, 1]\\n[0, 5]\\n[1, 4]\\n[1, 4]\\n[4, 1]\\n[5, 0]\\n[5, 0]\\n[4, 1]\\n[5, 0]\\n[5, 0]\\n[3, 2]\\n[2, 3]\\n[5, 0]\\n[2, 3]\\n[5, 0]\\n[1, 4]\\n[4, 1]]'),\n",
       " Text(0.0967741935483871, 0.55, 'age <= 24.5\\ngini = 0.129\\nsamples = 4\\nvalue = [[3, 1]\\n[0, 4]\\n[0, 4]\\n[3, 1]\\n[4, 0]\\n[4, 0]\\n[4, 0]\\n[0, 4]\\n[4, 0]\\n[4, 0]\\n[3, 1]\\n[3, 1]\\n[0, 4]\\n[0, 4]\\n[1, 3]\\n[3, 1]\\n[4, 0]\\n[4, 0]\\n[4, 0]\\n[4, 0]\\n[4, 0]\\n[2, 2]\\n[1, 3]\\n[4, 0]\\n[2, 2]\\n[4, 0]\\n[0, 4]\\n[4, 0]]'),\n",
       " Text(0.06451612903225806, 0.45, 'bmi <= 22.0\\ngini = 0.095\\nsamples = 3\\nvalue = [[3, 0]\\n[0, 3]\\n[0, 3]\\n[2, 1]\\n[3, 0]\\n[3, 0]\\n[3, 0]\\n[0, 3]\\n[3, 0]\\n[3, 0]\\n[2, 1]\\n[2, 1]\\n[0, 3]\\n[0, 3]\\n[0, 3]\\n[3, 0]\\n[3, 0]\\n[3, 0]\\n[3, 0]\\n[3, 0]\\n[3, 0]\\n[2, 1]\\n[1, 2]\\n[3, 0]\\n[1, 2]\\n[3, 0]\\n[0, 3]\\n[3, 0]]'),\n",
       " Text(0.03225806451612903, 0.35, 'gini = 0.0\\nsamples = 1\\nvalue = [[1, 0]\\n[0, 1]\\n[0, 1]\\n[0, 1]\\n[1, 0]\\n[1, 0]\\n[1, 0]\\n[0, 1]\\n[1, 0]\\n[1, 0]\\n[0, 1]\\n[1, 0]\\n[0, 1]\\n[0, 1]\\n[0, 1]\\n[1, 0]\\n[1, 0]\\n[1, 0]\\n[1, 0]\\n[1, 0]\\n[1, 0]\\n[1, 0]\\n[0, 1]\\n[1, 0]\\n[0, 1]\\n[1, 0]\\n[0, 1]\\n[1, 0]]'),\n",
       " Text(0.0967741935483871, 0.35, 'age <= 21.0\\ngini = 0.071\\nsamples = 2\\nvalue = [[2, 0]\\n[0, 2]\\n[0, 2]\\n[2, 0]\\n[2, 0]\\n[2, 0]\\n[2, 0]\\n[0, 2]\\n[2, 0]\\n[2, 0]\\n[2, 0]\\n[1, 1]\\n[0, 2]\\n[0, 2]\\n[0, 2]\\n[2, 0]\\n[2, 0]\\n[2, 0]\\n[2, 0]\\n[2, 0]\\n[2, 0]\\n[1, 1]\\n[1, 1]\\n[2, 0]\\n[1, 1]\\n[2, 0]\\n[0, 2]\\n[2, 0]]'),\n",
       " Text(0.06451612903225806, 0.25, 'gini = 0.0\\nsamples = 1\\nvalue = [[1, 0]\\n[0, 1]\\n[0, 1]\\n[1, 0]\\n[1, 0]\\n[1, 0]\\n[1, 0]\\n[0, 1]\\n[1, 0]\\n[1, 0]\\n[1, 0]\\n[0, 1]\\n[0, 1]\\n[0, 1]\\n[0, 1]\\n[1, 0]\\n[1, 0]\\n[1, 0]\\n[1, 0]\\n[1, 0]\\n[1, 0]\\n[1, 0]\\n[0, 1]\\n[1, 0]\\n[1, 0]\\n[1, 0]\\n[0, 1]\\n[1, 0]]'),\n",
       " Text(0.12903225806451613, 0.25, 'gini = 0.0\\nsamples = 1\\nvalue = [[1, 0]\\n[0, 1]\\n[0, 1]\\n[1, 0]\\n[1, 0]\\n[1, 0]\\n[1, 0]\\n[0, 1]\\n[1, 0]\\n[1, 0]\\n[1, 0]\\n[1, 0]\\n[0, 1]\\n[0, 1]\\n[0, 1]\\n[1, 0]\\n[1, 0]\\n[1, 0]\\n[1, 0]\\n[1, 0]\\n[1, 0]\\n[0, 1]\\n[1, 0]\\n[1, 0]\\n[0, 1]\\n[1, 0]\\n[0, 1]\\n[1, 0]]'),\n",
       " Text(0.12903225806451613, 0.45, 'gini = 0.0\\nsamples = 1\\nvalue = [[0, 1]\\n[0, 1]\\n[0, 1]\\n[1, 0]\\n[1, 0]\\n[1, 0]\\n[1, 0]\\n[0, 1]\\n[1, 0]\\n[1, 0]\\n[1, 0]\\n[1, 0]\\n[0, 1]\\n[0, 1]\\n[1, 0]\\n[0, 1]\\n[1, 0]\\n[1, 0]\\n[1, 0]\\n[1, 0]\\n[1, 0]\\n[0, 1]\\n[0, 1]\\n[1, 0]\\n[1, 0]\\n[1, 0]\\n[0, 1]\\n[1, 0]]'),\n",
       " Text(0.16129032258064516, 0.55, 'gini = 0.0\\nsamples = 1\\nvalue = [[1, 0]\\n[0, 1]\\n[0, 1]\\n[1, 0]\\n[1, 0]\\n[1, 0]\\n[1, 0]\\n[0, 1]\\n[1, 0]\\n[1, 0]\\n[1, 0]\\n[1, 0]\\n[0, 1]\\n[1, 0]\\n[0, 1]\\n[1, 0]\\n[1, 0]\\n[1, 0]\\n[0, 1]\\n[1, 0]\\n[1, 0]\\n[1, 0]\\n[1, 0]\\n[1, 0]\\n[0, 1]\\n[1, 0]\\n[1, 0]\\n[0, 1]]'),\n",
       " Text(0.1935483870967742, 0.65, 'gini = 0.0\\nsamples = 1\\nvalue = [[1, 0]\\n[0, 1]\\n[1, 0]\\n[1, 0]\\n[0, 1]\\n[0, 1]\\n[1, 0]\\n[0, 1]\\n[0, 1]\\n[1, 0]\\n[0, 1]\\n[1, 0]\\n[0, 1]\\n[1, 0]\\n[0, 1]\\n[1, 0]\\n[0, 1]\\n[1, 0]\\n[1, 0]\\n[0, 1]\\n[1, 0]\\n[0, 1]\\n[1, 0]\\n[1, 0]\\n[1, 0]\\n[1, 0]\\n[1, 0]\\n[1, 0]]'),\n",
       " Text(0.3387096774193548, 0.75, 'glucose <= 84.5\\ngini = 0.248\\nsamples = 12\\nvalue = [[11, 1]\\n[5, 7]\\n[2, 10]\\n[8, 4]\\n[12, 0]\\n[12, 0]\\n[7, 5]\\n[2, 10]\\n[12, 0]\\n[10, 2]\\n[7, 5]\\n[12, 0]\\n[5, 7]\\n[3, 9]\\n[2, 10]\\n[12, 0]\\n[12, 0]\\n[9, 3]\\n[3, 9]\\n[12, 0]\\n[9, 3]\\n[4, 8]\\n[3, 9]\\n[11, 1]\\n[2, 10]\\n[9, 3]\\n[1, 11]\\n[12, 0]]'),\n",
       " Text(0.25806451612903225, 0.65, 'glucose <= 82.5\\ngini = 0.175\\nsamples = 3\\nvalue = [[2, 1]\\n[2, 1]\\n[1, 2]\\n[3, 0]\\n[3, 0]\\n[3, 0]\\n[3, 0]\\n[0, 3]\\n[3, 0]\\n[2, 1]\\n[3, 0]\\n[3, 0]\\n[2, 1]\\n[2, 1]\\n[0, 3]\\n[3, 0]\\n[3, 0]\\n[2, 1]\\n[1, 2]\\n[3, 0]\\n[2, 1]\\n[0, 3]\\n[0, 3]\\n[3, 0]\\n[0, 3]\\n[2, 1]\\n[1, 2]\\n[3, 0]]'),\n",
       " Text(0.22580645161290322, 0.55, 'age <= 20.5\\ngini = 0.125\\nsamples = 2\\nvalue = [[1, 1]\\n[2, 0]\\n[1, 1]\\n[2, 0]\\n[2, 0]\\n[2, 0]\\n[2, 0]\\n[0, 2]\\n[2, 0]\\n[1, 1]\\n[2, 0]\\n[2, 0]\\n[1, 1]\\n[1, 1]\\n[0, 2]\\n[2, 0]\\n[2, 0]\\n[1, 1]\\n[1, 1]\\n[2, 0]\\n[2, 0]\\n[0, 2]\\n[0, 2]\\n[2, 0]\\n[0, 2]\\n[2, 0]\\n[0, 2]\\n[2, 0]]'),\n",
       " Text(0.1935483870967742, 0.45, 'gini = 0.0\\nsamples = 1\\nvalue = [[0, 1]\\n[1, 0]\\n[0, 1]\\n[1, 0]\\n[1, 0]\\n[1, 0]\\n[1, 0]\\n[0, 1]\\n[1, 0]\\n[0, 1]\\n[1, 0]\\n[1, 0]\\n[0, 1]\\n[1, 0]\\n[0, 1]\\n[1, 0]\\n[1, 0]\\n[1, 0]\\n[1, 0]\\n[1, 0]\\n[1, 0]\\n[0, 1]\\n[0, 1]\\n[1, 0]\\n[0, 1]\\n[1, 0]\\n[0, 1]\\n[1, 0]]'),\n",
       " Text(0.25806451612903225, 0.45, 'gini = 0.0\\nsamples = 1\\nvalue = [[1, 0]\\n[1, 0]\\n[1, 0]\\n[1, 0]\\n[1, 0]\\n[1, 0]\\n[1, 0]\\n[0, 1]\\n[1, 0]\\n[1, 0]\\n[1, 0]\\n[1, 0]\\n[1, 0]\\n[0, 1]\\n[0, 1]\\n[1, 0]\\n[1, 0]\\n[0, 1]\\n[0, 1]\\n[1, 0]\\n[1, 0]\\n[0, 1]\\n[0, 1]\\n[1, 0]\\n[0, 1]\\n[1, 0]\\n[0, 1]\\n[1, 0]]'),\n",
       " Text(0.2903225806451613, 0.55, 'gini = 0.0\\nsamples = 1\\nvalue = [[1, 0]\\n[0, 1]\\n[0, 1]\\n[1, 0]\\n[1, 0]\\n[1, 0]\\n[1, 0]\\n[0, 1]\\n[1, 0]\\n[1, 0]\\n[1, 0]\\n[1, 0]\\n[1, 0]\\n[1, 0]\\n[0, 1]\\n[1, 0]\\n[1, 0]\\n[1, 0]\\n[0, 1]\\n[1, 0]\\n[0, 1]\\n[0, 1]\\n[0, 1]\\n[1, 0]\\n[0, 1]\\n[0, 1]\\n[1, 0]\\n[1, 0]]'),\n",
       " Text(0.41935483870967744, 0.65, 'age <= 20.5\\ngini = 0.233\\nsamples = 9\\nvalue = [[9, 0]\\n[3, 6]\\n[1, 8]\\n[5, 4]\\n[9, 0]\\n[9, 0]\\n[4, 5]\\n[2, 7]\\n[9, 0]\\n[8, 1]\\n[4, 5]\\n[9, 0]\\n[3, 6]\\n[1, 8]\\n[2, 7]\\n[9, 0]\\n[9, 0]\\n[7, 2]\\n[2, 7]\\n[9, 0]\\n[7, 2]\\n[4, 5]\\n[3, 6]\\n[8, 1]\\n[2, 7]\\n[7, 2]\\n[0, 9]\\n[9, 0]]'),\n",
       " Text(0.3548387096774194, 0.55, 'age <= 19.5\\ngini = 0.161\\nsamples = 2\\nvalue = [[2, 0]\\n[1, 1]\\n[0, 2]\\n[1, 1]\\n[2, 0]\\n[2, 0]\\n[1, 1]\\n[1, 1]\\n[2, 0]\\n[2, 0]\\n[0, 2]\\n[2, 0]\\n[0, 2]\\n[1, 1]\\n[2, 0]\\n[2, 0]\\n[2, 0]\\n[1, 1]\\n[1, 1]\\n[2, 0]\\n[2, 0]\\n[2, 0]\\n[1, 1]\\n[1, 1]\\n[0, 2]\\n[2, 0]\\n[0, 2]\\n[2, 0]]'),\n",
       " Text(0.3225806451612903, 0.45, 'gini = 0.0\\nsamples = 1\\nvalue = [[1, 0]\\n[1, 0]\\n[0, 1]\\n[1, 0]\\n[1, 0]\\n[1, 0]\\n[0, 1]\\n[0, 1]\\n[1, 0]\\n[1, 0]\\n[0, 1]\\n[1, 0]\\n[0, 1]\\n[0, 1]\\n[1, 0]\\n[1, 0]\\n[1, 0]\\n[1, 0]\\n[0, 1]\\n[1, 0]\\n[1, 0]\\n[1, 0]\\n[0, 1]\\n[1, 0]\\n[0, 1]\\n[1, 0]\\n[0, 1]\\n[1, 0]]'),\n",
       " Text(0.3870967741935484, 0.45, 'gini = 0.0\\nsamples = 1\\nvalue = [[1, 0]\\n[0, 1]\\n[0, 1]\\n[0, 1]\\n[1, 0]\\n[1, 0]\\n[1, 0]\\n[1, 0]\\n[1, 0]\\n[1, 0]\\n[0, 1]\\n[1, 0]\\n[0, 1]\\n[1, 0]\\n[1, 0]\\n[1, 0]\\n[1, 0]\\n[0, 1]\\n[1, 0]\\n[1, 0]\\n[1, 0]\\n[1, 0]\\n[1, 0]\\n[0, 1]\\n[0, 1]\\n[1, 0]\\n[0, 1]\\n[1, 0]]'),\n",
       " Text(0.4838709677419355, 0.55, 'glucose <= 88.0\\ngini = 0.201\\nsamples = 7\\nvalue = [[7, 0]\\n[2, 5]\\n[1, 6]\\n[4, 3]\\n[7, 0]\\n[7, 0]\\n[3, 4]\\n[1, 6]\\n[7, 0]\\n[6, 1]\\n[4, 3]\\n[7, 0]\\n[3, 4]\\n[0, 7]\\n[0, 7]\\n[7, 0]\\n[7, 0]\\n[6, 1]\\n[1, 6]\\n[7, 0]\\n[5, 2]\\n[2, 5]\\n[2, 5]\\n[7, 0]\\n[2, 5]\\n[5, 2]\\n[0, 7]\\n[7, 0]]'),\n",
       " Text(0.45161290322580644, 0.45, 'gini = 0.0\\nsamples = 1\\nvalue = [[1, 0]\\n[0, 1]\\n[1, 0]\\n[0, 1]\\n[1, 0]\\n[1, 0]\\n[0, 1]\\n[0, 1]\\n[1, 0]\\n[1, 0]\\n[0, 1]\\n[1, 0]\\n[1, 0]\\n[0, 1]\\n[0, 1]\\n[1, 0]\\n[1, 0]\\n[1, 0]\\n[0, 1]\\n[1, 0]\\n[0, 1]\\n[0, 1]\\n[1, 0]\\n[1, 0]\\n[1, 0]\\n[1, 0]\\n[0, 1]\\n[1, 0]]'),\n",
       " Text(0.5161290322580645, 0.45, 'age <= 22.5\\ngini = 0.183\\nsamples = 6\\nvalue = [[6, 0]\\n[2, 4]\\n[0, 6]\\n[4, 2]\\n[6, 0]\\n[6, 0]\\n[3, 3]\\n[1, 5]\\n[6, 0]\\n[5, 1]\\n[4, 2]\\n[6, 0]\\n[2, 4]\\n[0, 6]\\n[0, 6]\\n[6, 0]\\n[6, 0]\\n[5, 1]\\n[1, 5]\\n[6, 0]\\n[5, 1]\\n[2, 4]\\n[1, 5]\\n[6, 0]\\n[1, 5]\\n[4, 2]\\n[0, 6]\\n[6, 0]]'),\n",
       " Text(0.45161290322580644, 0.35, 'age <= 21.5\\ngini = 0.071\\nsamples = 2\\nvalue = [[2, 0]\\n[0, 2]\\n[0, 2]\\n[2, 0]\\n[2, 0]\\n[2, 0]\\n[1, 1]\\n[0, 2]\\n[2, 0]\\n[1, 1]\\n[2, 0]\\n[2, 0]\\n[2, 0]\\n[0, 2]\\n[0, 2]\\n[2, 0]\\n[2, 0]\\n[1, 1]\\n[0, 2]\\n[2, 0]\\n[2, 0]\\n[1, 1]\\n[0, 2]\\n[2, 0]\\n[0, 2]\\n[2, 0]\\n[0, 2]\\n[2, 0]]'),\n",
       " Text(0.41935483870967744, 0.25, 'gini = 0.0\\nsamples = 1\\nvalue = [[1, 0]\\n[0, 1]\\n[0, 1]\\n[1, 0]\\n[1, 0]\\n[1, 0]\\n[1, 0]\\n[0, 1]\\n[1, 0]\\n[0, 1]\\n[1, 0]\\n[1, 0]\\n[1, 0]\\n[0, 1]\\n[0, 1]\\n[1, 0]\\n[1, 0]\\n[1, 0]\\n[0, 1]\\n[1, 0]\\n[1, 0]\\n[0, 1]\\n[0, 1]\\n[1, 0]\\n[0, 1]\\n[1, 0]\\n[0, 1]\\n[1, 0]]'),\n",
       " Text(0.4838709677419355, 0.25, 'gini = 0.0\\nsamples = 1\\nvalue = [[1, 0]\\n[0, 1]\\n[0, 1]\\n[1, 0]\\n[1, 0]\\n[1, 0]\\n[0, 1]\\n[0, 1]\\n[1, 0]\\n[1, 0]\\n[1, 0]\\n[1, 0]\\n[1, 0]\\n[0, 1]\\n[0, 1]\\n[1, 0]\\n[1, 0]\\n[0, 1]\\n[0, 1]\\n[1, 0]\\n[1, 0]\\n[1, 0]\\n[0, 1]\\n[1, 0]\\n[0, 1]\\n[1, 0]\\n[0, 1]\\n[1, 0]]'),\n",
       " Text(0.5806451612903226, 0.35, 'glucose <= 92.0\\ngini = 0.17\\nsamples = 4\\nvalue = [[4, 0]\\n[2, 2]\\n[0, 4]\\n[2, 2]\\n[4, 0]\\n[4, 0]\\n[2, 2]\\n[1, 3]\\n[4, 0]\\n[4, 0]\\n[2, 2]\\n[4, 0]\\n[0, 4]\\n[0, 4]\\n[0, 4]\\n[4, 0]\\n[4, 0]\\n[4, 0]\\n[1, 3]\\n[4, 0]\\n[3, 1]\\n[1, 3]\\n[1, 3]\\n[4, 0]\\n[1, 3]\\n[2, 2]\\n[0, 4]\\n[4, 0]]'),\n",
       " Text(0.5483870967741935, 0.25, 'gini = 0.0\\nsamples = 1\\nvalue = [[1, 0]\\n[1, 0]\\n[0, 1]\\n[1, 0]\\n[1, 0]\\n[1, 0]\\n[1, 0]\\n[0, 1]\\n[1, 0]\\n[1, 0]\\n[1, 0]\\n[1, 0]\\n[0, 1]\\n[0, 1]\\n[0, 1]\\n[1, 0]\\n[1, 0]\\n[1, 0]\\n[0, 1]\\n[1, 0]\\n[1, 0]\\n[1, 0]\\n[0, 1]\\n[1, 0]\\n[0, 1]\\n[1, 0]\\n[0, 1]\\n[1, 0]]'),\n",
       " Text(0.6129032258064516, 0.25, 'bmi <= 24.5\\ngini = 0.159\\nsamples = 3\\nvalue = [[3, 0]\\n[1, 2]\\n[0, 3]\\n[1, 2]\\n[3, 0]\\n[3, 0]\\n[1, 2]\\n[1, 2]\\n[3, 0]\\n[3, 0]\\n[1, 2]\\n[3, 0]\\n[0, 3]\\n[0, 3]\\n[0, 3]\\n[3, 0]\\n[3, 0]\\n[3, 0]\\n[1, 2]\\n[3, 0]\\n[2, 1]\\n[0, 3]\\n[1, 2]\\n[3, 0]\\n[1, 2]\\n[1, 2]\\n[0, 3]\\n[3, 0]]'),\n",
       " Text(0.5806451612903226, 0.15, 'gini = 0.0\\nsamples = 1\\nvalue = [[1, 0]\\n[0, 1]\\n[0, 1]\\n[0, 1]\\n[1, 0]\\n[1, 0]\\n[1, 0]\\n[0, 1]\\n[1, 0]\\n[1, 0]\\n[0, 1]\\n[1, 0]\\n[0, 1]\\n[0, 1]\\n[0, 1]\\n[1, 0]\\n[1, 0]\\n[1, 0]\\n[1, 0]\\n[1, 0]\\n[1, 0]\\n[0, 1]\\n[1, 0]\\n[1, 0]\\n[1, 0]\\n[0, 1]\\n[0, 1]\\n[1, 0]]'),\n",
       " Text(0.6451612903225806, 0.15, 'glucose <= 96.0\\ngini = 0.107\\nsamples = 2\\nvalue = [[2, 0]\\n[1, 1]\\n[0, 2]\\n[1, 1]\\n[2, 0]\\n[2, 0]\\n[0, 2]\\n[1, 1]\\n[2, 0]\\n[2, 0]\\n[1, 1]\\n[2, 0]\\n[0, 2]\\n[0, 2]\\n[0, 2]\\n[2, 0]\\n[2, 0]\\n[2, 0]\\n[0, 2]\\n[2, 0]\\n[1, 1]\\n[0, 2]\\n[0, 2]\\n[2, 0]\\n[0, 2]\\n[1, 1]\\n[0, 2]\\n[2, 0]]'),\n",
       " Text(0.6129032258064516, 0.05, 'gini = 0.0\\nsamples = 1\\nvalue = [[1, 0]\\n[0, 1]\\n[0, 1]\\n[1, 0]\\n[1, 0]\\n[1, 0]\\n[0, 1]\\n[1, 0]\\n[1, 0]\\n[1, 0]\\n[0, 1]\\n[1, 0]\\n[0, 1]\\n[0, 1]\\n[0, 1]\\n[1, 0]\\n[1, 0]\\n[1, 0]\\n[0, 1]\\n[1, 0]\\n[1, 0]\\n[0, 1]\\n[0, 1]\\n[1, 0]\\n[0, 1]\\n[0, 1]\\n[0, 1]\\n[1, 0]]'),\n",
       " Text(0.6774193548387096, 0.05, 'gini = 0.0\\nsamples = 1\\nvalue = [[1, 0]\\n[1, 0]\\n[0, 1]\\n[0, 1]\\n[1, 0]\\n[1, 0]\\n[0, 1]\\n[0, 1]\\n[1, 0]\\n[1, 0]\\n[1, 0]\\n[1, 0]\\n[0, 1]\\n[0, 1]\\n[0, 1]\\n[1, 0]\\n[1, 0]\\n[1, 0]\\n[0, 1]\\n[1, 0]\\n[0, 1]\\n[0, 1]\\n[0, 1]\\n[1, 0]\\n[0, 1]\\n[1, 0]\\n[0, 1]\\n[1, 0]]'),\n",
       " Text(0.8064516129032258, 0.85, 'glucose <= 70.5\\ngini = 0.274\\nsamples = 10\\nvalue = [[7, 3]\\n[7, 3]\\n[4, 6]\\n[6, 4]\\n[10, 0]\\n[10, 0]\\n[3, 7]\\n[2, 8]\\n[10, 0]\\n[9, 1]\\n[5, 5]\\n[10, 0]\\n[6, 4]\\n[2, 8]\\n[1, 9]\\n[10, 0]\\n[10, 0]\\n[7, 3]\\n[7, 3]\\n[10, 0]\\n[5, 5]\\n[5, 5]\\n[1, 9]\\n[10, 0]\\n[5, 5]\\n[6, 4]\\n[4, 6]\\n[10, 0]]'),\n",
       " Text(0.7741935483870968, 0.75, 'gini = 0.0\\nsamples = 1\\nvalue = [[0, 1]\\n[1, 0]\\n[1, 0]\\n[1, 0]\\n[1, 0]\\n[1, 0]\\n[1, 0]\\n[0, 1]\\n[1, 0]\\n[1, 0]\\n[1, 0]\\n[1, 0]\\n[1, 0]\\n[0, 1]\\n[1, 0]\\n[1, 0]\\n[1, 0]\\n[1, 0]\\n[1, 0]\\n[1, 0]\\n[0, 1]\\n[0, 1]\\n[1, 0]\\n[1, 0]\\n[1, 0]\\n[0, 1]\\n[0, 1]\\n[1, 0]]'),\n",
       " Text(0.8387096774193549, 0.75, 'glucose <= 91.0\\ngini = 0.259\\nsamples = 9\\nvalue = [[7, 2]\\n[6, 3]\\n[3, 6]\\n[5, 4]\\n[9, 0]\\n[9, 0]\\n[2, 7]\\n[2, 7]\\n[9, 0]\\n[8, 1]\\n[4, 5]\\n[9, 0]\\n[5, 4]\\n[2, 7]\\n[0, 9]\\n[9, 0]\\n[9, 0]\\n[6, 3]\\n[6, 3]\\n[9, 0]\\n[5, 4]\\n[5, 4]\\n[0, 9]\\n[9, 0]\\n[4, 5]\\n[6, 3]\\n[4, 5]\\n[9, 0]]'),\n",
       " Text(0.7741935483870968, 0.65, 'glucose <= 86.0\\ngini = 0.238\\nsamples = 6\\nvalue = [[6, 0]\\n[4, 2]\\n[3, 3]\\n[4, 2]\\n[6, 0]\\n[6, 0]\\n[2, 4]\\n[2, 4]\\n[6, 0]\\n[5, 1]\\n[2, 4]\\n[6, 0]\\n[3, 3]\\n[1, 5]\\n[0, 6]\\n[6, 0]\\n[6, 0]\\n[6, 0]\\n[4, 2]\\n[6, 0]\\n[3, 3]\\n[4, 2]\\n[0, 6]\\n[6, 0]\\n[3, 3]\\n[3, 3]\\n[3, 3]\\n[6, 0]]'),\n",
       " Text(0.7419354838709677, 0.55, 'age <= 19.0\\ngini = 0.211\\nsamples = 5\\nvalue = [[5, 0]\\n[4, 1]\\n[3, 2]\\n[3, 2]\\n[5, 0]\\n[5, 0]\\n[2, 3]\\n[1, 4]\\n[5, 0]\\n[5, 0]\\n[1, 4]\\n[5, 0]\\n[2, 3]\\n[1, 4]\\n[0, 5]\\n[5, 0]\\n[5, 0]\\n[5, 0]\\n[4, 1]\\n[5, 0]\\n[3, 2]\\n[3, 2]\\n[0, 5]\\n[5, 0]\\n[3, 2]\\n[3, 2]\\n[2, 3]\\n[5, 0]]'),\n",
       " Text(0.7096774193548387, 0.45, 'gini = 0.0\\nsamples = 1\\nvalue = [[1, 0]\\n[1, 0]\\n[0, 1]\\n[0, 1]\\n[1, 0]\\n[1, 0]\\n[1, 0]\\n[0, 1]\\n[1, 0]\\n[1, 0]\\n[0, 1]\\n[1, 0]\\n[0, 1]\\n[0, 1]\\n[0, 1]\\n[1, 0]\\n[1, 0]\\n[1, 0]\\n[1, 0]\\n[1, 0]\\n[0, 1]\\n[1, 0]\\n[0, 1]\\n[1, 0]\\n[0, 1]\\n[0, 1]\\n[1, 0]\\n[1, 0]]'),\n",
       " Text(0.7741935483870968, 0.45, 'glucose <= 78.0\\ngini = 0.196\\nsamples = 4\\nvalue = [[4, 0]\\n[3, 1]\\n[3, 1]\\n[3, 1]\\n[4, 0]\\n[4, 0]\\n[1, 3]\\n[1, 3]\\n[4, 0]\\n[4, 0]\\n[1, 3]\\n[4, 0]\\n[2, 2]\\n[1, 3]\\n[0, 4]\\n[4, 0]\\n[4, 0]\\n[4, 0]\\n[3, 1]\\n[4, 0]\\n[3, 1]\\n[2, 2]\\n[0, 4]\\n[4, 0]\\n[3, 1]\\n[3, 1]\\n[1, 3]\\n[4, 0]]'),\n",
       " Text(0.7096774193548387, 0.35, 'age <= 22.5\\ngini = 0.107\\nsamples = 2\\nvalue = [[2, 0]\\n[2, 0]\\n[1, 1]\\n[2, 0]\\n[2, 0]\\n[2, 0]\\n[0, 2]\\n[1, 1]\\n[2, 0]\\n[2, 0]\\n[0, 2]\\n[2, 0]\\n[2, 0]\\n[1, 1]\\n[0, 2]\\n[2, 0]\\n[2, 0]\\n[2, 0]\\n[1, 1]\\n[2, 0]\\n[1, 1]\\n[0, 2]\\n[0, 2]\\n[2, 0]\\n[2, 0]\\n[1, 1]\\n[0, 2]\\n[2, 0]]'),\n",
       " Text(0.6774193548387096, 0.25, 'gini = 0.0\\nsamples = 1\\nvalue = [[1, 0]\\n[1, 0]\\n[0, 1]\\n[1, 0]\\n[1, 0]\\n[1, 0]\\n[0, 1]\\n[1, 0]\\n[1, 0]\\n[1, 0]\\n[0, 1]\\n[1, 0]\\n[1, 0]\\n[1, 0]\\n[0, 1]\\n[1, 0]\\n[1, 0]\\n[1, 0]\\n[0, 1]\\n[1, 0]\\n[1, 0]\\n[0, 1]\\n[0, 1]\\n[1, 0]\\n[1, 0]\\n[0, 1]\\n[0, 1]\\n[1, 0]]'),\n",
       " Text(0.7419354838709677, 0.25, 'gini = 0.0\\nsamples = 1\\nvalue = [[1, 0]\\n[1, 0]\\n[1, 0]\\n[1, 0]\\n[1, 0]\\n[1, 0]\\n[0, 1]\\n[0, 1]\\n[1, 0]\\n[1, 0]\\n[0, 1]\\n[1, 0]\\n[1, 0]\\n[0, 1]\\n[0, 1]\\n[1, 0]\\n[1, 0]\\n[1, 0]\\n[1, 0]\\n[1, 0]\\n[0, 1]\\n[0, 1]\\n[0, 1]\\n[1, 0]\\n[1, 0]\\n[1, 0]\\n[0, 1]\\n[1, 0]]'),\n",
       " Text(0.8387096774193549, 0.35, 'age <= 21.5\\ngini = 0.107\\nsamples = 2\\nvalue = [[2, 0]\\n[1, 1]\\n[2, 0]\\n[1, 1]\\n[2, 0]\\n[2, 0]\\n[1, 1]\\n[0, 2]\\n[2, 0]\\n[2, 0]\\n[1, 1]\\n[2, 0]\\n[0, 2]\\n[0, 2]\\n[0, 2]\\n[2, 0]\\n[2, 0]\\n[2, 0]\\n[2, 0]\\n[2, 0]\\n[2, 0]\\n[2, 0]\\n[0, 2]\\n[2, 0]\\n[1, 1]\\n[2, 0]\\n[1, 1]\\n[2, 0]]'),\n",
       " Text(0.8064516129032258, 0.25, 'gini = 0.0\\nsamples = 1\\nvalue = [[1, 0]\\n[1, 0]\\n[1, 0]\\n[0, 1]\\n[1, 0]\\n[1, 0]\\n[0, 1]\\n[0, 1]\\n[1, 0]\\n[1, 0]\\n[1, 0]\\n[1, 0]\\n[0, 1]\\n[0, 1]\\n[0, 1]\\n[1, 0]\\n[1, 0]\\n[1, 0]\\n[1, 0]\\n[1, 0]\\n[1, 0]\\n[1, 0]\\n[0, 1]\\n[1, 0]\\n[0, 1]\\n[1, 0]\\n[0, 1]\\n[1, 0]]'),\n",
       " Text(0.8709677419354839, 0.25, 'gini = 0.0\\nsamples = 1\\nvalue = [[1, 0]\\n[0, 1]\\n[1, 0]\\n[1, 0]\\n[1, 0]\\n[1, 0]\\n[1, 0]\\n[0, 1]\\n[1, 0]\\n[1, 0]\\n[0, 1]\\n[1, 0]\\n[0, 1]\\n[0, 1]\\n[0, 1]\\n[1, 0]\\n[1, 0]\\n[1, 0]\\n[1, 0]\\n[1, 0]\\n[1, 0]\\n[1, 0]\\n[0, 1]\\n[1, 0]\\n[1, 0]\\n[1, 0]\\n[1, 0]\\n[1, 0]]'),\n",
       " Text(0.8064516129032258, 0.55, 'gini = 0.0\\nsamples = 1\\nvalue = [[1, 0]\\n[0, 1]\\n[0, 1]\\n[1, 0]\\n[1, 0]\\n[1, 0]\\n[0, 1]\\n[1, 0]\\n[1, 0]\\n[0, 1]\\n[1, 0]\\n[1, 0]\\n[1, 0]\\n[0, 1]\\n[0, 1]\\n[1, 0]\\n[1, 0]\\n[1, 0]\\n[0, 1]\\n[1, 0]\\n[0, 1]\\n[1, 0]\\n[0, 1]\\n[1, 0]\\n[0, 1]\\n[0, 1]\\n[1, 0]\\n[1, 0]]'),\n",
       " Text(0.9032258064516129, 0.65, 'glucose <= 94.0\\ngini = 0.175\\nsamples = 3\\nvalue = [[1, 2]\\n[2, 1]\\n[0, 3]\\n[1, 2]\\n[3, 0]\\n[3, 0]\\n[0, 3]\\n[0, 3]\\n[3, 0]\\n[3, 0]\\n[2, 1]\\n[3, 0]\\n[2, 1]\\n[1, 2]\\n[0, 3]\\n[3, 0]\\n[3, 0]\\n[0, 3]\\n[2, 1]\\n[3, 0]\\n[2, 1]\\n[1, 2]\\n[0, 3]\\n[3, 0]\\n[1, 2]\\n[3, 0]\\n[1, 2]\\n[3, 0]]'),\n",
       " Text(0.8709677419354839, 0.55, 'gini = 0.0\\nsamples = 1\\nvalue = [[1, 0]\\n[1, 0]\\n[0, 1]\\n[0, 1]\\n[1, 0]\\n[1, 0]\\n[0, 1]\\n[0, 1]\\n[1, 0]\\n[1, 0]\\n[1, 0]\\n[1, 0]\\n[1, 0]\\n[0, 1]\\n[0, 1]\\n[1, 0]\\n[1, 0]\\n[0, 1]\\n[0, 1]\\n[1, 0]\\n[0, 1]\\n[0, 1]\\n[0, 1]\\n[1, 0]\\n[0, 1]\\n[1, 0]\\n[1, 0]\\n[1, 0]]'),\n",
       " Text(0.9354838709677419, 0.55, 'age <= 19.5\\ngini = 0.125\\nsamples = 2\\nvalue = [[0, 2]\\n[1, 1]\\n[0, 2]\\n[1, 1]\\n[2, 0]\\n[2, 0]\\n[0, 2]\\n[0, 2]\\n[2, 0]\\n[2, 0]\\n[1, 1]\\n[2, 0]\\n[1, 1]\\n[1, 1]\\n[0, 2]\\n[2, 0]\\n[2, 0]\\n[0, 2]\\n[2, 0]\\n[2, 0]\\n[2, 0]\\n[1, 1]\\n[0, 2]\\n[2, 0]\\n[1, 1]\\n[2, 0]\\n[0, 2]\\n[2, 0]]'),\n",
       " Text(0.9032258064516129, 0.45, 'gini = 0.0\\nsamples = 1\\nvalue = [[0, 1]\\n[0, 1]\\n[0, 1]\\n[0, 1]\\n[1, 0]\\n[1, 0]\\n[0, 1]\\n[0, 1]\\n[1, 0]\\n[1, 0]\\n[0, 1]\\n[1, 0]\\n[1, 0]\\n[1, 0]\\n[0, 1]\\n[1, 0]\\n[1, 0]\\n[0, 1]\\n[1, 0]\\n[1, 0]\\n[1, 0]\\n[0, 1]\\n[0, 1]\\n[1, 0]\\n[1, 0]\\n[1, 0]\\n[0, 1]\\n[1, 0]]'),\n",
       " Text(0.967741935483871, 0.45, 'gini = 0.0\\nsamples = 1\\nvalue = [[0, 1]\\n[1, 0]\\n[0, 1]\\n[1, 0]\\n[1, 0]\\n[1, 0]\\n[0, 1]\\n[0, 1]\\n[1, 0]\\n[1, 0]\\n[1, 0]\\n[1, 0]\\n[0, 1]\\n[0, 1]\\n[0, 1]\\n[1, 0]\\n[1, 0]\\n[0, 1]\\n[1, 0]\\n[1, 0]\\n[1, 0]\\n[1, 0]\\n[0, 1]\\n[1, 0]\\n[0, 1]\\n[1, 0]\\n[0, 1]\\n[1, 0]]')]"
      ]
     },
     "execution_count": 37,
     "metadata": {},
     "output_type": "execute_result"
    },
    {
     "data": {
      "image/png": "[encoded data removed]",
      "text/plain": [
       "<Figure size 640x480 with 1 Axes>"
      ]
     },
     "metadata": {},
     "output_type": "display_data"
    }
   ],
   "source": [
    "plot_tree(decision_tree = clf, feature_names = X_train.columns, filled=True)"
   ]
  },
  {
   "cell_type": "code",
   "execution_count": 38,
   "id": "6788e499",
   "metadata": {},
   "outputs": [],
   "source": [
    "import matplotlib.pyplot as plt"
   ]
  },
  {
   "cell_type": "code",
   "execution_count": 39,
   "id": "de776485",
   "metadata": {},
   "outputs": [
    {
     "data": {
      "image/png": "[encoded data removed]",
      "text/plain": [
       "<Figure size 2500x2000 with 1 Axes>"
      ]
     },
     "metadata": {},
     "output_type": "display_data"
    }
   ],
   "source": [
    "fig = plt.figure(figsize=(25,20))\n",
    "_ = plot_tree(clf, \n",
    "                   feature_names=X_train.columns,  \n",
    "                   class_names=y_train,\n",
    "                   filled=True)\n"
   ]
  },
  {
   "cell_type": "code",
   "execution_count": 40,
   "id": "1d1df95a",
   "metadata": {},
   "outputs": [],
   "source": [
    "fig.savefig(\"decistion_tree.png\")\n"
   ]
  },
  {
   "cell_type": "markdown",
   "id": "32a663c8",
   "metadata": {},
   "source": [
    "_______________________________________________________________________\n"
   ]
  },
  {
   "cell_type": "markdown",
   "id": "fecd6e8e",
   "metadata": {},
   "source": [
    "# Conclusions / Axe d'améliorations / Comprendre l'évaluation du modèle"
   ]
  },
  {
   "cell_type": "markdown",
   "id": "d5a74643",
   "metadata": {},
   "source": [
    "## Quel était le but de faire un arbre de décision ? "
   ]
  },
  {
   "cell_type": "markdown",
   "id": "e8533455",
   "metadata": {},
   "source": [
    "## Accuracy 0%, pourquoi ?"
   ]
  },
  {
   "cell_type": "code",
   "execution_count": null,
   "id": "856dc4f7",
   "metadata": {},
   "outputs": [],
   "source": []
  },
  {
   "cell_type": "code",
   "execution_count": null,
   "id": "6bf27618",
   "metadata": {},
   "outputs": [],
   "source": []
  },
  {
   "cell_type": "code",
   "execution_count": null,
   "id": "0871153f",
   "metadata": {},
   "outputs": [],
   "source": []
  },
  {
   "cell_type": "markdown",
   "id": "153777a0",
   "metadata": {},
   "source": [
    "## Comment faire mieux ? "
   ]
  },
  {
   "cell_type": "code",
   "execution_count": null,
   "id": "0edf519c",
   "metadata": {},
   "outputs": [],
   "source": []
  }
 ],
 "metadata": {
  "kernelspec": {
   "display_name": "Python 3 (ipykernel)",
   "language": "python",
   "name": "python3"
  },
  "language_info": {
   "codemirror_mode": {
    "name": "ipython",
    "version": 3
   },
   "file_extension": ".py",
   "mimetype": "text/x-python",
   "name": "python",
   "nbconvert_exporter": "python",
   "pygments_lexer": "ipython3",
   "version": "3.9.12"
  },
  "toc-autonumbering": true,
  "toc-showtags": false
 },
 "nbformat": 4,
 "nbformat_minor": 5
}
